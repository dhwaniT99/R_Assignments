{
  "nbformat": 4,
  "nbformat_minor": 0,
  "metadata": {
    "colab": {
      "name": "Project3.ipynb",
      "provenance": [],
      "collapsed_sections": [
        "MnjsEw5ogw9v",
        "q-pS0xfYhJ_B",
        "7I1DCrk9JzCK",
        "oPBe63vXZwiC",
        "FeAOLkasva3S",
        "g8GVmu54w3Iu",
        "DWHfW-Nmw7Ib"
      ]
    },
    "kernelspec": {
      "name": "python3",
      "display_name": "Python 3"
    },
    "language_info": {
      "name": "python"
    }
  },
  "cells": [
    {
      "cell_type": "markdown",
      "source": [
        "# Importing necessary libraries"
      ],
      "metadata": {
        "id": "pCif3nQD8BfQ"
      }
    },
    {
      "cell_type": "code",
      "source": [
        "from google.colab import drive\n",
        "drive.mount('/content/drive')"
      ],
      "metadata": {
        "colab": {
          "base_uri": "https://localhost:8080/"
        },
        "id": "NUyDzb-ioCoT",
        "outputId": "d9a123d8-33be-487e-a9b8-ec6adc070e8d"
      },
      "execution_count": 24,
      "outputs": [
        {
          "output_type": "stream",
          "name": "stdout",
          "text": [
            "Drive already mounted at /content/drive; to attempt to forcibly remount, call drive.mount(\"/content/drive\", force_remount=True).\n"
          ]
        }
      ]
    },
    {
      "cell_type": "markdown",
      "source": [
        "# Visualising the graph using HVG"
      ],
      "metadata": {
        "id": "fAuwy9AMMFjq"
      }
    },
    {
      "cell_type": "code",
      "source": [
        "import plotly.express as px\n",
        "fig = px.line(x = dataframes_list_cup[2]['id'], y = dataframes_list_cup[2]['attr_x'])\n",
        "fig.show()"
      ],
      "metadata": {
        "colab": {
          "base_uri": "https://localhost:8080/",
          "height": 201
        },
        "id": "t_Ly3B9VeKcv",
        "outputId": "2fd969f1-0261-4b42-8d05-9903c52e06d8"
      },
      "execution_count": 4,
      "outputs": [
        {
          "output_type": "error",
          "ename": "NameError",
          "evalue": "ignored",
          "traceback": [
            "\u001b[0;31m---------------------------------------------------------------------------\u001b[0m",
            "\u001b[0;31mNameError\u001b[0m                                 Traceback (most recent call last)",
            "\u001b[0;32m<ipython-input-4-c62658cdbe94>\u001b[0m in \u001b[0;36m<module>\u001b[0;34m()\u001b[0m\n\u001b[1;32m      1\u001b[0m \u001b[0;32mimport\u001b[0m \u001b[0mplotly\u001b[0m\u001b[0;34m.\u001b[0m\u001b[0mexpress\u001b[0m \u001b[0;32mas\u001b[0m \u001b[0mpx\u001b[0m\u001b[0;34m\u001b[0m\u001b[0;34m\u001b[0m\u001b[0m\n\u001b[0;32m----> 2\u001b[0;31m \u001b[0mfig\u001b[0m \u001b[0;34m=\u001b[0m \u001b[0mpx\u001b[0m\u001b[0;34m.\u001b[0m\u001b[0mline\u001b[0m\u001b[0;34m(\u001b[0m\u001b[0mx\u001b[0m \u001b[0;34m=\u001b[0m \u001b[0mdataframes_list_cup\u001b[0m\u001b[0;34m[\u001b[0m\u001b[0;36m2\u001b[0m\u001b[0;34m]\u001b[0m\u001b[0;34m[\u001b[0m\u001b[0;34m'id'\u001b[0m\u001b[0;34m]\u001b[0m\u001b[0;34m,\u001b[0m \u001b[0my\u001b[0m \u001b[0;34m=\u001b[0m \u001b[0mdataframes_list_cup\u001b[0m\u001b[0;34m[\u001b[0m\u001b[0;36m2\u001b[0m\u001b[0;34m]\u001b[0m\u001b[0;34m[\u001b[0m\u001b[0;34m'attr_x'\u001b[0m\u001b[0;34m]\u001b[0m\u001b[0;34m)\u001b[0m\u001b[0;34m\u001b[0m\u001b[0;34m\u001b[0m\u001b[0m\n\u001b[0m\u001b[1;32m      3\u001b[0m \u001b[0mfig\u001b[0m\u001b[0;34m.\u001b[0m\u001b[0mshow\u001b[0m\u001b[0;34m(\u001b[0m\u001b[0;34m)\u001b[0m\u001b[0;34m\u001b[0m\u001b[0;34m\u001b[0m\u001b[0m\n",
            "\u001b[0;31mNameError\u001b[0m: name 'dataframes_list_cup' is not defined"
          ]
        }
      ]
    },
    {
      "cell_type": "code",
      "source": [
        "!pip install plotly\n",
        "!pip install ts2vg\n",
        "!pip install igraph\n",
        "!pip install pycairo\n",
        "!pip install cairocffi"
      ],
      "metadata": {
        "id": "KQurmxGC0xYb"
      },
      "execution_count": null,
      "outputs": []
    },
    {
      "cell_type": "code",
      "source": [
        "import matplotlib.pyplot as plt\n",
        "import pandas as pd\n",
        "import seaborn as sns\n",
        "from ts2vg import NaturalVG\n",
        "import numpy as np\n",
        "from ts2vg import HorizontalVG\n",
        "import networkx as nx\n",
        "import matplotlib.pyplot as plt\n",
        "from ts2vg import NaturalVG\n",
        "import numpy as np\n",
        "import glob"
      ],
      "metadata": {
        "id": "x5uRdTnxeOtw"
      },
      "execution_count": 5,
      "outputs": []
    },
    {
      "cell_type": "markdown",
      "source": [
        "# Reading all the csv files \n",
        "\n",
        "Accessing all the csv files and then storing into different dataframe\n",
        "\n"
      ],
      "metadata": {
        "id": "MnjsEw5ogw9v"
      }
    },
    {
      "cell_type": "code",
      "source": [
        "list_of_dfs_cd = ['climbingdown_subject1', 'climbingdown_subject2', 'climbingdown_subject3', 'climbingdown_subject4', 'climbingdown_subject5', 'climbingdown_subject6', 'climbingdown_subject7', 'climbingdown_subject8', 'climbingdown_subject9', 'climbingdown_subject10', 'climbingdown_subject11', 'climbingdown_subject12', 'climbingdown_subject13', 'climbingdown_subject14', 'climbingdown_subject15']\n",
        "list_of_dfs_cup = ['climbingup_subject1', 'climbingup_subject2', 'climbingup_subject3', 'climbingup_subject4', 'climbingup_subject5', 'climbingup_subject6', 'climbingup_subject7', 'climbingup_subject8', 'climbingup_subject9', 'climbingup_subject10', 'climbingup_subject11', 'climbingup_subject12', 'climbingup_subject13', 'climbingup_subject14', 'climbingup_subject15']\n",
        "list_of_dfs_w = ['walking_subject1', 'walking_subject2', 'walking_subject3', 'walking_subject4','walking_subject5','walking_subject6','walking_subject7','walking_subject8','walking_subject9','walking_subject10','walking_subject11','walking_subject12','walking_subject13','walking_subject14','walking_subject15'] \n",
        "list_of_dfs_r = ['walking_subject1', 'walking_subject2','walking_subject3','walking_subject4','walking_subject5','walking_subject6','walking_subject7','walking_subject8','walking_subject9','walking_subject10','walking_subject11','walking_subject12','walking_subject13','walking_subject14','walking_subject15']\n",
        "# create empty list\n",
        "dataframes_list_cup = []\n",
        "dataframes_list_cd = []\n",
        "dataframes_list_w = []\n",
        "dataframes_list_r = []\n",
        "  \n",
        "# append datasets into the list for climbing down\n",
        "for i in range(len(list_of_dfs_cup)):\n",
        "    temp_df = pd.read_csv(\"/content/drive/MyDrive/Colab Notebooks/FDAE Datasets/\"+list_of_dfs_cup[i]+\".csv\")\n",
        "    climbing = dataframes_list_cup.append(temp_df, )\n",
        "\n",
        "# append datasets into the list for climbing up\n",
        "for i in range(len(list_of_dfs_cd)):\n",
        "    temp_df = pd.read_csv(\"/content/drive/MyDrive/Colab Notebooks/FDAE Datasets/\"+list_of_dfs_cd[i]+\".csv\")\n",
        "    dataframes_list_cd.append(temp_df)\n",
        "\n",
        "# append datasets into the list for walking\n",
        "for i in range(len(list_of_dfs_w)):\n",
        "    temp_df = pd.read_csv(\"/content/drive/MyDrive/Colab Notebooks/FDAE Datasets/\"+list_of_dfs_w[i]+\".csv\")\n",
        "    dataframes_list_w.append(temp_df)\n",
        "\n",
        "# append datasets into the list for running\n",
        "for i in range(len(list_of_dfs_r)):\n",
        "    temp_df = pd.read_csv(\"/content/drive/MyDrive/Colab Notebooks/FDAE Datasets/\"+list_of_dfs_r[i]+\".csv\")\n",
        "    dataframes_list_r.append(temp_df)"
      ],
      "metadata": {
        "id": "CpBySESMhIAV"
      },
      "execution_count": 26,
      "outputs": []
    },
    {
      "cell_type": "markdown",
      "source": [
        "# Data Manipulation\n"
      ],
      "metadata": {
        "id": "q-pS0xfYhJ_B"
      }
    },
    {
      "cell_type": "markdown",
      "source": [
        "Task 1\n",
        "\n",
        "> Question 1 : Apply natural visibility graph (NVG) and horizontal visibility graph (HVG) to the\n",
        "aforementioned data\n",
        "\n",
        "**Approach**\n",
        "\n",
        "> **Concataneting all the data frames in Python**\n"
      ],
      "metadata": {
        "id": "gL8ujdwRvu_3"
      }
    },
    {
      "cell_type": "code",
      "source": [
        "for filename in glob.glob(\"/content/drive/MyDrive/Colab Notebooks/FDAE Datasets/*climbingup*.csv\"):\n",
        "  print(filename)"
      ],
      "metadata": {
        "colab": {
          "base_uri": "https://localhost:8080/"
        },
        "id": "1KznD1bGTYxZ",
        "outputId": "2c7bec01-0125-4e5b-b304-0a4a6f4ecd7a"
      },
      "execution_count": 27,
      "outputs": [
        {
          "output_type": "stream",
          "name": "stdout",
          "text": [
            "/content/drive/MyDrive/Colab Notebooks/FDAE Datasets/climbingup_subject10.csv\n",
            "/content/drive/MyDrive/Colab Notebooks/FDAE Datasets/climbingup_subject13.csv\n",
            "/content/drive/MyDrive/Colab Notebooks/FDAE Datasets/climbingup_subject11.csv\n",
            "/content/drive/MyDrive/Colab Notebooks/FDAE Datasets/climbingup_subject8.csv\n",
            "/content/drive/MyDrive/Colab Notebooks/FDAE Datasets/climbingup_subject15.csv\n",
            "/content/drive/MyDrive/Colab Notebooks/FDAE Datasets/climbingup_subject9.csv\n",
            "/content/drive/MyDrive/Colab Notebooks/FDAE Datasets/climbingup_subject14.csv\n",
            "/content/drive/MyDrive/Colab Notebooks/FDAE Datasets/climbingup_subject12.csv\n",
            "/content/drive/MyDrive/Colab Notebooks/FDAE Datasets/climbingup_subject7.csv\n",
            "/content/drive/MyDrive/Colab Notebooks/FDAE Datasets/climbingup_subject4.csv\n",
            "/content/drive/MyDrive/Colab Notebooks/FDAE Datasets/climbingup_subject5.csv\n",
            "/content/drive/MyDrive/Colab Notebooks/FDAE Datasets/climbingup_subject2.csv\n",
            "/content/drive/MyDrive/Colab Notebooks/FDAE Datasets/climbingup_subject1.csv\n",
            "/content/drive/MyDrive/Colab Notebooks/FDAE Datasets/climbingup_subject6.csv\n",
            "/content/drive/MyDrive/Colab Notebooks/FDAE Datasets/climbingup_subject3.csv\n"
          ]
        }
      ]
    },
    {
      "cell_type": "code",
      "source": [
        "#getting all the files which have climbing up files \n",
        "all_dfs_cup= [pd.read_csv(filename) for filename in glob.glob(\"/content/drive/MyDrive/Colab Notebooks/FDAE Datasets/*climbingup*.csv\")]\n",
        "climbing_up = pd.concat(all_dfs_cup, axis=0)"
      ],
      "metadata": {
        "id": "IoM_Wx2WoLK-"
      },
      "execution_count": 28,
      "outputs": []
    },
    {
      "cell_type": "code",
      "source": [
        "climbing_up"
      ],
      "metadata": {
        "colab": {
          "base_uri": "https://localhost:8080/",
          "height": 0
        },
        "id": "MQZ-89oeSlJD",
        "outputId": "f97b07c2-a6ab-4a2b-c09f-34018f5b8430"
      },
      "execution_count": 29,
      "outputs": [
        {
          "output_type": "execute_result",
          "data": {
            "text/html": [
              "\n",
              "  <div id=\"df-ebf8089a-106e-4dd9-8c5b-9a30e1287630\">\n",
              "    <div class=\"colab-df-container\">\n",
              "      <div>\n",
              "<style scoped>\n",
              "    .dataframe tbody tr th:only-of-type {\n",
              "        vertical-align: middle;\n",
              "    }\n",
              "\n",
              "    .dataframe tbody tr th {\n",
              "        vertical-align: top;\n",
              "    }\n",
              "\n",
              "    .dataframe thead th {\n",
              "        text-align: right;\n",
              "    }\n",
              "</style>\n",
              "<table border=\"1\" class=\"dataframe\">\n",
              "  <thead>\n",
              "    <tr style=\"text-align: right;\">\n",
              "      <th></th>\n",
              "      <th>id</th>\n",
              "      <th>attr_time</th>\n",
              "      <th>attr_x</th>\n",
              "      <th>attr_y</th>\n",
              "      <th>attr_z</th>\n",
              "    </tr>\n",
              "  </thead>\n",
              "  <tbody>\n",
              "    <tr>\n",
              "      <th>0</th>\n",
              "      <td>1</td>\n",
              "      <td>1436795631146</td>\n",
              "      <td>0.436343</td>\n",
              "      <td>9.634866</td>\n",
              "      <td>-1.126472</td>\n",
              "    </tr>\n",
              "    <tr>\n",
              "      <th>1</th>\n",
              "      <td>2</td>\n",
              "      <td>1436795631147</td>\n",
              "      <td>0.468066</td>\n",
              "      <td>9.636064</td>\n",
              "      <td>-1.108515</td>\n",
              "    </tr>\n",
              "    <tr>\n",
              "      <th>2</th>\n",
              "      <td>3</td>\n",
              "      <td>1436795631148</td>\n",
              "      <td>0.473453</td>\n",
              "      <td>9.644443</td>\n",
              "      <td>-1.070208</td>\n",
              "    </tr>\n",
              "    <tr>\n",
              "      <th>3</th>\n",
              "      <td>4</td>\n",
              "      <td>1436795631149</td>\n",
              "      <td>0.432153</td>\n",
              "      <td>9.564238</td>\n",
              "      <td>-1.046865</td>\n",
              "    </tr>\n",
              "    <tr>\n",
              "      <th>4</th>\n",
              "      <td>5</td>\n",
              "      <td>1436795631150</td>\n",
              "      <td>0.406416</td>\n",
              "      <td>9.590573</td>\n",
              "      <td>-0.997784</td>\n",
              "    </tr>\n",
              "    <tr>\n",
              "      <th>...</th>\n",
              "      <td>...</td>\n",
              "      <td>...</td>\n",
              "      <td>...</td>\n",
              "      <td>...</td>\n",
              "      <td>...</td>\n",
              "    </tr>\n",
              "    <tr>\n",
              "      <th>29546</th>\n",
              "      <td>29547</td>\n",
              "      <td>1436180164935</td>\n",
              "      <td>0.094571</td>\n",
              "      <td>9.849147</td>\n",
              "      <td>-0.256778</td>\n",
              "    </tr>\n",
              "    <tr>\n",
              "      <th>29547</th>\n",
              "      <td>29548</td>\n",
              "      <td>1436180164936</td>\n",
              "      <td>0.117316</td>\n",
              "      <td>9.773131</td>\n",
              "      <td>-0.524929</td>\n",
              "    </tr>\n",
              "    <tr>\n",
              "      <th>29548</th>\n",
              "      <td>29549</td>\n",
              "      <td>1436180164940</td>\n",
              "      <td>-0.140061</td>\n",
              "      <td>9.785701</td>\n",
              "      <td>0.122104</td>\n",
              "    </tr>\n",
              "    <tr>\n",
              "      <th>29549</th>\n",
              "      <td>29550</td>\n",
              "      <td>1436180164962</td>\n",
              "      <td>-0.269348</td>\n",
              "      <td>9.828796</td>\n",
              "      <td>-0.055067</td>\n",
              "    </tr>\n",
              "    <tr>\n",
              "      <th>29550</th>\n",
              "      <td>29551</td>\n",
              "      <td>1436180164985</td>\n",
              "      <td>-0.278924</td>\n",
              "      <td>9.516952</td>\n",
              "      <td>-0.357335</td>\n",
              "    </tr>\n",
              "  </tbody>\n",
              "</table>\n",
              "<p>405342 rows × 5 columns</p>\n",
              "</div>\n",
              "      <button class=\"colab-df-convert\" onclick=\"convertToInteractive('df-ebf8089a-106e-4dd9-8c5b-9a30e1287630')\"\n",
              "              title=\"Convert this dataframe to an interactive table.\"\n",
              "              style=\"display:none;\">\n",
              "        \n",
              "  <svg xmlns=\"http://www.w3.org/2000/svg\" height=\"24px\"viewBox=\"0 0 24 24\"\n",
              "       width=\"24px\">\n",
              "    <path d=\"M0 0h24v24H0V0z\" fill=\"none\"/>\n",
              "    <path d=\"M18.56 5.44l.94 2.06.94-2.06 2.06-.94-2.06-.94-.94-2.06-.94 2.06-2.06.94zm-11 1L8.5 8.5l.94-2.06 2.06-.94-2.06-.94L8.5 2.5l-.94 2.06-2.06.94zm10 10l.94 2.06.94-2.06 2.06-.94-2.06-.94-.94-2.06-.94 2.06-2.06.94z\"/><path d=\"M17.41 7.96l-1.37-1.37c-.4-.4-.92-.59-1.43-.59-.52 0-1.04.2-1.43.59L10.3 9.45l-7.72 7.72c-.78.78-.78 2.05 0 2.83L4 21.41c.39.39.9.59 1.41.59.51 0 1.02-.2 1.41-.59l7.78-7.78 2.81-2.81c.8-.78.8-2.07 0-2.86zM5.41 20L4 18.59l7.72-7.72 1.47 1.35L5.41 20z\"/>\n",
              "  </svg>\n",
              "      </button>\n",
              "      \n",
              "  <style>\n",
              "    .colab-df-container {\n",
              "      display:flex;\n",
              "      flex-wrap:wrap;\n",
              "      gap: 12px;\n",
              "    }\n",
              "\n",
              "    .colab-df-convert {\n",
              "      background-color: #E8F0FE;\n",
              "      border: none;\n",
              "      border-radius: 50%;\n",
              "      cursor: pointer;\n",
              "      display: none;\n",
              "      fill: #1967D2;\n",
              "      height: 32px;\n",
              "      padding: 0 0 0 0;\n",
              "      width: 32px;\n",
              "    }\n",
              "\n",
              "    .colab-df-convert:hover {\n",
              "      background-color: #E2EBFA;\n",
              "      box-shadow: 0px 1px 2px rgba(60, 64, 67, 0.3), 0px 1px 3px 1px rgba(60, 64, 67, 0.15);\n",
              "      fill: #174EA6;\n",
              "    }\n",
              "\n",
              "    [theme=dark] .colab-df-convert {\n",
              "      background-color: #3B4455;\n",
              "      fill: #D2E3FC;\n",
              "    }\n",
              "\n",
              "    [theme=dark] .colab-df-convert:hover {\n",
              "      background-color: #434B5C;\n",
              "      box-shadow: 0px 1px 3px 1px rgba(0, 0, 0, 0.15);\n",
              "      filter: drop-shadow(0px 1px 2px rgba(0, 0, 0, 0.3));\n",
              "      fill: #FFFFFF;\n",
              "    }\n",
              "  </style>\n",
              "\n",
              "      <script>\n",
              "        const buttonEl =\n",
              "          document.querySelector('#df-ebf8089a-106e-4dd9-8c5b-9a30e1287630 button.colab-df-convert');\n",
              "        buttonEl.style.display =\n",
              "          google.colab.kernel.accessAllowed ? 'block' : 'none';\n",
              "\n",
              "        async function convertToInteractive(key) {\n",
              "          const element = document.querySelector('#df-ebf8089a-106e-4dd9-8c5b-9a30e1287630');\n",
              "          const dataTable =\n",
              "            await google.colab.kernel.invokeFunction('convertToInteractive',\n",
              "                                                     [key], {});\n",
              "          if (!dataTable) return;\n",
              "\n",
              "          const docLinkHtml = 'Like what you see? Visit the ' +\n",
              "            '<a target=\"_blank\" href=https://colab.research.google.com/notebooks/data_table.ipynb>data table notebook</a>'\n",
              "            + ' to learn more about interactive tables.';\n",
              "          element.innerHTML = '';\n",
              "          dataTable['output_type'] = 'display_data';\n",
              "          await google.colab.output.renderOutput(dataTable, element);\n",
              "          const docLink = document.createElement('div');\n",
              "          docLink.innerHTML = docLinkHtml;\n",
              "          element.appendChild(docLink);\n",
              "        }\n",
              "      </script>\n",
              "    </div>\n",
              "  </div>\n",
              "  "
            ],
            "text/plain": [
              "          id      attr_time    attr_x    attr_y    attr_z\n",
              "0          1  1436795631146  0.436343  9.634866 -1.126472\n",
              "1          2  1436795631147  0.468066  9.636064 -1.108515\n",
              "2          3  1436795631148  0.473453  9.644443 -1.070208\n",
              "3          4  1436795631149  0.432153  9.564238 -1.046865\n",
              "4          5  1436795631150  0.406416  9.590573 -0.997784\n",
              "...      ...            ...       ...       ...       ...\n",
              "29546  29547  1436180164935  0.094571  9.849147 -0.256778\n",
              "29547  29548  1436180164936  0.117316  9.773131 -0.524929\n",
              "29548  29549  1436180164940 -0.140061  9.785701  0.122104\n",
              "29549  29550  1436180164962 -0.269348  9.828796 -0.055067\n",
              "29550  29551  1436180164985 -0.278924  9.516952 -0.357335\n",
              "\n",
              "[405342 rows x 5 columns]"
            ]
          },
          "metadata": {},
          "execution_count": 29
        }
      ]
    },
    {
      "cell_type": "code",
      "source": [
        "all_dfs_cd = [pd.read_csv(filename) for filename in glob.glob(\"/content/drive/MyDrive/Colab Notebooks/FDAE Datasets/*climbingdown*.csv\")]\n",
        "climbing_down = pd.concat(all_dfs_cd, axis=0)"
      ],
      "metadata": {
        "id": "5AVAQuRHR-ZK"
      },
      "execution_count": 30,
      "outputs": []
    },
    {
      "cell_type": "code",
      "source": [
        "climbing_down"
      ],
      "metadata": {
        "colab": {
          "base_uri": "https://localhost:8080/",
          "height": 0
        },
        "id": "mOJBBMagVEER",
        "outputId": "62ad20c5-e9af-4053-f95e-e0f270abcc0f"
      },
      "execution_count": 31,
      "outputs": [
        {
          "output_type": "execute_result",
          "data": {
            "text/html": [
              "\n",
              "  <div id=\"df-64583636-0ac8-40c2-ba05-04f205a445d1\">\n",
              "    <div class=\"colab-df-container\">\n",
              "      <div>\n",
              "<style scoped>\n",
              "    .dataframe tbody tr th:only-of-type {\n",
              "        vertical-align: middle;\n",
              "    }\n",
              "\n",
              "    .dataframe tbody tr th {\n",
              "        vertical-align: top;\n",
              "    }\n",
              "\n",
              "    .dataframe thead th {\n",
              "        text-align: right;\n",
              "    }\n",
              "</style>\n",
              "<table border=\"1\" class=\"dataframe\">\n",
              "  <thead>\n",
              "    <tr style=\"text-align: right;\">\n",
              "      <th></th>\n",
              "      <th>id</th>\n",
              "      <th>attr_time</th>\n",
              "      <th>attr_x</th>\n",
              "      <th>attr_y</th>\n",
              "      <th>attr_z</th>\n",
              "    </tr>\n",
              "  </thead>\n",
              "  <tbody>\n",
              "    <tr>\n",
              "      <th>0</th>\n",
              "      <td>1</td>\n",
              "      <td>1438343226060</td>\n",
              "      <td>-0.413000</td>\n",
              "      <td>9.501390</td>\n",
              "      <td>0.894833</td>\n",
              "    </tr>\n",
              "    <tr>\n",
              "      <th>1</th>\n",
              "      <td>2</td>\n",
              "      <td>1438343226061</td>\n",
              "      <td>-0.375890</td>\n",
              "      <td>9.455301</td>\n",
              "      <td>0.913388</td>\n",
              "    </tr>\n",
              "    <tr>\n",
              "      <th>2</th>\n",
              "      <td>3</td>\n",
              "      <td>1438343226098</td>\n",
              "      <td>-0.355539</td>\n",
              "      <td>9.466674</td>\n",
              "      <td>0.881066</td>\n",
              "    </tr>\n",
              "    <tr>\n",
              "      <th>3</th>\n",
              "      <td>4</td>\n",
              "      <td>1438343226099</td>\n",
              "      <td>-0.278326</td>\n",
              "      <td>9.470863</td>\n",
              "      <td>0.903811</td>\n",
              "    </tr>\n",
              "    <tr>\n",
              "      <th>4</th>\n",
              "      <td>5</td>\n",
              "      <td>1438343226100</td>\n",
              "      <td>-0.249596</td>\n",
              "      <td>9.551667</td>\n",
              "      <td>0.894234</td>\n",
              "    </tr>\n",
              "    <tr>\n",
              "      <th>...</th>\n",
              "      <td>...</td>\n",
              "      <td>...</td>\n",
              "      <td>...</td>\n",
              "      <td>...</td>\n",
              "      <td>...</td>\n",
              "    </tr>\n",
              "    <tr>\n",
              "      <th>25430</th>\n",
              "      <td>25431</td>\n",
              "      <td>1435997477100</td>\n",
              "      <td>9.301474</td>\n",
              "      <td>1.808221</td>\n",
              "      <td>2.819771</td>\n",
              "    </tr>\n",
              "    <tr>\n",
              "      <th>25431</th>\n",
              "      <td>25432</td>\n",
              "      <td>1435997477120</td>\n",
              "      <td>9.307459</td>\n",
              "      <td>1.821988</td>\n",
              "      <td>2.839523</td>\n",
              "    </tr>\n",
              "    <tr>\n",
              "      <th>25432</th>\n",
              "      <td>25433</td>\n",
              "      <td>1435997477141</td>\n",
              "      <td>9.283517</td>\n",
              "      <td>1.826776</td>\n",
              "      <td>2.808997</td>\n",
              "    </tr>\n",
              "    <tr>\n",
              "      <th>25433</th>\n",
              "      <td>25434</td>\n",
              "      <td>1435997477161</td>\n",
              "      <td>9.279925</td>\n",
              "      <td>1.815403</td>\n",
              "      <td>2.818574</td>\n",
              "    </tr>\n",
              "    <tr>\n",
              "      <th>25434</th>\n",
              "      <td>25435</td>\n",
              "      <td>1435997477182</td>\n",
              "      <td>9.272743</td>\n",
              "      <td>1.818396</td>\n",
              "      <td>2.822764</td>\n",
              "    </tr>\n",
              "  </tbody>\n",
              "</table>\n",
              "<p>321997 rows × 5 columns</p>\n",
              "</div>\n",
              "      <button class=\"colab-df-convert\" onclick=\"convertToInteractive('df-64583636-0ac8-40c2-ba05-04f205a445d1')\"\n",
              "              title=\"Convert this dataframe to an interactive table.\"\n",
              "              style=\"display:none;\">\n",
              "        \n",
              "  <svg xmlns=\"http://www.w3.org/2000/svg\" height=\"24px\"viewBox=\"0 0 24 24\"\n",
              "       width=\"24px\">\n",
              "    <path d=\"M0 0h24v24H0V0z\" fill=\"none\"/>\n",
              "    <path d=\"M18.56 5.44l.94 2.06.94-2.06 2.06-.94-2.06-.94-.94-2.06-.94 2.06-2.06.94zm-11 1L8.5 8.5l.94-2.06 2.06-.94-2.06-.94L8.5 2.5l-.94 2.06-2.06.94zm10 10l.94 2.06.94-2.06 2.06-.94-2.06-.94-.94-2.06-.94 2.06-2.06.94z\"/><path d=\"M17.41 7.96l-1.37-1.37c-.4-.4-.92-.59-1.43-.59-.52 0-1.04.2-1.43.59L10.3 9.45l-7.72 7.72c-.78.78-.78 2.05 0 2.83L4 21.41c.39.39.9.59 1.41.59.51 0 1.02-.2 1.41-.59l7.78-7.78 2.81-2.81c.8-.78.8-2.07 0-2.86zM5.41 20L4 18.59l7.72-7.72 1.47 1.35L5.41 20z\"/>\n",
              "  </svg>\n",
              "      </button>\n",
              "      \n",
              "  <style>\n",
              "    .colab-df-container {\n",
              "      display:flex;\n",
              "      flex-wrap:wrap;\n",
              "      gap: 12px;\n",
              "    }\n",
              "\n",
              "    .colab-df-convert {\n",
              "      background-color: #E8F0FE;\n",
              "      border: none;\n",
              "      border-radius: 50%;\n",
              "      cursor: pointer;\n",
              "      display: none;\n",
              "      fill: #1967D2;\n",
              "      height: 32px;\n",
              "      padding: 0 0 0 0;\n",
              "      width: 32px;\n",
              "    }\n",
              "\n",
              "    .colab-df-convert:hover {\n",
              "      background-color: #E2EBFA;\n",
              "      box-shadow: 0px 1px 2px rgba(60, 64, 67, 0.3), 0px 1px 3px 1px rgba(60, 64, 67, 0.15);\n",
              "      fill: #174EA6;\n",
              "    }\n",
              "\n",
              "    [theme=dark] .colab-df-convert {\n",
              "      background-color: #3B4455;\n",
              "      fill: #D2E3FC;\n",
              "    }\n",
              "\n",
              "    [theme=dark] .colab-df-convert:hover {\n",
              "      background-color: #434B5C;\n",
              "      box-shadow: 0px 1px 3px 1px rgba(0, 0, 0, 0.15);\n",
              "      filter: drop-shadow(0px 1px 2px rgba(0, 0, 0, 0.3));\n",
              "      fill: #FFFFFF;\n",
              "    }\n",
              "  </style>\n",
              "\n",
              "      <script>\n",
              "        const buttonEl =\n",
              "          document.querySelector('#df-64583636-0ac8-40c2-ba05-04f205a445d1 button.colab-df-convert');\n",
              "        buttonEl.style.display =\n",
              "          google.colab.kernel.accessAllowed ? 'block' : 'none';\n",
              "\n",
              "        async function convertToInteractive(key) {\n",
              "          const element = document.querySelector('#df-64583636-0ac8-40c2-ba05-04f205a445d1');\n",
              "          const dataTable =\n",
              "            await google.colab.kernel.invokeFunction('convertToInteractive',\n",
              "                                                     [key], {});\n",
              "          if (!dataTable) return;\n",
              "\n",
              "          const docLinkHtml = 'Like what you see? Visit the ' +\n",
              "            '<a target=\"_blank\" href=https://colab.research.google.com/notebooks/data_table.ipynb>data table notebook</a>'\n",
              "            + ' to learn more about interactive tables.';\n",
              "          element.innerHTML = '';\n",
              "          dataTable['output_type'] = 'display_data';\n",
              "          await google.colab.output.renderOutput(dataTable, element);\n",
              "          const docLink = document.createElement('div');\n",
              "          docLink.innerHTML = docLinkHtml;\n",
              "          element.appendChild(docLink);\n",
              "        }\n",
              "      </script>\n",
              "    </div>\n",
              "  </div>\n",
              "  "
            ],
            "text/plain": [
              "          id      attr_time    attr_x    attr_y    attr_z\n",
              "0          1  1438343226060 -0.413000  9.501390  0.894833\n",
              "1          2  1438343226061 -0.375890  9.455301  0.913388\n",
              "2          3  1438343226098 -0.355539  9.466674  0.881066\n",
              "3          4  1438343226099 -0.278326  9.470863  0.903811\n",
              "4          5  1438343226100 -0.249596  9.551667  0.894234\n",
              "...      ...            ...       ...       ...       ...\n",
              "25430  25431  1435997477100  9.301474  1.808221  2.819771\n",
              "25431  25432  1435997477120  9.307459  1.821988  2.839523\n",
              "25432  25433  1435997477141  9.283517  1.826776  2.808997\n",
              "25433  25434  1435997477161  9.279925  1.815403  2.818574\n",
              "25434  25435  1435997477182  9.272743  1.818396  2.822764\n",
              "\n",
              "[321997 rows x 5 columns]"
            ]
          },
          "metadata": {},
          "execution_count": 31
        }
      ]
    },
    {
      "cell_type": "code",
      "source": [
        "all_dfs_walking = [pd.read_csv(filename) for filename in glob.glob(\"/content/drive/MyDrive/Colab Notebooks/FDAE Datasets/*walking*.csv\")]\n",
        "walking = pd.concat(all_dfs_walking, axis=0)"
      ],
      "metadata": {
        "id": "gKV81iJwT6vQ"
      },
      "execution_count": 32,
      "outputs": []
    },
    {
      "cell_type": "code",
      "source": [
        "walking"
      ],
      "metadata": {
        "colab": {
          "base_uri": "https://localhost:8080/",
          "height": 0
        },
        "id": "WVcPMaonVc7V",
        "outputId": "1a474e89-053b-4b03-a5c5-39e08347d4d6"
      },
      "execution_count": 33,
      "outputs": [
        {
          "output_type": "execute_result",
          "data": {
            "text/html": [
              "\n",
              "  <div id=\"df-1410c40b-82be-4957-a6ed-2ebe051b952f\">\n",
              "    <div class=\"colab-df-container\">\n",
              "      <div>\n",
              "<style scoped>\n",
              "    .dataframe tbody tr th:only-of-type {\n",
              "        vertical-align: middle;\n",
              "    }\n",
              "\n",
              "    .dataframe tbody tr th {\n",
              "        vertical-align: top;\n",
              "    }\n",
              "\n",
              "    .dataframe thead th {\n",
              "        text-align: right;\n",
              "    }\n",
              "</style>\n",
              "<table border=\"1\" class=\"dataframe\">\n",
              "  <thead>\n",
              "    <tr style=\"text-align: right;\">\n",
              "      <th></th>\n",
              "      <th>id</th>\n",
              "      <th>attr_time</th>\n",
              "      <th>attr_x</th>\n",
              "      <th>attr_y</th>\n",
              "      <th>attr_z</th>\n",
              "    </tr>\n",
              "  </thead>\n",
              "  <tbody>\n",
              "    <tr>\n",
              "      <th>0</th>\n",
              "      <td>1</td>\n",
              "      <td>1435993159405</td>\n",
              "      <td>-2.160767</td>\n",
              "      <td>9.400234</td>\n",
              "      <td>0.565032</td>\n",
              "    </tr>\n",
              "    <tr>\n",
              "      <th>1</th>\n",
              "      <td>2</td>\n",
              "      <td>1435993159425</td>\n",
              "      <td>-2.176928</td>\n",
              "      <td>9.395446</td>\n",
              "      <td>0.621295</td>\n",
              "    </tr>\n",
              "    <tr>\n",
              "      <th>2</th>\n",
              "      <td>3</td>\n",
              "      <td>1435993159443</td>\n",
              "      <td>-2.151190</td>\n",
              "      <td>9.382876</td>\n",
              "      <td>0.588974</td>\n",
              "    </tr>\n",
              "    <tr>\n",
              "      <th>3</th>\n",
              "      <td>4</td>\n",
              "      <td>1435993159463</td>\n",
              "      <td>-2.135029</td>\n",
              "      <td>9.319430</td>\n",
              "      <td>0.545878</td>\n",
              "    </tr>\n",
              "    <tr>\n",
              "      <th>4</th>\n",
              "      <td>5</td>\n",
              "      <td>1435993159483</td>\n",
              "      <td>-2.168548</td>\n",
              "      <td>9.306262</td>\n",
              "      <td>0.586579</td>\n",
              "    </tr>\n",
              "    <tr>\n",
              "      <th>...</th>\n",
              "      <td>...</td>\n",
              "      <td>...</td>\n",
              "      <td>...</td>\n",
              "      <td>...</td>\n",
              "      <td>...</td>\n",
              "    </tr>\n",
              "    <tr>\n",
              "      <th>32903</th>\n",
              "      <td>32904</td>\n",
              "      <td>1436610533945</td>\n",
              "      <td>-8.997410</td>\n",
              "      <td>0.909198</td>\n",
              "      <td>2.500145</td>\n",
              "    </tr>\n",
              "    <tr>\n",
              "      <th>32904</th>\n",
              "      <td>32905</td>\n",
              "      <td>1436610533946</td>\n",
              "      <td>-9.036914</td>\n",
              "      <td>0.919373</td>\n",
              "      <td>2.446276</td>\n",
              "    </tr>\n",
              "    <tr>\n",
              "      <th>32905</th>\n",
              "      <td>32906</td>\n",
              "      <td>1436610533947</td>\n",
              "      <td>-9.066842</td>\n",
              "      <td>0.949900</td>\n",
              "      <td>2.422932</td>\n",
              "    </tr>\n",
              "    <tr>\n",
              "      <th>32906</th>\n",
              "      <td>32907</td>\n",
              "      <td>1436610533960</td>\n",
              "      <td>-9.095572</td>\n",
              "      <td>0.998981</td>\n",
              "      <td>2.428918</td>\n",
              "    </tr>\n",
              "    <tr>\n",
              "      <th>32907</th>\n",
              "      <td>32908</td>\n",
              "      <td>1436610533981</td>\n",
              "      <td>-9.153631</td>\n",
              "      <td>0.949301</td>\n",
              "      <td>2.451662</td>\n",
              "    </tr>\n",
              "  </tbody>\n",
              "</table>\n",
              "<p>485850 rows × 5 columns</p>\n",
              "</div>\n",
              "      <button class=\"colab-df-convert\" onclick=\"convertToInteractive('df-1410c40b-82be-4957-a6ed-2ebe051b952f')\"\n",
              "              title=\"Convert this dataframe to an interactive table.\"\n",
              "              style=\"display:none;\">\n",
              "        \n",
              "  <svg xmlns=\"http://www.w3.org/2000/svg\" height=\"24px\"viewBox=\"0 0 24 24\"\n",
              "       width=\"24px\">\n",
              "    <path d=\"M0 0h24v24H0V0z\" fill=\"none\"/>\n",
              "    <path d=\"M18.56 5.44l.94 2.06.94-2.06 2.06-.94-2.06-.94-.94-2.06-.94 2.06-2.06.94zm-11 1L8.5 8.5l.94-2.06 2.06-.94-2.06-.94L8.5 2.5l-.94 2.06-2.06.94zm10 10l.94 2.06.94-2.06 2.06-.94-2.06-.94-.94-2.06-.94 2.06-2.06.94z\"/><path d=\"M17.41 7.96l-1.37-1.37c-.4-.4-.92-.59-1.43-.59-.52 0-1.04.2-1.43.59L10.3 9.45l-7.72 7.72c-.78.78-.78 2.05 0 2.83L4 21.41c.39.39.9.59 1.41.59.51 0 1.02-.2 1.41-.59l7.78-7.78 2.81-2.81c.8-.78.8-2.07 0-2.86zM5.41 20L4 18.59l7.72-7.72 1.47 1.35L5.41 20z\"/>\n",
              "  </svg>\n",
              "      </button>\n",
              "      \n",
              "  <style>\n",
              "    .colab-df-container {\n",
              "      display:flex;\n",
              "      flex-wrap:wrap;\n",
              "      gap: 12px;\n",
              "    }\n",
              "\n",
              "    .colab-df-convert {\n",
              "      background-color: #E8F0FE;\n",
              "      border: none;\n",
              "      border-radius: 50%;\n",
              "      cursor: pointer;\n",
              "      display: none;\n",
              "      fill: #1967D2;\n",
              "      height: 32px;\n",
              "      padding: 0 0 0 0;\n",
              "      width: 32px;\n",
              "    }\n",
              "\n",
              "    .colab-df-convert:hover {\n",
              "      background-color: #E2EBFA;\n",
              "      box-shadow: 0px 1px 2px rgba(60, 64, 67, 0.3), 0px 1px 3px 1px rgba(60, 64, 67, 0.15);\n",
              "      fill: #174EA6;\n",
              "    }\n",
              "\n",
              "    [theme=dark] .colab-df-convert {\n",
              "      background-color: #3B4455;\n",
              "      fill: #D2E3FC;\n",
              "    }\n",
              "\n",
              "    [theme=dark] .colab-df-convert:hover {\n",
              "      background-color: #434B5C;\n",
              "      box-shadow: 0px 1px 3px 1px rgba(0, 0, 0, 0.15);\n",
              "      filter: drop-shadow(0px 1px 2px rgba(0, 0, 0, 0.3));\n",
              "      fill: #FFFFFF;\n",
              "    }\n",
              "  </style>\n",
              "\n",
              "      <script>\n",
              "        const buttonEl =\n",
              "          document.querySelector('#df-1410c40b-82be-4957-a6ed-2ebe051b952f button.colab-df-convert');\n",
              "        buttonEl.style.display =\n",
              "          google.colab.kernel.accessAllowed ? 'block' : 'none';\n",
              "\n",
              "        async function convertToInteractive(key) {\n",
              "          const element = document.querySelector('#df-1410c40b-82be-4957-a6ed-2ebe051b952f');\n",
              "          const dataTable =\n",
              "            await google.colab.kernel.invokeFunction('convertToInteractive',\n",
              "                                                     [key], {});\n",
              "          if (!dataTable) return;\n",
              "\n",
              "          const docLinkHtml = 'Like what you see? Visit the ' +\n",
              "            '<a target=\"_blank\" href=https://colab.research.google.com/notebooks/data_table.ipynb>data table notebook</a>'\n",
              "            + ' to learn more about interactive tables.';\n",
              "          element.innerHTML = '';\n",
              "          dataTable['output_type'] = 'display_data';\n",
              "          await google.colab.output.renderOutput(dataTable, element);\n",
              "          const docLink = document.createElement('div');\n",
              "          docLink.innerHTML = docLinkHtml;\n",
              "          element.appendChild(docLink);\n",
              "        }\n",
              "      </script>\n",
              "    </div>\n",
              "  </div>\n",
              "  "
            ],
            "text/plain": [
              "          id      attr_time    attr_x    attr_y    attr_z\n",
              "0          1  1435993159405 -2.160767  9.400234  0.565032\n",
              "1          2  1435993159425 -2.176928  9.395446  0.621295\n",
              "2          3  1435993159443 -2.151190  9.382876  0.588974\n",
              "3          4  1435993159463 -2.135029  9.319430  0.545878\n",
              "4          5  1435993159483 -2.168548  9.306262  0.586579\n",
              "...      ...            ...       ...       ...       ...\n",
              "32903  32904  1436610533945 -8.997410  0.909198  2.500145\n",
              "32904  32905  1436610533946 -9.036914  0.919373  2.446276\n",
              "32905  32906  1436610533947 -9.066842  0.949900  2.422932\n",
              "32906  32907  1436610533960 -9.095572  0.998981  2.428918\n",
              "32907  32908  1436610533981 -9.153631  0.949301  2.451662\n",
              "\n",
              "[485850 rows x 5 columns]"
            ]
          },
          "metadata": {},
          "execution_count": 33
        }
      ]
    },
    {
      "cell_type": "code",
      "source": [
        "all_dfs_r = [pd.read_csv(filename) for filename in glob.glob(\"/content/drive/MyDrive/Colab Notebooks/FDAE Datasets/*running*.csv\")]\n",
        "running = pd.concat(all_dfs_r, axis=0)"
      ],
      "metadata": {
        "id": "09jaxY4rWcav"
      },
      "execution_count": 34,
      "outputs": []
    },
    {
      "cell_type": "code",
      "source": [
        "dataframes_list_cup[1]"
      ],
      "metadata": {
        "colab": {
          "base_uri": "https://localhost:8080/",
          "height": 0
        },
        "id": "_fJb9qKRcGD6",
        "outputId": "83681a65-225e-4b02-c7fe-d928ff6fdd9e"
      },
      "execution_count": 35,
      "outputs": [
        {
          "output_type": "execute_result",
          "data": {
            "text/html": [
              "\n",
              "  <div id=\"df-b43049ee-d3d2-43fb-ac14-c410017dcdd9\">\n",
              "    <div class=\"colab-df-container\">\n",
              "      <div>\n",
              "<style scoped>\n",
              "    .dataframe tbody tr th:only-of-type {\n",
              "        vertical-align: middle;\n",
              "    }\n",
              "\n",
              "    .dataframe tbody tr th {\n",
              "        vertical-align: top;\n",
              "    }\n",
              "\n",
              "    .dataframe thead th {\n",
              "        text-align: right;\n",
              "    }\n",
              "</style>\n",
              "<table border=\"1\" class=\"dataframe\">\n",
              "  <thead>\n",
              "    <tr style=\"text-align: right;\">\n",
              "      <th></th>\n",
              "      <th>id</th>\n",
              "      <th>attr_time</th>\n",
              "      <th>attr_x</th>\n",
              "      <th>attr_y</th>\n",
              "      <th>attr_z</th>\n",
              "    </tr>\n",
              "  </thead>\n",
              "  <tbody>\n",
              "    <tr>\n",
              "      <th>0</th>\n",
              "      <td>1</td>\n",
              "      <td>1436164600913</td>\n",
              "      <td>-0.752378</td>\n",
              "      <td>9.555858</td>\n",
              "      <td>1.332373</td>\n",
              "    </tr>\n",
              "    <tr>\n",
              "      <th>1</th>\n",
              "      <td>2</td>\n",
              "      <td>1436164600934</td>\n",
              "      <td>-0.781108</td>\n",
              "      <td>9.562442</td>\n",
              "      <td>1.322796</td>\n",
              "    </tr>\n",
              "    <tr>\n",
              "      <th>2</th>\n",
              "      <td>3</td>\n",
              "      <td>1436164600952</td>\n",
              "      <td>-0.787094</td>\n",
              "      <td>9.569026</td>\n",
              "      <td>1.307833</td>\n",
              "    </tr>\n",
              "    <tr>\n",
              "      <th>3</th>\n",
              "      <td>4</td>\n",
              "      <td>1436164600972</td>\n",
              "      <td>-0.743400</td>\n",
              "      <td>9.573215</td>\n",
              "      <td>1.304840</td>\n",
              "    </tr>\n",
              "    <tr>\n",
              "      <th>4</th>\n",
              "      <td>5</td>\n",
              "      <td>1436164600995</td>\n",
              "      <td>-0.749385</td>\n",
              "      <td>9.553463</td>\n",
              "      <td>1.379060</td>\n",
              "    </tr>\n",
              "    <tr>\n",
              "      <th>...</th>\n",
              "      <td>...</td>\n",
              "      <td>...</td>\n",
              "      <td>...</td>\n",
              "      <td>...</td>\n",
              "      <td>...</td>\n",
              "    </tr>\n",
              "    <tr>\n",
              "      <th>25145</th>\n",
              "      <td>25146</td>\n",
              "      <td>1436165104298</td>\n",
              "      <td>0.239420</td>\n",
              "      <td>9.843162</td>\n",
              "      <td>0.314239</td>\n",
              "    </tr>\n",
              "    <tr>\n",
              "      <th>25146</th>\n",
              "      <td>25147</td>\n",
              "      <td>1436165104318</td>\n",
              "      <td>0.413598</td>\n",
              "      <td>10.044873</td>\n",
              "      <td>0.481235</td>\n",
              "    </tr>\n",
              "    <tr>\n",
              "      <th>25147</th>\n",
              "      <td>25148</td>\n",
              "      <td>1436165104338</td>\n",
              "      <td>0.311246</td>\n",
              "      <td>9.838373</td>\n",
              "      <td>0.523133</td>\n",
              "    </tr>\n",
              "    <tr>\n",
              "      <th>25148</th>\n",
              "      <td>25149</td>\n",
              "      <td>1436165104358</td>\n",
              "      <td>0.217274</td>\n",
              "      <td>9.680356</td>\n",
              "      <td>0.514155</td>\n",
              "    </tr>\n",
              "    <tr>\n",
              "      <th>25149</th>\n",
              "      <td>25150</td>\n",
              "      <td>1436165104378</td>\n",
              "      <td>0.110133</td>\n",
              "      <td>9.528923</td>\n",
              "      <td>0.659603</td>\n",
              "    </tr>\n",
              "  </tbody>\n",
              "</table>\n",
              "<p>25150 rows × 5 columns</p>\n",
              "</div>\n",
              "      <button class=\"colab-df-convert\" onclick=\"convertToInteractive('df-b43049ee-d3d2-43fb-ac14-c410017dcdd9')\"\n",
              "              title=\"Convert this dataframe to an interactive table.\"\n",
              "              style=\"display:none;\">\n",
              "        \n",
              "  <svg xmlns=\"http://www.w3.org/2000/svg\" height=\"24px\"viewBox=\"0 0 24 24\"\n",
              "       width=\"24px\">\n",
              "    <path d=\"M0 0h24v24H0V0z\" fill=\"none\"/>\n",
              "    <path d=\"M18.56 5.44l.94 2.06.94-2.06 2.06-.94-2.06-.94-.94-2.06-.94 2.06-2.06.94zm-11 1L8.5 8.5l.94-2.06 2.06-.94-2.06-.94L8.5 2.5l-.94 2.06-2.06.94zm10 10l.94 2.06.94-2.06 2.06-.94-2.06-.94-.94-2.06-.94 2.06-2.06.94z\"/><path d=\"M17.41 7.96l-1.37-1.37c-.4-.4-.92-.59-1.43-.59-.52 0-1.04.2-1.43.59L10.3 9.45l-7.72 7.72c-.78.78-.78 2.05 0 2.83L4 21.41c.39.39.9.59 1.41.59.51 0 1.02-.2 1.41-.59l7.78-7.78 2.81-2.81c.8-.78.8-2.07 0-2.86zM5.41 20L4 18.59l7.72-7.72 1.47 1.35L5.41 20z\"/>\n",
              "  </svg>\n",
              "      </button>\n",
              "      \n",
              "  <style>\n",
              "    .colab-df-container {\n",
              "      display:flex;\n",
              "      flex-wrap:wrap;\n",
              "      gap: 12px;\n",
              "    }\n",
              "\n",
              "    .colab-df-convert {\n",
              "      background-color: #E8F0FE;\n",
              "      border: none;\n",
              "      border-radius: 50%;\n",
              "      cursor: pointer;\n",
              "      display: none;\n",
              "      fill: #1967D2;\n",
              "      height: 32px;\n",
              "      padding: 0 0 0 0;\n",
              "      width: 32px;\n",
              "    }\n",
              "\n",
              "    .colab-df-convert:hover {\n",
              "      background-color: #E2EBFA;\n",
              "      box-shadow: 0px 1px 2px rgba(60, 64, 67, 0.3), 0px 1px 3px 1px rgba(60, 64, 67, 0.15);\n",
              "      fill: #174EA6;\n",
              "    }\n",
              "\n",
              "    [theme=dark] .colab-df-convert {\n",
              "      background-color: #3B4455;\n",
              "      fill: #D2E3FC;\n",
              "    }\n",
              "\n",
              "    [theme=dark] .colab-df-convert:hover {\n",
              "      background-color: #434B5C;\n",
              "      box-shadow: 0px 1px 3px 1px rgba(0, 0, 0, 0.15);\n",
              "      filter: drop-shadow(0px 1px 2px rgba(0, 0, 0, 0.3));\n",
              "      fill: #FFFFFF;\n",
              "    }\n",
              "  </style>\n",
              "\n",
              "      <script>\n",
              "        const buttonEl =\n",
              "          document.querySelector('#df-b43049ee-d3d2-43fb-ac14-c410017dcdd9 button.colab-df-convert');\n",
              "        buttonEl.style.display =\n",
              "          google.colab.kernel.accessAllowed ? 'block' : 'none';\n",
              "\n",
              "        async function convertToInteractive(key) {\n",
              "          const element = document.querySelector('#df-b43049ee-d3d2-43fb-ac14-c410017dcdd9');\n",
              "          const dataTable =\n",
              "            await google.colab.kernel.invokeFunction('convertToInteractive',\n",
              "                                                     [key], {});\n",
              "          if (!dataTable) return;\n",
              "\n",
              "          const docLinkHtml = 'Like what you see? Visit the ' +\n",
              "            '<a target=\"_blank\" href=https://colab.research.google.com/notebooks/data_table.ipynb>data table notebook</a>'\n",
              "            + ' to learn more about interactive tables.';\n",
              "          element.innerHTML = '';\n",
              "          dataTable['output_type'] = 'display_data';\n",
              "          await google.colab.output.renderOutput(dataTable, element);\n",
              "          const docLink = document.createElement('div');\n",
              "          docLink.innerHTML = docLinkHtml;\n",
              "          element.appendChild(docLink);\n",
              "        }\n",
              "      </script>\n",
              "    </div>\n",
              "  </div>\n",
              "  "
            ],
            "text/plain": [
              "          id      attr_time    attr_x     attr_y    attr_z\n",
              "0          1  1436164600913 -0.752378   9.555858  1.332373\n",
              "1          2  1436164600934 -0.781108   9.562442  1.322796\n",
              "2          3  1436164600952 -0.787094   9.569026  1.307833\n",
              "3          4  1436164600972 -0.743400   9.573215  1.304840\n",
              "4          5  1436164600995 -0.749385   9.553463  1.379060\n",
              "...      ...            ...       ...        ...       ...\n",
              "25145  25146  1436165104298  0.239420   9.843162  0.314239\n",
              "25146  25147  1436165104318  0.413598  10.044873  0.481235\n",
              "25147  25148  1436165104338  0.311246   9.838373  0.523133\n",
              "25148  25149  1436165104358  0.217274   9.680356  0.514155\n",
              "25149  25150  1436165104378  0.110133   9.528923  0.659603\n",
              "\n",
              "[25150 rows x 5 columns]"
            ]
          },
          "metadata": {},
          "execution_count": 35
        }
      ]
    },
    {
      "cell_type": "markdown",
      "source": [
        "# An observation\n",
        "\n",
        "The data set is not balanced, not all the activites have same dimensions"
      ],
      "metadata": {
        "id": "snLKUmpicKeb"
      }
    },
    {
      "cell_type": "markdown",
      "source": [
        "# Task 1"
      ],
      "metadata": {
        "id": "vnUnKKrl09TF"
      }
    },
    {
      "cell_type": "markdown",
      "source": [
        "# Observing the acceleration of all the activities"
      ],
      "metadata": {
        "id": "7I1DCrk9JzCK"
      }
    },
    {
      "cell_type": "code",
      "source": [
        "#Visualising the x axis\n",
        "plt.plot(running['attr_x'][1000:1100])#Blue\n",
        "plt.plot(walking['attr_x'][1000:1100])#Orange\n",
        "plt.plot(climbing_up['attr_x'][1000:1100])#Green\n",
        "plt.plot(climbing_down['attr_x'][1000:1100])#Red"
      ],
      "metadata": {
        "id": "9V4Obqu7tDdy",
        "colab": {
          "base_uri": "https://localhost:8080/",
          "height": 0
        },
        "outputId": "db93e862-cd38-4659-95d3-8f4fa92071ce"
      },
      "execution_count": 36,
      "outputs": [
        {
          "output_type": "execute_result",
          "data": {
            "text/plain": [
              "[<matplotlib.lines.Line2D at 0x7fa1963b7090>]"
            ]
          },
          "metadata": {},
          "execution_count": 36
        },
        {
          "output_type": "display_data",
          "data": {
            "image/png": "[encoded data removed]",
            "text/plain": [
              "<Figure size 432x288 with 1 Axes>"
            ]
          },
          "metadata": {
            "needs_background": "light"
          }
        }
      ]
    },
    {
      "cell_type": "code",
      "source": [
        "#Visualising the y axis\n",
        "plt.plot(running['attr_y'][1000:1100])#Blue\n",
        "plt.plot(walking['attr_y'][1000:1100])#Orange\n",
        "plt.plot(climbing_up['attr_y'][1000:1100])#Green\n",
        "plt.plot(climbing_down['attr_y'][1000:1100])#Red"
      ],
      "metadata": {
        "colab": {
          "base_uri": "https://localhost:8080/",
          "height": 0
        },
        "id": "xtycC4lXgAOz",
        "outputId": "2fdff510-20ef-4602-eac0-f630582c0d87"
      },
      "execution_count": 37,
      "outputs": [
        {
          "output_type": "execute_result",
          "data": {
            "text/plain": [
              "[<matplotlib.lines.Line2D at 0x7fa196378290>]"
            ]
          },
          "metadata": {},
          "execution_count": 37
        },
        {
          "output_type": "display_data",
          "data": {
            "image/png": "[encoded data removed]",
            "text/plain": [
              "<Figure size 432x288 with 1 Axes>"
            ]
          },
          "metadata": {
            "needs_background": "light"
          }
        }
      ]
    },
    {
      "cell_type": "code",
      "source": [
        "#Visualising the z axis\n",
        "plt.plot(running['attr_z'][1000:1100])#Blue\n",
        "plt.plot(walking['attr_z'][1000:1100])#Orange\n",
        "plt.plot(climbing_up['attr_z'][1000:1100])#Green\n",
        "plt.plot(climbing_down['attr_z'][1000:1100])#Red\n"
      ],
      "metadata": {
        "colab": {
          "base_uri": "https://localhost:8080/",
          "height": 0
        },
        "id": "6jsb078SgIlf",
        "outputId": "f6cb7df5-4c77-498b-83af-936058c2f0ac"
      },
      "execution_count": 38,
      "outputs": [
        {
          "output_type": "execute_result",
          "data": {
            "text/plain": [
              "[<matplotlib.lines.Line2D at 0x7fa196331e10>]"
            ]
          },
          "metadata": {},
          "execution_count": 38
        },
        {
          "output_type": "display_data",
          "data": {
            "image/png": "[encoded data removed]",
            "text/plain": [
              "<Figure size 432x288 with 1 Axes>"
            ]
          },
          "metadata": {
            "needs_background": "light"
          }
        }
      ]
    },
    {
      "cell_type": "markdown",
      "source": [
        "# Apply HVG and NVG "
      ],
      "metadata": {
        "id": "LRdyqLzcRjRz"
      }
    },
    {
      "cell_type": "markdown",
      "source": [
        "# Reading the visibilty graphs\n"
      ],
      "metadata": {
        "id": "nevU9-FUiC76"
      }
    },
    {
      "cell_type": "code",
      "source": [
        "def sampler(index, activity, axis):\n",
        "  cup2 = activity[index]\n",
        "  df_2 = cup2[1000:2024]\n",
        "  ts = df_2[axis]\n",
        "  return(ts)"
      ],
      "metadata": {
        "id": "8QwinL-dMdyz"
      },
      "execution_count": 39,
      "outputs": []
    },
    {
      "cell_type": "code",
      "source": [
        "def getNVG(index, activity_dfs, axis):\n",
        "  ng = NaturalVG()\n",
        "  ng.build(sampler(index, activity_dfs, axis))\n",
        "  return(ng.as_igraph())\n",
        "\n",
        "def getHVG(x, activity_dfs, axis):\n",
        "  hg = HorizontalVG()\n",
        "  hg.build(sampler(x, activity_dfs, axis))\n",
        "  return(hg.as_igraph())"
      ],
      "metadata": {
        "id": "85Wgb-6dVdvz"
      },
      "execution_count": 40,
      "outputs": []
    },
    {
      "cell_type": "code",
      "source": [
        "#HVG for walking in all directions\n",
        "hw_x = [getHVG(0,dataframes_list_w, 'attr_x'), getHVG(1,dataframes_list_w, 'attr_x'),getHVG(2,dataframes_list_w, 'attr_x'),getHVG(3,dataframes_list_w, 'attr_x'),getHVG(4,dataframes_list_w, 'attr_x'),getHVG(5,dataframes_list_w, 'attr_x'),getHVG(6,dataframes_list_w, 'attr_x'),getHVG(7,dataframes_list_w, 'attr_x'),getHVG(8,dataframes_list_w, 'attr_x'),getHVG(9,dataframes_list_w, 'attr_x'),getHVG(10,dataframes_list_w, 'attr_x'),getHVG(11,dataframes_list_w, 'attr_x'),getHVG(12,dataframes_list_w, 'attr_x'),getHVG(13,dataframes_list_w, 'attr_x'),getHVG(14,dataframes_list_w, 'attr_x')]\n",
        "hw_y = [getHVG(0,dataframes_list_w, 'attr_y'), getHVG(1,dataframes_list_w, 'attr_y'),getHVG(2,dataframes_list_w, 'attr_y'),getHVG(3,dataframes_list_w, 'attr_y'),getHVG(4,dataframes_list_w, 'attr_y'),getHVG(5,dataframes_list_w, 'attr_y'),getHVG(6,dataframes_list_w, 'attr_y'),getHVG(7,dataframes_list_w, 'attr_y'),getHVG(8,dataframes_list_w, 'attr_y'),getHVG(9,dataframes_list_w, 'attr_y'),getHVG(10,dataframes_list_w, 'attr_y'),getHVG(11,dataframes_list_w, 'attr_y'),getHVG(12,dataframes_list_w, 'attr_y'),getHVG(13,dataframes_list_w, 'attr_y'),getHVG(14,dataframes_list_w, 'attr_y')]\n",
        "hw_z = [getHVG(0,dataframes_list_w, 'attr_z'), getHVG(1,dataframes_list_w, 'attr_z'),getHVG(2,dataframes_list_w, 'attr_z'),getHVG(3,dataframes_list_w, 'attr_z'),getHVG(4,dataframes_list_w, 'attr_z'),getHVG(5,dataframes_list_w, 'attr_z'),getHVG(6,dataframes_list_w, 'attr_z'),getHVG(7,dataframes_list_w, 'attr_z'),getHVG(8,dataframes_list_w, 'attr_z'),getHVG(9,dataframes_list_w, 'attr_z'),getHVG(10,dataframes_list_w, 'attr_z'),getHVG(11,dataframes_list_w, 'attr_z'),getHVG(12,dataframes_list_w, 'attr_z'),getHVG(13,dataframes_list_w, 'attr_z'),getHVG(14,dataframes_list_w, 'attr_z')]\n",
        "\n",
        "#HVG for running all directions\n",
        "hr_x = [getHVG(0,dataframes_list_r, 'attr_x'), getHVG(1,dataframes_list_r, 'attr_x'),getHVG(2,dataframes_list_r, 'attr_x'),getHVG(3,dataframes_list_r, 'attr_x'),getHVG(4,dataframes_list_r, 'attr_x'),getHVG(5,dataframes_list_r, 'attr_x'),getHVG(6,dataframes_list_r, 'attr_x'),getHVG(7,dataframes_list_r, 'attr_x'),getHVG(8,dataframes_list_r, 'attr_x'),getHVG(9,dataframes_list_r, 'attr_x'),getHVG(10,dataframes_list_r, 'attr_x'),getHVG(11,dataframes_list_r, 'attr_x'),getHVG(12,dataframes_list_r, 'attr_x'),getHVG(13,dataframes_list_r, 'attr_x'),getHVG(14,dataframes_list_r, 'attr_x')]\n",
        "hr_y = [getHVG(0,dataframes_list_r, 'attr_y'), getHVG(1,dataframes_list_r, 'attr_y'),getHVG(2,dataframes_list_r, 'attr_y'),getHVG(3,dataframes_list_r, 'attr_y'),getHVG(4,dataframes_list_r, 'attr_y'),getHVG(5,dataframes_list_r, 'attr_y'),getHVG(6,dataframes_list_r, 'attr_y'),getHVG(7,dataframes_list_r, 'attr_y'),getHVG(8,dataframes_list_r, 'attr_y'),getHVG(9,dataframes_list_r, 'attr_y'),getHVG(10,dataframes_list_r, 'attr_y'),getHVG(11,dataframes_list_r, 'attr_y'),getHVG(12,dataframes_list_r, 'attr_y'),getHVG(13,dataframes_list_r, 'attr_y'),getHVG(14,dataframes_list_r, 'attr_y')]\n",
        "hr_z = [getHVG(0,dataframes_list_r, 'attr_z'), getHVG(1,dataframes_list_r, 'attr_z'),getHVG(2,dataframes_list_r, 'attr_z'),getHVG(3,dataframes_list_r, 'attr_z'),getHVG(4,dataframes_list_r, 'attr_z'),getHVG(5,dataframes_list_r, 'attr_z'),getHVG(6,dataframes_list_r, 'attr_z'),getHVG(7,dataframes_list_r, 'attr_z'),getHVG(8,dataframes_list_r, 'attr_z'),getHVG(9,dataframes_list_r, 'attr_z'),getHVG(10,dataframes_list_r, 'attr_z'),getHVG(11,dataframes_list_r, 'attr_z'),getHVG(12,dataframes_list_r, 'attr_z'),getHVG(13,dataframes_list_r, 'attr_z'),getHVG(14,dataframes_list_r, 'attr_z')]\n",
        "\n",
        "#HVG for climbing up in all directions \n",
        "hcup_x = [getHVG(0,dataframes_list_cup, 'attr_x'), getHVG(1,dataframes_list_cup, 'attr_x'),getHVG(2,dataframes_list_cup, 'attr_x'),getHVG(3,dataframes_list_cup, 'attr_x'),getHVG(4,dataframes_list_cup, 'attr_x'),getHVG(5,dataframes_list_cup, 'attr_x'),getHVG(6,dataframes_list_cup, 'attr_x'),getHVG(7,dataframes_list_cup, 'attr_x'),getHVG(8,dataframes_list_cup, 'attr_x'),getHVG(9,dataframes_list_cup, 'attr_x'),getHVG(10,dataframes_list_cup, 'attr_x'),getHVG(11,dataframes_list_cup, 'attr_x'),getHVG(12,dataframes_list_cup, 'attr_x'),getHVG(13,dataframes_list_cup, 'attr_x'),getHVG(14,dataframes_list_cup, 'attr_x')]\n",
        "hcup_y = [getHVG(0,dataframes_list_cup, 'attr_y'), getHVG(1,dataframes_list_cup, 'attr_y'),getHVG(2,dataframes_list_cup, 'attr_y'),getHVG(3,dataframes_list_cup, 'attr_y'),getHVG(4,dataframes_list_cup, 'attr_y'),getHVG(5,dataframes_list_cup, 'attr_y'),getHVG(6,dataframes_list_cup, 'attr_y'),getHVG(7,dataframes_list_cup, 'attr_y'),getHVG(8,dataframes_list_cup, 'attr_y'),getHVG(9,dataframes_list_cup, 'attr_y'),getHVG(10,dataframes_list_cup, 'attr_y'),getHVG(11,dataframes_list_cup, 'attr_y'),getHVG(12,dataframes_list_cup, 'attr_y'),getHVG(13,dataframes_list_cup, 'attr_y'),getHVG(14,dataframes_list_cup, 'attr_y')]\n",
        "hcup_z = [getHVG(0,dataframes_list_cup, 'attr_z'), getHVG(1,dataframes_list_cup, 'attr_z'),getHVG(2,dataframes_list_cup, 'attr_z'),getHVG(3,dataframes_list_cup, 'attr_z'),getHVG(4,dataframes_list_cup, 'attr_z'),getHVG(5,dataframes_list_cup, 'attr_z'),getHVG(6,dataframes_list_cup, 'attr_z'),getHVG(7,dataframes_list_cup, 'attr_z'),getHVG(8,dataframes_list_cup, 'attr_z'),getHVG(9,dataframes_list_cup, 'attr_z'),getHVG(10,dataframes_list_cup, 'attr_z'),getHVG(11,dataframes_list_cup, 'attr_z'),getHVG(12,dataframes_list_cup, 'attr_z'),getHVG(13,dataframes_list_cup, 'attr_z'),getHVG(14,dataframes_list_cup, 'attr_z')]\n",
        "\n",
        "#HVG for climbing down in all directions\n",
        "hcd_x = [getHVG(0,dataframes_list_cd, 'attr_x'), getHVG(1,dataframes_list_cd, 'attr_x'),getHVG(2,dataframes_list_cd, 'attr_x'),getHVG(3,dataframes_list_cd, 'attr_x'),getHVG(4,dataframes_list_cd, 'attr_x'),getHVG(5,dataframes_list_cd, 'attr_x'),getHVG(6,dataframes_list_cd, 'attr_x'),getHVG(7,dataframes_list_cd, 'attr_x'),getHVG(8,dataframes_list_cd, 'attr_x'),getHVG(9,dataframes_list_cd, 'attr_x'),getHVG(10,dataframes_list_cd, 'attr_x'),getHVG(11,dataframes_list_cd, 'attr_x'),getHVG(12,dataframes_list_cd, 'attr_x'),getHVG(13,dataframes_list_cd, 'attr_x'),getHVG(14,dataframes_list_cd, 'attr_x')]\n",
        "hcd_y = [getHVG(0,dataframes_list_cd, 'attr_y'), getHVG(1,dataframes_list_cd, 'attr_y'),getHVG(2,dataframes_list_cd, 'attr_y'),getHVG(3,dataframes_list_cd, 'attr_y'),getHVG(4,dataframes_list_cd, 'attr_y'),getHVG(5,dataframes_list_cd, 'attr_y'),getHVG(6,dataframes_list_cd, 'attr_y'),getHVG(7,dataframes_list_cd, 'attr_y'),getHVG(8,dataframes_list_cd, 'attr_y'),getHVG(9,dataframes_list_cd, 'attr_y'),getHVG(10,dataframes_list_cd, 'attr_y'),getHVG(11,dataframes_list_cd, 'attr_y'),getHVG(12,dataframes_list_cd, 'attr_y'),getHVG(13,dataframes_list_cd, 'attr_y'),getHVG(14,dataframes_list_cd, 'attr_y')]\n",
        "hcd_z = [getHVG(0,dataframes_list_cd, 'attr_z'), getHVG(1,dataframes_list_cd, 'attr_z'),getHVG(2,dataframes_list_cd, 'attr_z'),getHVG(3,dataframes_list_cd, 'attr_z'),getHVG(4,dataframes_list_cd, 'attr_z'),getHVG(5,dataframes_list_cd, 'attr_z'),getHVG(6,dataframes_list_cd, 'attr_z'),getHVG(7,dataframes_list_cd, 'attr_z'),getHVG(8,dataframes_list_cd, 'attr_z'),getHVG(9,dataframes_list_cd, 'attr_z'),getHVG(10,dataframes_list_cd, 'attr_z'),getHVG(11,dataframes_list_cd, 'attr_z'),getHVG(12,dataframes_list_cd, 'attr_z'),getHVG(13,dataframes_list_cd, 'attr_z'),getHVG(14,dataframes_list_cd, 'attr_z')]"
      ],
      "metadata": {
        "id": "jH_WWS3a9YAr"
      },
      "execution_count": 41,
      "outputs": []
    },
    {
      "cell_type": "code",
      "source": [
        "#NVG for walking in all directions\n",
        "nw_x = [getNVG(0,dataframes_list_w, 'attr_x'), getNVG(1,dataframes_list_w, 'attr_x'),getNVG(2,dataframes_list_w, 'attr_x'),getNVG(3,dataframes_list_w, 'attr_x'),getNVG(4,dataframes_list_w, 'attr_x'),getNVG(5,dataframes_list_w, 'attr_x'),getNVG(6,dataframes_list_w, 'attr_x'),getNVG(7,dataframes_list_w, 'attr_x'),getNVG(8,dataframes_list_w, 'attr_x'),getNVG(9,dataframes_list_w, 'attr_x'),getNVG(10,dataframes_list_w, 'attr_x'),getNVG(11,dataframes_list_w, 'attr_x'),getNVG(12,dataframes_list_w, 'attr_x'),getNVG(13,dataframes_list_w, 'attr_x'),getNVG(14,dataframes_list_w, 'attr_x')]\n",
        "nw_y = [getNVG(0,dataframes_list_w, 'attr_y'), getNVG(1,dataframes_list_w, 'attr_y'),getNVG(2,dataframes_list_w, 'attr_y'),getNVG(3,dataframes_list_w, 'attr_y'),getNVG(4,dataframes_list_w, 'attr_y'),getNVG(5,dataframes_list_w, 'attr_y'),getNVG(6,dataframes_list_w, 'attr_y'),getNVG(7,dataframes_list_w, 'attr_y'),getNVG(8,dataframes_list_w, 'attr_y'),getNVG(9,dataframes_list_w, 'attr_y'),getNVG(10,dataframes_list_w, 'attr_y'),getNVG(11,dataframes_list_w, 'attr_y'),getNVG(12,dataframes_list_w, 'attr_y'),getNVG(13,dataframes_list_w, 'attr_y'),getNVG(14,dataframes_list_w, 'attr_y')]\n",
        "nw_z = [getNVG(0,dataframes_list_w, 'attr_z'), getNVG(1,dataframes_list_w, 'attr_z'),getNVG(2,dataframes_list_w, 'attr_z'),getNVG(3,dataframes_list_w, 'attr_z'),getNVG(4,dataframes_list_w, 'attr_z'),getNVG(5,dataframes_list_w, 'attr_z'),getNVG(6,dataframes_list_w, 'attr_z'),getNVG(7,dataframes_list_w, 'attr_z'),getNVG(8,dataframes_list_w, 'attr_z'),getNVG(9,dataframes_list_w, 'attr_z'),getNVG(10,dataframes_list_w, 'attr_z'),getNVG(11,dataframes_list_w, 'attr_z'),getNVG(12,dataframes_list_w, 'attr_z'),getNVG(13,dataframes_list_w, 'attr_z'),getNVG(14,dataframes_list_w, 'attr_z')]\n",
        "\n",
        "#NVG for running all directions\n",
        "nr_x = [getNVG(0,dataframes_list_r, 'attr_x'), getNVG(1,dataframes_list_r, 'attr_x'),getNVG(2,dataframes_list_r, 'attr_x'),getNVG(3,dataframes_list_r, 'attr_x'),getNVG(4,dataframes_list_r, 'attr_x'),getNVG(5,dataframes_list_r, 'attr_x'),getNVG(6,dataframes_list_r, 'attr_x'),getNVG(7,dataframes_list_r, 'attr_x'),getNVG(8,dataframes_list_r, 'attr_x'),getNVG(9,dataframes_list_r, 'attr_x'),getNVG(10,dataframes_list_r, 'attr_x'),getNVG(11,dataframes_list_r, 'attr_x'),getNVG(12,dataframes_list_r, 'attr_x'),getNVG(13,dataframes_list_r, 'attr_x'),getNVG(14,dataframes_list_r, 'attr_x')]\n",
        "nr_y = [getNVG(0,dataframes_list_r, 'attr_y'), getNVG(1,dataframes_list_r, 'attr_y'),getNVG(2,dataframes_list_r, 'attr_y'),getNVG(3,dataframes_list_r, 'attr_y'),getNVG(4,dataframes_list_r, 'attr_y'),getNVG(5,dataframes_list_r, 'attr_y'),getNVG(6,dataframes_list_r, 'attr_y'),getNVG(7,dataframes_list_r, 'attr_y'),getNVG(8,dataframes_list_r, 'attr_y'),getNVG(9,dataframes_list_r, 'attr_y'),getNVG(10,dataframes_list_r, 'attr_y'),getNVG(11,dataframes_list_r, 'attr_y'),getNVG(12,dataframes_list_r, 'attr_y'),getNVG(13,dataframes_list_r, 'attr_y'),getNVG(14,dataframes_list_r, 'attr_y')]\n",
        "nr_z = [getNVG(0,dataframes_list_r, 'attr_z'), getNVG(1,dataframes_list_r, 'attr_z'),getNVG(2,dataframes_list_r, 'attr_z'),getNVG(3,dataframes_list_r, 'attr_z'),getNVG(4,dataframes_list_r, 'attr_z'),getNVG(5,dataframes_list_r, 'attr_z'),getNVG(6,dataframes_list_r, 'attr_z'),getNVG(7,dataframes_list_r, 'attr_z'),getNVG(8,dataframes_list_r, 'attr_z'),getNVG(9,dataframes_list_r, 'attr_z'),getNVG(10,dataframes_list_r, 'attr_z'),getNVG(11,dataframes_list_r, 'attr_z'),getNVG(12,dataframes_list_r, 'attr_z'),getNVG(13,dataframes_list_r, 'attr_z'),getNVG(14,dataframes_list_r, 'attr_z')]\n",
        "\n",
        "#NVG for climbing up in all directions \n",
        "ncup_x = [getNVG(0,dataframes_list_cup, 'attr_x'), getNVG(1,dataframes_list_cup, 'attr_x'),getNVG(2,dataframes_list_cup, 'attr_x'),getNVG(3,dataframes_list_cup, 'attr_x'),getNVG(4,dataframes_list_cup, 'attr_x'),getNVG(5,dataframes_list_cup, 'attr_x'),getNVG(6,dataframes_list_cup, 'attr_x'),getNVG(7,dataframes_list_cup, 'attr_x'),getNVG(8,dataframes_list_cup, 'attr_x'),getNVG(9,dataframes_list_cup, 'attr_x'),getNVG(10,dataframes_list_cup, 'attr_x'),getNVG(11,dataframes_list_cup, 'attr_x'),getNVG(12,dataframes_list_cup, 'attr_x'),getNVG(13,dataframes_list_cup, 'attr_x'),getNVG(14,dataframes_list_cup, 'attr_x')]\n",
        "ncup_y = [getNVG(0,dataframes_list_cup, 'attr_y'), getNVG(1,dataframes_list_cup, 'attr_y'),getNVG(2,dataframes_list_cup, 'attr_y'),getNVG(3,dataframes_list_cup, 'attr_y'),getNVG(4,dataframes_list_cup, 'attr_y'),getNVG(5,dataframes_list_cup, 'attr_y'),getNVG(6,dataframes_list_cup, 'attr_y'),getNVG(7,dataframes_list_cup, 'attr_y'),getNVG(8,dataframes_list_cup, 'attr_y'),getNVG(9,dataframes_list_cup, 'attr_y'),getNVG(10,dataframes_list_cup, 'attr_y'),getNVG(11,dataframes_list_cup, 'attr_y'),getNVG(12,dataframes_list_cup, 'attr_y'),getNVG(13,dataframes_list_cup, 'attr_y'),getNVG(14,dataframes_list_cup, 'attr_y')]\n",
        "ncup_z = [getNVG(0,dataframes_list_cup, 'attr_z'), getNVG(1,dataframes_list_cup, 'attr_z'),getNVG(2,dataframes_list_cup, 'attr_z'),getNVG(3,dataframes_list_cup, 'attr_z'),getNVG(4,dataframes_list_cup, 'attr_z'),getNVG(5,dataframes_list_cup, 'attr_z'),getNVG(6,dataframes_list_cup, 'attr_z'),getNVG(7,dataframes_list_cup, 'attr_z'),getNVG(8,dataframes_list_cup, 'attr_z'),getNVG(9,dataframes_list_cup, 'attr_z'),getNVG(10,dataframes_list_cup, 'attr_z'),getNVG(11,dataframes_list_cup, 'attr_z'),getNVG(12,dataframes_list_cup, 'attr_z'),getNVG(13,dataframes_list_cup, 'attr_z'),getNVG(14,dataframes_list_cup, 'attr_z')]\n",
        "\n",
        "#NVG for climbing down in all directions\n",
        "ncd_x = [getNVG(0,dataframes_list_cd, 'attr_x'), getNVG(1,dataframes_list_cd, 'attr_x'),getNVG(2,dataframes_list_cd, 'attr_x'),getNVG(3,dataframes_list_cd, 'attr_x'),getNVG(4,dataframes_list_cd, 'attr_x'),getNVG(5,dataframes_list_cd, 'attr_x'),getNVG(6,dataframes_list_cd, 'attr_x'),getNVG(7,dataframes_list_cd, 'attr_x'),getNVG(8,dataframes_list_cd, 'attr_x'),getNVG(9,dataframes_list_cd, 'attr_x'),getNVG(10,dataframes_list_cd, 'attr_x'),getNVG(11,dataframes_list_cd, 'attr_x'),getNVG(12,dataframes_list_cd, 'attr_x'),getNVG(13,dataframes_list_cd, 'attr_x'),getNVG(14,dataframes_list_cd, 'attr_x')]\n",
        "ncd_y = [getNVG(0,dataframes_list_cd, 'attr_y'), getNVG(1,dataframes_list_cd, 'attr_y'),getNVG(2,dataframes_list_cd, 'attr_y'),getNVG(3,dataframes_list_cd, 'attr_y'),getNVG(4,dataframes_list_cd, 'attr_y'),getNVG(5,dataframes_list_cd, 'attr_y'),getNVG(6,dataframes_list_cd, 'attr_y'),getNVG(7,dataframes_list_cd, 'attr_y'),getNVG(8,dataframes_list_cd, 'attr_y'),getNVG(9,dataframes_list_cd, 'attr_y'),getNVG(10,dataframes_list_cd, 'attr_y'),getNVG(11,dataframes_list_cd, 'attr_y'),getNVG(12,dataframes_list_cd, 'attr_y'),getNVG(13,dataframes_list_cd, 'attr_y'),getNVG(14,dataframes_list_cd, 'attr_y')]\n",
        "ncd_z = [getNVG(0,dataframes_list_cd, 'attr_z'), getNVG(1,dataframes_list_cd, 'attr_z'),getNVG(2,dataframes_list_cd, 'attr_z'),getNVG(3,dataframes_list_cd, 'attr_z'),getNVG(4,dataframes_list_cd, 'attr_z'),getNVG(5,dataframes_list_cd, 'attr_z'),getNVG(6,dataframes_list_cd, 'attr_z'),getNVG(7,dataframes_list_cd, 'attr_z'),getNVG(8,dataframes_list_cd, 'attr_z'),getNVG(9,dataframes_list_cd, 'attr_z'),getNVG(10,dataframes_list_cd, 'attr_z'),getNVG(11,dataframes_list_cd, 'attr_z'),getNVG(12,dataframes_list_cd, 'attr_z'),getNVG(13,dataframes_list_cd, 'attr_z'),getNVG(14,dataframes_list_cd, 'attr_z')]"
      ],
      "metadata": {
        "id": "NOJpsZus_7gA"
      },
      "execution_count": 42,
      "outputs": []
    },
    {
      "cell_type": "markdown",
      "source": [
        "# Storing all the graph objects in the list"
      ],
      "metadata": {
        "id": "P3fHmqdt8B3I"
      }
    },
    {
      "cell_type": "markdown",
      "source": [
        "# HVG"
      ],
      "metadata": {
        "id": "NYLzxoyDO8EY"
      }
    },
    {
      "cell_type": "markdown",
      "source": [
        "### HVG Walking X-axis"
      ],
      "metadata": {
        "id": "Kn83MNtOJLZY"
      }
    },
    {
      "cell_type": "code",
      "source": [
        "#Table for HVG - Walking\n",
        "from tabulate import tabulate\n",
        "import itertools\n",
        "\n",
        "#all_nodes = [ig_g1.vcount(),ig_g2.vcount(),ig_g3.vcount(),ig_g4.vcount(),ig_g4.vcount(),ig_g5.vcount(),ig_g6.vcount(),ig_g7.vcount(),ig_g8.vcount(),ig_g9.vcount(),ig_g9.vcount(),ig_g10.vcount(),ig_g11.vcount(),ig_g12.vcount(),ig_g13.vcount(),ig_g14.vcount(),ig_g15.vcount()]\n",
        "all_degrees = [np.mean(hw_x[0].degree()), np.mean(hw_x[1].degree()),np.mean(hw_x[2].degree()), np.mean(hw_x[3].degree()),np.mean(hw_x[4].degree()),np.mean(hw_x[5].degree()),np.mean(hw_x[6].degree()),np.mean(hw_x[7].degree()),np.mean(hw_x[8].degree()),np.mean(hw_x[9].degree()),np.mean(hw_x[10].degree()),np.mean(hw_x[11].degree()),np.mean(hw_x[12].degree()),np.mean(hw_x[13].degree()),np.mean(hw_x[14].degree())]\n",
        "network_diameter = [hw_x[0].diameter(),hw_x[1].diameter(),hw_x[2].diameter(),hw_x[3].diameter(),hw_x[4].diameter(),hw_x[5].diameter(),hw_x[6].diameter(),hw_x[7].diameter(),hw_x[8].diameter(),hw_x[9].diameter(),hw_x[10].diameter(),hw_x[11].diameter(),hw_x[12].diameter(),hw_x[13].diameter(),hw_x[14].diameter()]\n",
        "avg_path_length = [hw_x[0].average_path_length(),hw_x[1].average_path_length(),hw_x[2].average_path_length(),hw_x[3].average_path_length(),hw_x[4].average_path_length(),hw_x[5].average_path_length(),hw_x[6].average_path_length(),hw_x[7].average_path_length(),hw_x[8].average_path_length(),hw_x[9].average_path_length(),hw_x[10].average_path_length(),hw_x[11].average_path_length(),hw_x[12].average_path_length(),hw_x[13].average_path_length(),hw_x[14].average_path_length()]\n",
        "method = list(itertools.repeat('HVG', 15))\n",
        "subject = list(range(1,16))\n",
        "acc_axis = list(itertools.repeat('x', 15))\n",
        "\n",
        "info = {'Method':method,'Subject':subject,'Accelerometer Axis':acc_axis, 'Average Degrees': all_degrees, 'Network Diameter':network_diameter,'Average Path Length':avg_path_length}\n",
        "\n",
        "print(tabulate(info, headers='keys'))"
      ],
      "metadata": {
        "colab": {
          "base_uri": "https://localhost:8080/"
        },
        "id": "c7uV1Pf14tzZ",
        "outputId": "40acd74b-315e-4a08-cc4e-d561cdaeb3ff"
      },
      "execution_count": 43,
      "outputs": [
        {
          "output_type": "stream",
          "name": "stdout",
          "text": [
            "Method      Subject  Accelerometer Axis      Average Degrees    Network Diameter    Average Path Length\n",
            "--------  ---------  --------------------  -----------------  ------------------  ---------------------\n",
            "HVG               1  x                               3.95898                  26                11.578\n",
            "HVG               2  x                               3.94336                  26                10.5525\n",
            "HVG               3  x                               3.95508                  27                12.8523\n",
            "HVG               4  x                               3.96094                  23                10.2074\n",
            "HVG               5  x                               3.96094                  25                11.53\n",
            "HVG               6  x                               3.95312                  25                12.2978\n",
            "HVG               7  x                               3.94922                  27                12.8711\n",
            "HVG               8  x                               3.97266                  29                13.3317\n",
            "HVG               9  x                               3.95898                  23                11.2657\n",
            "HVG              10  x                               3.93945                  28                11.345\n",
            "HVG              11  x                               3.9668                   27                12.4184\n",
            "HVG              12  x                               3.96484                  24                11.6563\n",
            "HVG              13  x                               3.93164                  32                13.1858\n",
            "HVG              14  x                               3.97266                  20                10.636\n",
            "HVG              15  x                               3.93555                  34                13.5452\n"
          ]
        }
      ]
    },
    {
      "cell_type": "code",
      "source": [
        "#Table for HVG - Walking\n",
        "from tabulate import tabulate\n",
        "import itertools\n",
        "\n",
        "#all_nodes = [ig_g1.vcount(),ig_g2.vcount(),ig_g3.vcount(),ig_g4.vcount(),ig_g4.vcount(),ig_g5.vcount(),ig_g6.vcount(),ig_g7.vcount(),ig_g8.vcount(),ig_g9.vcount(),ig_g9.vcount(),ig_g10.vcount(),ig_g11.vcount(),ig_g12.vcount(),ig_g13.vcount(),ig_g14.vcount(),ig_g15.vcount()]\n",
        "all_degrees = [np.mean(hw_y[0].degree()), np.mean(hw_y[1].degree()),np.mean(hw_y[2].degree()), np.mean(hw_y[3].degree()),np.mean(hw_y[4].degree()),np.mean(hw_y[5].degree()),np.mean(hw_y[6].degree()),np.mean(hw_y[7].degree()),np.mean(hw_y[8].degree()),np.mean(hw_y[9].degree()),np.mean(hw_y[10].degree()),np.mean(hw_y[11].degree()),np.mean(hw_y[12].degree()),np.mean(hw_y[13].degree()),np.mean(hw_y[14].degree())]\n",
        "network_diameter = [hw_y[0].diameter(),hw_y[1].diameter(),hw_y[2].diameter(),hw_y[3].diameter(),hw_y[4].diameter(),hw_y[5].diameter(),hw_y[6].diameter(),hw_y[7].diameter(),hw_y[8].diameter(),hw_y[9].diameter(),hw_y[10].diameter(),hw_y[11].diameter(),hw_y[12].diameter(),hw_y[13].diameter(),hw_y[14].diameter()]\n",
        "avg_path_length = [hw_y[0].average_path_length(),hw_y[1].average_path_length(),hw_y[2].average_path_length(),hw_y[3].average_path_length(),hw_y[4].average_path_length(),hw_y[5].average_path_length(),hw_y[6].average_path_length(),hw_y[7].average_path_length(),hw_y[8].average_path_length(),hw_y[9].average_path_length(),hw_y[10].average_path_length(),hw_y[11].average_path_length(),hw_y[12].average_path_length(),hw_y[13].average_path_length(),hw_y[14].average_path_length()]\n",
        "method = list(itertools.repeat('HVG', 15))\n",
        "subject = list(range(1,16))\n",
        "acc_axis = list(itertools.repeat('y', 15))\n",
        "\n",
        "info = {'Method':method,'Subject':subject,'Accelerometer Axis':acc_axis, 'Average Degrees': all_degrees, 'Network Diameter':network_diameter,'Average Path Length':avg_path_length}\n",
        "\n",
        "print(tabulate(info, headers='keys'))"
      ],
      "metadata": {
        "colab": {
          "base_uri": "https://localhost:8080/"
        },
        "id": "1I4hG9ExI6LG",
        "outputId": "5349bd4f-fba1-4957-ea4a-4efc1ccfebf0"
      },
      "execution_count": 44,
      "outputs": [
        {
          "output_type": "stream",
          "name": "stdout",
          "text": [
            "Method      Subject  Accelerometer Axis      Average Degrees    Network Diameter    Average Path Length\n",
            "--------  ---------  --------------------  -----------------  ------------------  ---------------------\n",
            "HVG               1  y                               3.95117                  22                10.6663\n",
            "HVG               2  y                               3.94531                  33                12.6692\n",
            "HVG               3  y                               3.96289                  30                13.8255\n",
            "HVG               4  y                               3.95703                  28                12.2003\n",
            "HVG               5  y                               3.94727                  25                10.6432\n",
            "HVG               6  y                               3.94727                  33                13.9624\n",
            "HVG               7  y                               3.9707                   22                10.2764\n",
            "HVG               8  y                               3.97266                  30                13.0573\n",
            "HVG               9  y                               3.94531                  30                12.9141\n",
            "HVG              10  y                               3.95703                  31                12.852\n",
            "HVG              11  y                               3.95508                  32                13.5376\n",
            "HVG              12  y                               3.96875                  32                13.0406\n",
            "HVG              13  y                               3.95312                  32                14.5273\n",
            "HVG              14  y                               3.94141                  32                11.2585\n",
            "HVG              15  y                               3.95898                  31                12.3832\n"
          ]
        }
      ]
    },
    {
      "cell_type": "code",
      "source": [
        "#Table for HVG - Walking\n",
        "from tabulate import tabulate\n",
        "import itertools\n",
        "\n",
        "#all_nodes = [ig_g1.vcount(),ig_g2.vcount(),ig_g3.vcount(),ig_g4.vcount(),ig_g4.vcount(),ig_g5.vcount(),ig_g6.vcount(),ig_g7.vcount(),ig_g8.vcount(),ig_g9.vcount(),ig_g9.vcount(),ig_g10.vcount(),ig_g11.vcount(),ig_g12.vcount(),ig_g13.vcount(),ig_g14.vcount(),ig_g15.vcount()]\n",
        "all_degrees = [np.mean(hw_z[0].degree()), np.mean(hw_z[1].degree()),np.mean(hw_z[2].degree()), np.mean(hw_z[3].degree()),np.mean(hw_z[4].degree()),np.mean(hw_z[5].degree()),np.mean(hw_z[6].degree()),np.mean(hw_z[7].degree()),np.mean(hw_z[8].degree()),np.mean(hw_z[9].degree()),np.mean(hw_z[10].degree()),np.mean(hw_z[11].degree()),np.mean(hw_z[12].degree()),np.mean(hw_z[13].degree()),np.mean(hw_z[14].degree())]\n",
        "network_diameter = [hw_z[0].diameter(),hw_z[1].diameter(),hw_z[2].diameter(),hw_z[3].diameter(),hw_z[4].diameter(),hw_z[5].diameter(),hw_z[6].diameter(),hw_z[7].diameter(),hw_z[8].diameter(),hw_z[9].diameter(),hw_z[10].diameter(),hw_z[11].diameter(),hw_z[12].diameter(),hw_z[13].diameter(),hw_z[14].diameter()]\n",
        "avg_path_length = [hw_z[0].average_path_length(),hw_z[1].average_path_length(),hw_z[2].average_path_length(),hw_z[3].average_path_length(),hw_z[4].average_path_length(),hw_z[5].average_path_length(),hw_z[6].average_path_length(),hw_z[7].average_path_length(),hw_z[8].average_path_length(),hw_z[9].average_path_length(),hw_z[10].average_path_length(),hw_z[11].average_path_length(),hw_z[12].average_path_length(),hw_z[13].average_path_length(),hw_z[14].average_path_length()]\n",
        "method = list(itertools.repeat('HVG', 15))\n",
        "subject = list(range(1,16))\n",
        "acc_axis = list(itertools.repeat('z', 15))\n",
        "\n",
        "info = {'Method':method,'Subject':subject,'Accelerometer Axis':acc_axis, 'Average Degrees': all_degrees, 'Network Diameter':network_diameter,'Average Path Length':avg_path_length}\n",
        "\n",
        "print(tabulate(info, headers='keys'))"
      ],
      "metadata": {
        "colab": {
          "base_uri": "https://localhost:8080/"
        },
        "id": "iuQXc2UUI-uC",
        "outputId": "93fee843-c1d3-432f-9130-bdd32ed3f56e"
      },
      "execution_count": 45,
      "outputs": [
        {
          "output_type": "stream",
          "name": "stdout",
          "text": [
            "Method      Subject  Accelerometer Axis      Average Degrees    Network Diameter    Average Path Length\n",
            "--------  ---------  --------------------  -----------------  ------------------  ---------------------\n",
            "HVG               1  z                               3.95703                  23               10.6023\n",
            "HVG               2  z                               3.94727                  25                8.4338\n",
            "HVG               3  z                               3.94336                  25                8.44441\n",
            "HVG               4  z                               3.95117                  22                8.03205\n",
            "HVG               5  z                               3.9668                   23                9.23453\n",
            "HVG               6  z                               3.95117                  31               14.3706\n",
            "HVG               7  z                               3.97266                  17                7.92765\n",
            "HVG               8  z                               3.94531                  28               10.8949\n",
            "HVG               9  z                               3.95312                  23                8.59312\n",
            "HVG              10  z                               3.95508                  21                8.60867\n",
            "HVG              11  z                               3.94531                  30                9.67476\n",
            "HVG              12  z                               3.95898                  19               10.0941\n",
            "HVG              13  z                               3.95703                  29               12.1092\n",
            "HVG              14  z                               3.94727                  29               12.0654\n",
            "HVG              15  z                               3.93164                  30               10.8979\n"
          ]
        }
      ]
    },
    {
      "cell_type": "code",
      "source": [
        "#Table for HVG - Climbing Up\n",
        "from tabulate import tabulate\n",
        "import itertools\n",
        "\n",
        "#all_nodes = [ig_g1.vcount(),ig_g2.vcount(),ig_g3.vcount(),ig_g4.vcount(),ig_g4.vcount(),ig_g5.vcount(),ig_g6.vcount(),ig_g7.vcount(),ig_g8.vcount(),ig_g9.vcount(),ig_g9.vcount(),ig_g10.vcount(),ig_g11.vcount(),ig_g12.vcount(),ig_g13.vcount(),ig_g14.vcount(),ig_g15.vcount()]\n",
        "all_degrees = [np.mean(hcup_z[0].degree()), np.mean(hcup_z[1].degree()),np.mean(hcup_z[2].degree()), np.mean(hcup_z[3].degree()),np.mean(hcup_z[4].degree()),np.mean(hcup_z[5].degree()),np.mean(hcup_z[6].degree()),np.mean(hcup_z[7].degree()),np.mean(hcup_z[8].degree()),np.mean(hcup_z[9].degree()),np.mean(hcup_z[10].degree()),np.mean(hcup_z[11].degree()),np.mean(hcup_z[12].degree()),np.mean(hcup_z[13].degree()),np.mean(hcup_z[14].degree())]\n",
        "network_diameter = [hcup_z[0].diameter(),hcup_z[1].diameter(),hcup_z[2].diameter(),hcup_z[3].diameter(),hcup_z[4].diameter(),hcup_z[5].diameter(),hcup_z[6].diameter(),hcup_z[7].diameter(),hcup_z[8].diameter(),hcup_z[9].diameter(),hcup_z[10].diameter(),hcup_z[11].diameter(),hcup_z[12].diameter(),hcup_z[13].diameter(),hcup_z[14].diameter()]\n",
        "avg_path_length = [hcup_z[0].average_path_length(),hcup_z[1].average_path_length(),hcup_z[2].average_path_length(),hcup_z[3].average_path_length(),hcup_z[4].average_path_length(),hcup_z[5].average_path_length(),hcup_z[6].average_path_length(),hcup_z[7].average_path_length(),hcup_z[8].average_path_length(),hcup_z[9].average_path_length(),hcup_z[10].average_path_length(),hcup_z[11].average_path_length(),hcup_z[12].average_path_length(),hcup_z[13].average_path_length(),hcup_z[14].average_path_length()]\n",
        "method = list(itertools.repeat('HVG', 15))\n",
        "subject = list(range(1,16))\n",
        "acc_axis = list(itertools.repeat('x', 15))\n",
        "\n",
        "info = {'Method':method,'Subject':subject,'Accelerometer Axis':acc_axis, 'Average Degrees': all_degrees, 'Network Diameter':network_diameter,'Average Path Length':avg_path_length}\n",
        "\n",
        "print(tabulate(info, headers='keys'))"
      ],
      "metadata": {
        "colab": {
          "base_uri": "https://localhost:8080/"
        },
        "id": "iMvHlgoFJFpw",
        "outputId": "af5c6fed-d112-4766-e6e4-03e82ccc5142"
      },
      "execution_count": 39,
      "outputs": [
        {
          "output_type": "stream",
          "name": "stdout",
          "text": [
            "Method      Subject  Accelerometer Axis      Average Degrees    Network Diameter    Average Path Length\n",
            "--------  ---------  --------------------  -----------------  ------------------  ---------------------\n",
            "HVG               1  x                               3.95312                  30               11.0564\n",
            "HVG               2  x                               3.94727                  33               10.5733\n",
            "HVG               3  x                               3.93359                  34               12.2869\n",
            "HVG               4  x                               3.95508                  35               14.0536\n",
            "HVG               5  x                               3.93945                  33               12.8032\n",
            "HVG               6  x                               3.94727                  32               13.9456\n",
            "HVG               7  x                               3.96875                  20                9.36261\n",
            "HVG               8  x                               3.9375                   36               12.1324\n",
            "HVG               9  x                               3.93555                  33               12.5338\n",
            "HVG              10  x                               3.95117                  29               12.4461\n",
            "HVG              11  x                               3.94727                  32               14.6134\n",
            "HVG              12  x                               3.94336                  29               11.4947\n",
            "HVG              13  x                               3.94727                  37               14.0562\n",
            "HVG              14  x                               3.9375                   33               14.7801\n",
            "HVG              15  x                               3.96875                  26               11.5952\n"
          ]
        }
      ]
    },
    {
      "cell_type": "code",
      "source": [
        "#Table for NVG - Climbing Up\n",
        "from tabulate import tabulate\n",
        "import itertools\n",
        "\n",
        "#all_nodes = [ig_g1.vcount(),ig_g2.vcount(),ig_g3.vcount(),ig_g4.vcount(),ig_g4.vcount(),ig_g5.vcount(),ig_g6.vcount(),ig_g7.vcount(),ig_g8.vcount(),ig_g9.vcount(),ig_g9.vcount(),ig_g10.vcount(),ig_g11.vcount(),ig_g12.vcount(),ig_g13.vcount(),ig_g14.vcount(),ig_g15.vcount()]\n",
        "all_degrees = [np.mean(hcup_x[0].degree()), np.mean(hcup_x[1].degree()),np.mean(hcup_x[2].degree()), np.mean(hcup_x[3].degree()),np.mean(hcup_x[4].degree()),np.mean(hcup_x[5].degree()),np.mean(hcup_x[6].degree()),np.mean(hcup_x[7].degree()),np.mean(hcup_x[8].degree()),np.mean(hcup_x[9].degree()),np.mean(hcup_x[10].degree()),np.mean(hcup_x[11].degree()),np.mean(hcup_x[12].degree()),np.mean(hcup_x[13].degree()),np.mean(hcup_x[14].degree())]\n",
        "network_diameter = [hcup_x[0].diameter(),hcup_x[1].diameter(),hcup_x[2].diameter(),hcup_x[3].diameter(),hcup_x[4].diameter(),hcup_x[5].diameter(),hcup_x[6].diameter(),hcup_x[7].diameter(),hcup_x[8].diameter(),hcup_x[9].diameter(),hcup_x[10].diameter(),hcup_x[11].diameter(),hcup_x[12].diameter(),hcup_x[13].diameter(),hcup_x[14].diameter()]\n",
        "avg_path_length = [hcup_x[0].average_path_length(),hcup_x[1].average_path_length(),hcup_x[2].average_path_length(),hcup_x[3].average_path_length(),hcup_x[4].average_path_length(),hcup_x[5].average_path_length(),hcup_x[6].average_path_length(),hcup_x[7].average_path_length(),hcup_x[8].average_path_length(),hcup_x[9].average_path_length(),hcup_x[10].average_path_length(),hcup_x[11].average_path_length(),hcup_x[12].average_path_length(),hcup_x[13].average_path_length(),hcup_x[14].average_path_length()]\n",
        "method = list(itertools.repeat('HVG', 15))\n",
        "subject = list(range(1,16))\n",
        "acc_axis = list(itertools.repeat('x', 15))\n",
        "\n",
        "info = {'Method':method,'Subject':subject,'Accelerometer Axis':acc_axis, 'Average Degrees': all_degrees, 'Network Diameter':network_diameter,'Average Path Length':avg_path_length}\n",
        "\n",
        "print(tabulate(info, headers='keys'))"
      ],
      "metadata": {
        "colab": {
          "base_uri": "https://localhost:8080/"
        },
        "id": "UH3PmbggLOB8",
        "outputId": "86feb452-fbcd-45e1-f1d1-11c4ad257e90"
      },
      "execution_count": 46,
      "outputs": [
        {
          "output_type": "stream",
          "name": "stdout",
          "text": [
            "Method      Subject  Accelerometer Axis      Average Degrees    Network Diameter    Average Path Length\n",
            "--------  ---------  --------------------  -----------------  ------------------  ---------------------\n",
            "HVG               1  x                               3.95703                  35                15.4099\n",
            "HVG               2  x                               3.95898                  27                11.733\n",
            "HVG               3  x                               3.94336                  30                12.2399\n",
            "HVG               4  x                               3.94922                  26                11.1913\n",
            "HVG               5  x                               3.92383                  42                12.3809\n",
            "HVG               6  x                               3.95508                  32                13.888\n",
            "HVG               7  x                               3.94727                  32                14.8596\n",
            "HVG               8  x                               3.94336                  33                14.4482\n",
            "HVG               9  x                               3.94531                  28                12.82\n",
            "HVG              10  x                               3.94336                  28                13.3856\n",
            "HVG              11  x                               3.95508                  27                11.7815\n",
            "HVG              12  x                               3.95312                  26                11.4545\n",
            "HVG              13  x                               3.95117                  29                13.3005\n",
            "HVG              14  x                               3.92969                  38                15.1232\n",
            "HVG              15  x                               3.95312                  26                11.6591\n"
          ]
        }
      ]
    },
    {
      "cell_type": "code",
      "source": [
        "#Table for HVG - Climbing Up\n",
        "from tabulate import tabulate\n",
        "import itertools\n",
        "\n",
        "#all_nodes = [ig_g1.vcount(),ig_g2.vcount(),ig_g3.vcount(),ig_g4.vcount(),ig_g4.vcount(),ig_g5.vcount(),ig_g6.vcount(),ig_g7.vcount(),ig_g8.vcount(),ig_g9.vcount(),ig_g9.vcount(),ig_g10.vcount(),ig_g11.vcount(),ig_g12.vcount(),ig_g13.vcount(),ig_g14.vcount(),ig_g15.vcount()]\n",
        "all_degrees = [np.mean(hcup_z[0].degree()), np.mean(hcup_z[1].degree()),np.mean(hcup_z[2].degree()), np.mean(hcup_z[3].degree()),np.mean(hcup_z[4].degree()),np.mean(hcup_z[5].degree()),np.mean(hcup_z[6].degree()),np.mean(hcup_z[7].degree()),np.mean(hcup_z[8].degree()),np.mean(hcup_z[9].degree()),np.mean(hcup_z[10].degree()),np.mean(hcup_z[11].degree()),np.mean(hcup_z[12].degree()),np.mean(hcup_z[13].degree()),np.mean(hcup_z[14].degree())]\n",
        "network_diameter = [hcup_z[0].diameter(),hcup_z[1].diameter(),hcup_z[2].diameter(),hcup_z[3].diameter(),hcup_z[4].diameter(),hcup_z[5].diameter(),hcup_z[6].diameter(),hcup_z[7].diameter(),hcup_z[8].diameter(),hcup_z[9].diameter(),hcup_z[10].diameter(),hcup_z[11].diameter(),hcup_z[12].diameter(),hcup_z[13].diameter(),hcup_z[14].diameter()]\n",
        "avg_path_length = [hcup_z[0].average_path_length(),hcup_z[1].average_path_length(),hcup_z[2].average_path_length(),hcup_z[3].average_path_length(),hcup_z[4].average_path_length(),hcup_z[5].average_path_length(),hcup_z[6].average_path_length(),hcup_z[7].average_path_length(),hcup_z[8].average_path_length(),hcup_z[9].average_path_length(),hcup_z[10].average_path_length(),hcup_z[11].average_path_length(),hcup_z[12].average_path_length(),hcup_z[13].average_path_length(),hcup_z[14].average_path_length()]\n",
        "method = list(itertools.repeat('HVG', 15))\n",
        "subject = list(range(1,16))\n",
        "acc_axis = list(itertools.repeat('z', 15))\n",
        "\n",
        "info = {'Method':method,'Subject':subject,'Accelerometer Axis':acc_axis, 'Average Degrees': all_degrees, 'Network Diameter':network_diameter,'Average Path Length':avg_path_length}\n",
        "\n",
        "print(tabulate(info, headers='keys'))"
      ],
      "metadata": {
        "colab": {
          "base_uri": "https://localhost:8080/"
        },
        "id": "x-54AMXw4tsR",
        "outputId": "4f9dfb8f-8681-4fed-987c-986d40056573"
      },
      "execution_count": 47,
      "outputs": [
        {
          "output_type": "stream",
          "name": "stdout",
          "text": [
            "Method      Subject  Accelerometer Axis      Average Degrees    Network Diameter    Average Path Length\n",
            "--------  ---------  --------------------  -----------------  ------------------  ---------------------\n",
            "HVG               1  z                               3.95312                  30               11.0564\n",
            "HVG               2  z                               3.94727                  33               10.5733\n",
            "HVG               3  z                               3.93359                  34               12.2869\n",
            "HVG               4  z                               3.95508                  35               14.0536\n",
            "HVG               5  z                               3.93945                  33               12.8032\n",
            "HVG               6  z                               3.94727                  32               13.9456\n",
            "HVG               7  z                               3.96875                  20                9.36261\n",
            "HVG               8  z                               3.9375                   36               12.1324\n",
            "HVG               9  z                               3.93555                  33               12.5338\n",
            "HVG              10  z                               3.95117                  29               12.4461\n",
            "HVG              11  z                               3.94727                  32               14.6134\n",
            "HVG              12  z                               3.94336                  29               11.4947\n",
            "HVG              13  z                               3.94727                  37               14.0562\n",
            "HVG              14  z                               3.9375                   33               14.7801\n",
            "HVG              15  z                               3.96875                  26               11.5952\n"
          ]
        }
      ]
    },
    {
      "cell_type": "code",
      "source": [
        "#Table for HVG - Climbing Up\n",
        "from tabulate import tabulate\n",
        "import itertools\n",
        "\n",
        "#all_nodes = [ig_g1.vcount(),ig_g2.vcount(),ig_g3.vcount(),ig_g4.vcount(),ig_g4.vcount(),ig_g5.vcount(),ig_g6.vcount(),ig_g7.vcount(),ig_g8.vcount(),ig_g9.vcount(),ig_g9.vcount(),ig_g10.vcount(),ig_g11.vcount(),ig_g12.vcount(),ig_g13.vcount(),ig_g14.vcount(),ig_g15.vcount()]\n",
        "all_degrees = [np.mean(hcup_y[0].degree()), np.mean(hcup_y[1].degree()),np.mean(hcup_y[2].degree()), np.mean(hcup_y[3].degree()),np.mean(hcup_y[4].degree()),np.mean(hcup_y[5].degree()),np.mean(hcup_y[6].degree()),np.mean(hcup_y[7].degree()),np.mean(hcup_y[8].degree()),np.mean(hcup_y[9].degree()),np.mean(hcup_y[10].degree()),np.mean(hcup_y[11].degree()),np.mean(hcup_y[12].degree()),np.mean(hcup_y[13].degree()),np.mean(hcup_y[14].degree())]\n",
        "network_diameter = [hcup_y[0].diameter(),hcup_y[1].diameter(),hcup_y[2].diameter(),hcup_y[3].diameter(),hcup_y[4].diameter(),hcup_y[5].diameter(),hcup_y[6].diameter(),hcup_y[7].diameter(),hcup_y[8].diameter(),hcup_y[9].diameter(),hcup_y[10].diameter(),hcup_y[11].diameter(),hcup_y[12].diameter(),hcup_y[13].diameter(),hcup_y[14].diameter()]\n",
        "avg_path_length = [hcup_y[0].average_path_length(),hcup_y[1].average_path_length(),hcup_y[2].average_path_length(),hcup_y[3].average_path_length(),hcup_y[4].average_path_length(),hcup_y[5].average_path_length(),hcup_y[6].average_path_length(),hcup_y[7].average_path_length(),hcup_y[8].average_path_length(),hcup_y[9].average_path_length(),hcup_y[10].average_path_length(),hcup_y[11].average_path_length(),hcup_y[12].average_path_length(),hcup_y[13].average_path_length(),hcup_y[14].average_path_length()]\n",
        "method = list(itertools.repeat('HVG', 15))\n",
        "subject = list(range(1,16))\n",
        "acc_axis = list(itertools.repeat('y', 15))\n",
        "\n",
        "info = {'Method':method,'Subject':subject,'Accelerometer Axis':acc_axis, 'Average Degrees': all_degrees, 'Network Diameter':network_diameter,'Average Path Length':avg_path_length}\n",
        "\n",
        "print(tabulate(info, headers='keys'))"
      ],
      "metadata": {
        "colab": {
          "base_uri": "https://localhost:8080/"
        },
        "id": "UU-Nb1bcLWT6",
        "outputId": "4fcd4f97-a6ef-4af7-d821-ef18aa6c19b6"
      },
      "execution_count": 48,
      "outputs": [
        {
          "output_type": "stream",
          "name": "stdout",
          "text": [
            "Method      Subject  Accelerometer Axis      Average Degrees    Network Diameter    Average Path Length\n",
            "--------  ---------  --------------------  -----------------  ------------------  ---------------------\n",
            "HVG               1  y                               3.95117                  33                14.3845\n",
            "HVG               2  y                               3.95312                  30                12.89\n",
            "HVG               3  y                               3.94336                  35                14.195\n",
            "HVG               4  y                               3.9375                   35                15.0438\n",
            "HVG               5  y                               3.96094                  29                12.399\n",
            "HVG               6  y                               3.96875                  29                11.9959\n",
            "HVG               7  y                               3.95898                  34                14.2329\n",
            "HVG               8  y                               3.94336                  30                12.5418\n",
            "HVG               9  y                               3.95508                  31                13.0308\n",
            "HVG              10  y                               3.94922                  32                14.6704\n",
            "HVG              11  y                               3.96094                  29                12.2936\n",
            "HVG              12  y                               3.93555                  39                13.3241\n",
            "HVG              13  y                               3.92383                  38                12.9175\n",
            "HVG              14  y                               3.96094                  34                14.6416\n",
            "HVG              15  y                               3.94727                  32                13.7964\n"
          ]
        }
      ]
    },
    {
      "cell_type": "code",
      "source": [
        "#Table for HVG - Climbing Up\n",
        "from tabulate import tabulate\n",
        "import itertools\n",
        "\n",
        "#all_nodes = [ig_g1.vcount(),ig_g2.vcount(),ig_g3.vcount(),ig_g4.vcount(),ig_g4.vcount(),ig_g5.vcount(),ig_g6.vcount(),ig_g7.vcount(),ig_g8.vcount(),ig_g9.vcount(),ig_g9.vcount(),ig_g10.vcount(),ig_g11.vcount(),ig_g12.vcount(),ig_g13.vcount(),ig_g14.vcount(),ig_g15.vcount()]\n",
        "all_degrees = [np.mean(hcup_y[0].degree()), np.mean(hcup_y[1].degree()),np.mean(hcup_y[2].degree()), np.mean(hcup_y[3].degree()),np.mean(hcup_y[4].degree()),np.mean(hcup_y[5].degree()),np.mean(hcup_y[6].degree()),np.mean(hcup_y[7].degree()),np.mean(hcup_y[8].degree()),np.mean(hcup_y[9].degree()),np.mean(hcup_y[10].degree()),np.mean(hcup_y[11].degree()),np.mean(hcup_y[12].degree()),np.mean(hcup_y[13].degree()),np.mean(hcup_y[14].degree())]\n",
        "network_diameter = [hcup_y[0].diameter(),hcup_y[1].diameter(),hcup_y[2].diameter(),hcup_y[3].diameter(),hcup_y[4].diameter(),hcup_y[5].diameter(),hcup_y[6].diameter(),hcup_y[7].diameter(),hcup_y[8].diameter(),hcup_y[9].diameter(),hcup_y[10].diameter(),hcup_y[11].diameter(),hcup_y[12].diameter(),hcup_y[13].diameter(),hcup_y[14].diameter()]\n",
        "avg_path_length = [hcup_y[0].average_path_length(),hcup_y[1].average_path_length(),hcup_y[2].average_path_length(),hcup_y[3].average_path_length(),hcup_y[4].average_path_length(),hcup_y[5].average_path_length(),hcup_y[6].average_path_length(),hcup_y[7].average_path_length(),hcup_y[8].average_path_length(),hcup_y[9].average_path_length(),hcup_y[10].average_path_length(),hcup_y[11].average_path_length(),hcup_y[12].average_path_length(),hcup_y[13].average_path_length(),hcup_y[14].average_path_length()]\n",
        "method = list(itertools.repeat('HVG', 15))\n",
        "subject = list(range(1,16))\n",
        "acc_axis = list(itertools.repeat('y', 15))\n",
        "\n",
        "info = {'Method':method,'Subject':subject,'Accelerometer Axis':acc_axis, 'Average Degrees': all_degrees, 'Network Diameter':network_diameter,'Average Path Length':avg_path_length}\n",
        "\n",
        "print(tabulate(info, headers='keys'))"
      ],
      "metadata": {
        "colab": {
          "base_uri": "https://localhost:8080/"
        },
        "id": "bzhi1qEkLmlr",
        "outputId": "a5550750-c9cf-4874-8373-fb7c1e2e4674"
      },
      "execution_count": 49,
      "outputs": [
        {
          "output_type": "stream",
          "name": "stdout",
          "text": [
            "Method      Subject  Accelerometer Axis      Average Degrees    Network Diameter    Average Path Length\n",
            "--------  ---------  --------------------  -----------------  ------------------  ---------------------\n",
            "HVG               1  y                               3.95117                  33                14.3845\n",
            "HVG               2  y                               3.95312                  30                12.89\n",
            "HVG               3  y                               3.94336                  35                14.195\n",
            "HVG               4  y                               3.9375                   35                15.0438\n",
            "HVG               5  y                               3.96094                  29                12.399\n",
            "HVG               6  y                               3.96875                  29                11.9959\n",
            "HVG               7  y                               3.95898                  34                14.2329\n",
            "HVG               8  y                               3.94336                  30                12.5418\n",
            "HVG               9  y                               3.95508                  31                13.0308\n",
            "HVG              10  y                               3.94922                  32                14.6704\n",
            "HVG              11  y                               3.96094                  29                12.2936\n",
            "HVG              12  y                               3.93555                  39                13.3241\n",
            "HVG              13  y                               3.92383                  38                12.9175\n",
            "HVG              14  y                               3.96094                  34                14.6416\n",
            "HVG              15  y                               3.94727                  32                13.7964\n"
          ]
        }
      ]
    },
    {
      "cell_type": "code",
      "source": [
        "#Table for HVG - Climbing Up\n",
        "from tabulate import tabulate\n",
        "import itertools\n",
        "\n",
        "#all_nodes = [ig_g1.vcount(),ig_g2.vcount(),ig_g3.vcount(),ig_g4.vcount(),ig_g4.vcount(),ig_g5.vcount(),ig_g6.vcount(),ig_g7.vcount(),ig_g8.vcount(),ig_g9.vcount(),ig_g9.vcount(),ig_g10.vcount(),ig_g11.vcount(),ig_g12.vcount(),ig_g13.vcount(),ig_g14.vcount(),ig_g15.vcount()]\n",
        "all_degrees = [np.mean(hcup_y[0].degree()), np.mean(hcup_y[1].degree()),np.mean(hcup_y[2].degree()), np.mean(hcup_y[3].degree()),np.mean(hcup_y[4].degree()),np.mean(hcup_y[5].degree()),np.mean(hcup_y[6].degree()),np.mean(hcup_y[7].degree()),np.mean(hcup_y[8].degree()),np.mean(hcup_y[9].degree()),np.mean(hcup_y[10].degree()),np.mean(hcup_y[11].degree()),np.mean(hcup_y[12].degree()),np.mean(hcup_y[13].degree()),np.mean(hcup_y[14].degree())]\n",
        "network_diameter = [hcup_y[0].diameter(),hcup_y[1].diameter(),hcup_y[2].diameter(),hcup_y[3].diameter(),hcup_y[4].diameter(),hcup_y[5].diameter(),hcup_y[6].diameter(),hcup_y[7].diameter(),hcup_y[8].diameter(),hcup_y[9].diameter(),hcup_y[10].diameter(),hcup_y[11].diameter(),hcup_y[12].diameter(),hcup_y[13].diameter(),hcup_y[14].diameter()]\n",
        "avg_path_length = [hcup_y[0].average_path_length(),hcup_y[1].average_path_length(),hcup_y[2].average_path_length(),hcup_y[3].average_path_length(),hcup_y[4].average_path_length(),hcup_y[5].average_path_length(),hcup_y[6].average_path_length(),hcup_y[7].average_path_length(),hcup_y[8].average_path_length(),hcup_y[9].average_path_length(),hcup_y[10].average_path_length(),hcup_y[11].average_path_length(),hcup_y[12].average_path_length(),hcup_y[13].average_path_length(),hcup_y[14].average_path_length()]\n",
        "method = list(itertools.repeat('HVG', 15))\n",
        "subject = list(range(1,16))\n",
        "acc_axis = list(itertools.repeat('y', 15))\n",
        "\n",
        "info = {'Method':method,'Subject':subject,'Accelerometer Axis':acc_axis, 'Average Degrees': all_degrees, 'Network Diameter':network_diameter,'Average Path Length':avg_path_length}\n",
        "\n",
        "print(tabulate(info, headers='keys'))"
      ],
      "metadata": {
        "colab": {
          "base_uri": "https://localhost:8080/"
        },
        "id": "Dy-sYpH9MKWo",
        "outputId": "d50d1e98-53a9-49f5-ae23-6e8aef2e248f"
      },
      "execution_count": 50,
      "outputs": [
        {
          "output_type": "stream",
          "name": "stdout",
          "text": [
            "Method      Subject  Accelerometer Axis      Average Degrees    Network Diameter    Average Path Length\n",
            "--------  ---------  --------------------  -----------------  ------------------  ---------------------\n",
            "HVG               1  y                               3.95117                  33                14.3845\n",
            "HVG               2  y                               3.95312                  30                12.89\n",
            "HVG               3  y                               3.94336                  35                14.195\n",
            "HVG               4  y                               3.9375                   35                15.0438\n",
            "HVG               5  y                               3.96094                  29                12.399\n",
            "HVG               6  y                               3.96875                  29                11.9959\n",
            "HVG               7  y                               3.95898                  34                14.2329\n",
            "HVG               8  y                               3.94336                  30                12.5418\n",
            "HVG               9  y                               3.95508                  31                13.0308\n",
            "HVG              10  y                               3.94922                  32                14.6704\n",
            "HVG              11  y                               3.96094                  29                12.2936\n",
            "HVG              12  y                               3.93555                  39                13.3241\n",
            "HVG              13  y                               3.92383                  38                12.9175\n",
            "HVG              14  y                               3.96094                  34                14.6416\n",
            "HVG              15  y                               3.94727                  32                13.7964\n"
          ]
        }
      ]
    },
    {
      "cell_type": "code",
      "source": [
        "#Table for HVG - Climbing Up\n",
        "from tabulate import tabulate\n",
        "import itertools\n",
        "\n",
        "#all_nodes = [ig_g1.vcount(),ig_g2.vcount(),ig_g3.vcount(),ig_g4.vcount(),ig_g4.vcount(),ig_g5.vcount(),ig_g6.vcount(),ig_g7.vcount(),ig_g8.vcount(),ig_g9.vcount(),ig_g9.vcount(),ig_g10.vcount(),ig_g11.vcount(),ig_g12.vcount(),ig_g13.vcount(),ig_g14.vcount(),ig_g15.vcount()]\n",
        "all_degrees = [np.mean(hcup_z[0].degree()), np.mean(hcup_z[1].degree()),np.mean(hcup_z[2].degree()), np.mean(hcup_z[3].degree()),np.mean(hcup_z[4].degree()),np.mean(hcup_z[5].degree()),np.mean(hcup_z[6].degree()),np.mean(hcup_z[7].degree()),np.mean(hcup_z[8].degree()),np.mean(hcup_z[9].degree()),np.mean(hcup_z[10].degree()),np.mean(hcup_z[11].degree()),np.mean(hcup_z[12].degree()),np.mean(hcup_z[13].degree()),np.mean(hcup_z[14].degree())]\n",
        "network_diameter = [hcup_z[0].diameter(),hcup_z[1].diameter(),hcup_z[2].diameter(),hcup_z[3].diameter(),hcup_z[4].diameter(),hcup_z[5].diameter(),hcup_z[6].diameter(),hcup_z[7].diameter(),hcup_z[8].diameter(),hcup_z[9].diameter(),hcup_z[10].diameter(),hcup_z[11].diameter(),hcup_z[12].diameter(),hcup_z[13].diameter(),hcup_z[14].diameter()]\n",
        "avg_path_length = [hcup_z[0].average_path_length(),hcup_z[1].average_path_length(),hcup_z[2].average_path_length(),hcup_z[3].average_path_length(),hcup_z[4].average_path_length(),hcup_z[5].average_path_length(),hcup_z[6].average_path_length(),hcup_z[7].average_path_length(),hcup_z[8].average_path_length(),hcup_z[9].average_path_length(),hcup_z[10].average_path_length(),hcup_z[11].average_path_length(),hcup_z[12].average_path_length(),hcup_z[13].average_path_length(),hcup_z[14].average_path_length()]\n",
        "method = list(itertools.repeat('HVG', 15))\n",
        "subject = list(range(1,16))\n",
        "acc_axis = list(itertools.repeat('z', 15))\n",
        "\n",
        "info = {'Method':method,'Subject':subject,'Accelerometer Axis':acc_axis, 'Average Degrees': all_degrees, 'Network Diameter':network_diameter,'Average Path Length':avg_path_length}\n",
        "\n",
        "print(tabulate(info, headers='keys'))"
      ],
      "metadata": {
        "colab": {
          "base_uri": "https://localhost:8080/"
        },
        "id": "kQQOV7_QMdIB",
        "outputId": "06841f2a-5461-4729-8535-c379148a7583"
      },
      "execution_count": 51,
      "outputs": [
        {
          "output_type": "stream",
          "name": "stdout",
          "text": [
            "Method      Subject  Accelerometer Axis      Average Degrees    Network Diameter    Average Path Length\n",
            "--------  ---------  --------------------  -----------------  ------------------  ---------------------\n",
            "HVG               1  z                               3.95312                  30               11.0564\n",
            "HVG               2  z                               3.94727                  33               10.5733\n",
            "HVG               3  z                               3.93359                  34               12.2869\n",
            "HVG               4  z                               3.95508                  35               14.0536\n",
            "HVG               5  z                               3.93945                  33               12.8032\n",
            "HVG               6  z                               3.94727                  32               13.9456\n",
            "HVG               7  z                               3.96875                  20                9.36261\n",
            "HVG               8  z                               3.9375                   36               12.1324\n",
            "HVG               9  z                               3.93555                  33               12.5338\n",
            "HVG              10  z                               3.95117                  29               12.4461\n",
            "HVG              11  z                               3.94727                  32               14.6134\n",
            "HVG              12  z                               3.94336                  29               11.4947\n",
            "HVG              13  z                               3.94727                  37               14.0562\n",
            "HVG              14  z                               3.9375                   33               14.7801\n",
            "HVG              15  z                               3.96875                  26               11.5952\n"
          ]
        }
      ]
    },
    {
      "cell_type": "code",
      "source": [
        "#Table for HVG - Climbing Up\n",
        "from tabulate import tabulate\n",
        "import itertools\n",
        "\n",
        "#all_nodes = [ig_g1.vcount(),ig_g2.vcount(),ig_g3.vcount(),ig_g4.vcount(),ig_g4.vcount(),ig_g5.vcount(),ig_g6.vcount(),ig_g7.vcount(),ig_g8.vcount(),ig_g9.vcount(),ig_g9.vcount(),ig_g10.vcount(),ig_g11.vcount(),ig_g12.vcount(),ig_g13.vcount(),ig_g14.vcount(),ig_g15.vcount()]\n",
        "all_degrees = [np.mean(hcup_x[0].degree()), np.mean(hcup_x[1].degree()),np.mean(hcup_x[2].degree()), np.mean(hcup_x[3].degree()),np.mean(hcup_x[4].degree()),np.mean(hcup_x[5].degree()),np.mean(hcup_x[6].degree()),np.mean(hcup_x[7].degree()),np.mean(hcup_x[8].degree()),np.mean(hcup_x[9].degree()),np.mean(hcup_x[10].degree()),np.mean(hcup_x[11].degree()),np.mean(hcup_x[12].degree()),np.mean(hcup_x[13].degree()),np.mean(hcup_x[14].degree())]\n",
        "network_diameter = [hcup_x[0].diameter(),hcup_x[1].diameter(),hcup_x[2].diameter(),hcup_x[3].diameter(),hcup_x[4].diameter(),hcup_x[5].diameter(),hcup_x[6].diameter(),hcup_x[7].diameter(),hcup_x[8].diameter(),hcup_x[9].diameter(),hcup_x[10].diameter(),hcup_x[11].diameter(),hcup_x[12].diameter(),hcup_x[13].diameter(),hcup_x[14].diameter()]\n",
        "avg_path_length = [hcup_x[0].average_path_length(),hcup_x[1].average_path_length(),hcup_x[2].average_path_length(),hcup_x[3].average_path_length(),hcup_x[4].average_path_length(),hcup_x[5].average_path_length(),hcup_x[6].average_path_length(),hcup_x[7].average_path_length(),hcup_x[8].average_path_length(),hcup_x[9].average_path_length(),hcup_x[10].average_path_length(),hcup_x[11].average_path_length(),hcup_x[12].average_path_length(),hcup_x[13].average_path_length(),hcup_x[14].average_path_length()]\n",
        "method = list(itertools.repeat('HVG', 15))\n",
        "subject = list(range(1,16))\n",
        "acc_axis = list(itertools.repeat('x', 15))\n",
        "\n",
        "info = {'Method':method,'Subject':subject,'Accelerometer Axis':acc_axis, 'Average Degrees': all_degrees, 'Network Diameter':network_diameter,'Average Path Length':avg_path_length}\n",
        "\n",
        "print(tabulate(info, headers='keys'))"
      ],
      "metadata": {
        "colab": {
          "base_uri": "https://localhost:8080/"
        },
        "id": "61IpKOSZMpDp",
        "outputId": "f79b018b-d42e-453f-d192-81054dd8b0d4"
      },
      "execution_count": 52,
      "outputs": [
        {
          "output_type": "stream",
          "name": "stdout",
          "text": [
            "Method      Subject  Accelerometer Axis      Average Degrees    Network Diameter    Average Path Length\n",
            "--------  ---------  --------------------  -----------------  ------------------  ---------------------\n",
            "HVG               1  x                               3.95703                  35                15.4099\n",
            "HVG               2  x                               3.95898                  27                11.733\n",
            "HVG               3  x                               3.94336                  30                12.2399\n",
            "HVG               4  x                               3.94922                  26                11.1913\n",
            "HVG               5  x                               3.92383                  42                12.3809\n",
            "HVG               6  x                               3.95508                  32                13.888\n",
            "HVG               7  x                               3.94727                  32                14.8596\n",
            "HVG               8  x                               3.94336                  33                14.4482\n",
            "HVG               9  x                               3.94531                  28                12.82\n",
            "HVG              10  x                               3.94336                  28                13.3856\n",
            "HVG              11  x                               3.95508                  27                11.7815\n",
            "HVG              12  x                               3.95312                  26                11.4545\n",
            "HVG              13  x                               3.95117                  29                13.3005\n",
            "HVG              14  x                               3.92969                  38                15.1232\n",
            "HVG              15  x                               3.95312                  26                11.6591\n"
          ]
        }
      ]
    },
    {
      "cell_type": "code",
      "source": [
        "#Table for HVG - Climbing Up\n",
        "from tabulate import tabulate\n",
        "import itertools\n",
        "\n",
        "#all_nodes = [ig_g1.vcount(),ig_g2.vcount(),ig_g3.vcount(),ig_g4.vcount(),ig_g4.vcount(),ig_g5.vcount(),ig_g6.vcount(),ig_g7.vcount(),ig_g8.vcount(),ig_g9.vcount(),ig_g9.vcount(),ig_g10.vcount(),ig_g11.vcount(),ig_g12.vcount(),ig_g13.vcount(),ig_g14.vcount(),ig_g15.vcount()]\n",
        "all_degrees = [np.mean(hcup_x[0].degree()), np.mean(hcup_x[1].degree()),np.mean(hcup_x[2].degree()), np.mean(hcup_x[3].degree()),np.mean(hcup_x[4].degree()),np.mean(hcup_x[5].degree()),np.mean(hcup_x[6].degree()),np.mean(hcup_x[7].degree()),np.mean(hcup_x[8].degree()),np.mean(hcup_x[9].degree()),np.mean(hcup_x[10].degree()),np.mean(hcup_x[11].degree()),np.mean(hcup_x[12].degree()),np.mean(hcup_x[13].degree()),np.mean(hcup_x[14].degree())]\n",
        "network_diameter = [hcup_x[0].diameter(),hcup_x[1].diameter(),hcup_x[2].diameter(),hcup_x[3].diameter(),hcup_x[4].diameter(),hcup_x[5].diameter(),hcup_x[6].diameter(),hcup_x[7].diameter(),hcup_x[8].diameter(),hcup_x[9].diameter(),hcup_x[10].diameter(),hcup_x[11].diameter(),hcup_x[12].diameter(),hcup_x[13].diameter(),hcup_x[14].diameter()]\n",
        "avg_path_length = [hcup_x[0].average_path_length(),hcup_x[1].average_path_length(),hcup_x[2].average_path_length(),hcup_x[3].average_path_length(),hcup_x[4].average_path_length(),hcup_x[5].average_path_length(),hcup_x[6].average_path_length(),hcup_x[7].average_path_length(),hcup_x[8].average_path_length(),hcup_x[9].average_path_length(),hcup_x[10].average_path_length(),hcup_x[11].average_path_length(),hcup_x[12].average_path_length(),hcup_x[13].average_path_length(),hcup_x[14].average_path_length()]\n",
        "method = list(itertools.repeat('HVG', 15))\n",
        "subject = list(range(1,16))\n",
        "acc_axis = list(itertools.repeat('x', 15))\n",
        "\n",
        "info = {'Method':method,'Subject':subject,'Accelerometer Axis':acc_axis, 'Average Degrees': all_degrees, 'Network Diameter':network_diameter,'Average Path Length':avg_path_length}\n",
        "\n",
        "print(tabulate(info, headers='keys'))"
      ],
      "metadata": {
        "colab": {
          "base_uri": "https://localhost:8080/"
        },
        "id": "jx6Q3TM_NDML",
        "outputId": "d03c30aa-97df-4deb-d8d2-bb751311e302"
      },
      "execution_count": 53,
      "outputs": [
        {
          "output_type": "stream",
          "name": "stdout",
          "text": [
            "Method      Subject  Accelerometer Axis      Average Degrees    Network Diameter    Average Path Length\n",
            "--------  ---------  --------------------  -----------------  ------------------  ---------------------\n",
            "HVG               1  x                               3.95703                  35                15.4099\n",
            "HVG               2  x                               3.95898                  27                11.733\n",
            "HVG               3  x                               3.94336                  30                12.2399\n",
            "HVG               4  x                               3.94922                  26                11.1913\n",
            "HVG               5  x                               3.92383                  42                12.3809\n",
            "HVG               6  x                               3.95508                  32                13.888\n",
            "HVG               7  x                               3.94727                  32                14.8596\n",
            "HVG               8  x                               3.94336                  33                14.4482\n",
            "HVG               9  x                               3.94531                  28                12.82\n",
            "HVG              10  x                               3.94336                  28                13.3856\n",
            "HVG              11  x                               3.95508                  27                11.7815\n",
            "HVG              12  x                               3.95312                  26                11.4545\n",
            "HVG              13  x                               3.95117                  29                13.3005\n",
            "HVG              14  x                               3.92969                  38                15.1232\n",
            "HVG              15  x                               3.95312                  26                11.6591\n"
          ]
        }
      ]
    },
    {
      "cell_type": "code",
      "source": [
        "#Table for HVG - Climbing Up\n",
        "from tabulate import tabulate\n",
        "import itertools\n",
        "\n",
        "#all_nodes = [ig_g1.vcount(),ig_g2.vcount(),ig_g3.vcount(),ig_g4.vcount(),ig_g4.vcount(),ig_g5.vcount(),ig_g6.vcount(),ig_g7.vcount(),ig_g8.vcount(),ig_g9.vcount(),ig_g9.vcount(),ig_g10.vcount(),ig_g11.vcount(),ig_g12.vcount(),ig_g13.vcount(),ig_g14.vcount(),ig_g15.vcount()]\n",
        "all_degrees = [np.mean(hcup_x[0].degree()), np.mean(hcup_x[1].degree()),np.mean(hcup_x[2].degree()), np.mean(hcup_x[3].degree()),np.mean(hcup_x[4].degree()),np.mean(hcup_x[5].degree()),np.mean(hcup_x[6].degree()),np.mean(hcup_x[7].degree()),np.mean(hcup_x[8].degree()),np.mean(hcup_x[9].degree()),np.mean(hcup_x[10].degree()),np.mean(hcup_x[11].degree()),np.mean(hcup_x[12].degree()),np.mean(hcup_x[13].degree()),np.mean(hcup_x[14].degree())]\n",
        "network_diameter = [hcup_x[0].diameter(),hcup_x[1].diameter(),hcup_x[2].diameter(),hcup_x[3].diameter(),hcup_x[4].diameter(),hcup_x[5].diameter(),hcup_x[6].diameter(),hcup_x[7].diameter(),hcup_x[8].diameter(),hcup_x[9].diameter(),hcup_x[10].diameter(),hcup_x[11].diameter(),hcup_x[12].diameter(),hcup_x[13].diameter(),hcup_x[14].diameter()]\n",
        "avg_path_length = [hcup_x[0].average_path_length(),hcup_x[1].average_path_length(),hcup_x[2].average_path_length(),hcup_x[3].average_path_length(),hcup_x[4].average_path_length(),hcup_x[5].average_path_length(),hcup_x[6].average_path_length(),hcup_x[7].average_path_length(),hcup_x[8].average_path_length(),hcup_x[9].average_path_length(),hcup_x[10].average_path_length(),hcup_x[11].average_path_length(),hcup_x[12].average_path_length(),hcup_x[13].average_path_length(),hcup_x[14].average_path_length()]\n",
        "method = list(itertools.repeat('HVG', 15))\n",
        "subject = list(range(1,16))\n",
        "acc_axis = list(itertools.repeat('x', 15))\n",
        "\n",
        "info = {'Method':method,'Subject':subject,'Accelerometer Axis':acc_axis, 'Average Degrees': all_degrees, 'Network Diameter':network_diameter,'Average Path Length':avg_path_length}\n",
        "\n",
        "print(tabulate(info, headers='keys'))"
      ],
      "metadata": {
        "colab": {
          "base_uri": "https://localhost:8080/"
        },
        "id": "aAGrnU8QN67m",
        "outputId": "f931ffe1-483b-447f-9ba5-3fed833c1e27"
      },
      "execution_count": 54,
      "outputs": [
        {
          "output_type": "stream",
          "name": "stdout",
          "text": [
            "Method      Subject  Accelerometer Axis      Average Degrees    Network Diameter    Average Path Length\n",
            "--------  ---------  --------------------  -----------------  ------------------  ---------------------\n",
            "HVG               1  x                               3.95703                  35                15.4099\n",
            "HVG               2  x                               3.95898                  27                11.733\n",
            "HVG               3  x                               3.94336                  30                12.2399\n",
            "HVG               4  x                               3.94922                  26                11.1913\n",
            "HVG               5  x                               3.92383                  42                12.3809\n",
            "HVG               6  x                               3.95508                  32                13.888\n",
            "HVG               7  x                               3.94727                  32                14.8596\n",
            "HVG               8  x                               3.94336                  33                14.4482\n",
            "HVG               9  x                               3.94531                  28                12.82\n",
            "HVG              10  x                               3.94336                  28                13.3856\n",
            "HVG              11  x                               3.95508                  27                11.7815\n",
            "HVG              12  x                               3.95312                  26                11.4545\n",
            "HVG              13  x                               3.95117                  29                13.3005\n",
            "HVG              14  x                               3.92969                  38                15.1232\n",
            "HVG              15  x                               3.95312                  26                11.6591\n"
          ]
        }
      ]
    },
    {
      "cell_type": "code",
      "source": [
        "#Table for HVG - Climbing Up\n",
        "from tabulate import tabulate\n",
        "import itertools\n",
        "\n",
        "#all_nodes = [ig_g1.vcount(),ig_g2.vcount(),ig_g3.vcount(),ig_g4.vcount(),ig_g4.vcount(),ig_g5.vcount(),ig_g6.vcount(),ig_g7.vcount(),ig_g8.vcount(),ig_g9.vcount(),ig_g9.vcount(),ig_g10.vcount(),ig_g11.vcount(),ig_g12.vcount(),ig_g13.vcount(),ig_g14.vcount(),ig_g15.vcount()]\n",
        "all_degrees = [np.mean(hcup_x[0].degree()), np.mean(hcup_x[1].degree()),np.mean(hcup_x[2].degree()), np.mean(hcup_x[3].degree()),np.mean(hcup_x[4].degree()),np.mean(hcup_x[5].degree()),np.mean(hcup_x[6].degree()),np.mean(hcup_x[7].degree()),np.mean(hcup_x[8].degree()),np.mean(hcup_x[9].degree()),np.mean(hcup_x[10].degree()),np.mean(hcup_x[11].degree()),np.mean(hcup_x[12].degree()),np.mean(hcup_x[13].degree()),np.mean(hcup_x[14].degree())]\n",
        "network_diameter = [hcup_x[0].diameter(),hcup_x[1].diameter(),hcup_x[2].diameter(),hcup_x[3].diameter(),hcup_x[4].diameter(),hcup_x[5].diameter(),hcup_x[6].diameter(),hcup_x[7].diameter(),hcup_x[8].diameter(),hcup_x[9].diameter(),hcup_x[10].diameter(),hcup_x[11].diameter(),hcup_x[12].diameter(),hcup_x[13].diameter(),hcup_x[14].diameter()]\n",
        "avg_path_length = [hcup_x[0].average_path_length(),hcup_x[1].average_path_length(),hcup_x[2].average_path_length(),hcup_x[3].average_path_length(),hcup_x[4].average_path_length(),hcup_x[5].average_path_length(),hcup_x[6].average_path_length(),hcup_x[7].average_path_length(),hcup_x[8].average_path_length(),hcup_x[9].average_path_length(),hcup_x[10].average_path_length(),hcup_x[11].average_path_length(),hcup_x[12].average_path_length(),hcup_x[13].average_path_length(),hcup_x[14].average_path_length()]\n",
        "method = list(itertools.repeat('HVG', 15))\n",
        "subject = list(range(1,16))\n",
        "acc_axis = list(itertools.repeat('x', 15))\n",
        "\n",
        "info = {'Method':method,'Subject':subject,'Accelerometer Axis':acc_axis, 'Average Degrees': all_degrees, 'Network Diameter':network_diameter,'Average Path Length':avg_path_length}\n",
        "\n",
        "print(tabulate(info, headers='keys'))"
      ],
      "metadata": {
        "colab": {
          "base_uri": "https://localhost:8080/"
        },
        "id": "twkyVqQWOAKl",
        "outputId": "7946f023-ba33-4eae-9033-1c6f200c0baa"
      },
      "execution_count": 55,
      "outputs": [
        {
          "output_type": "stream",
          "name": "stdout",
          "text": [
            "Method      Subject  Accelerometer Axis      Average Degrees    Network Diameter    Average Path Length\n",
            "--------  ---------  --------------------  -----------------  ------------------  ---------------------\n",
            "HVG               1  x                               3.95703                  35                15.4099\n",
            "HVG               2  x                               3.95898                  27                11.733\n",
            "HVG               3  x                               3.94336                  30                12.2399\n",
            "HVG               4  x                               3.94922                  26                11.1913\n",
            "HVG               5  x                               3.92383                  42                12.3809\n",
            "HVG               6  x                               3.95508                  32                13.888\n",
            "HVG               7  x                               3.94727                  32                14.8596\n",
            "HVG               8  x                               3.94336                  33                14.4482\n",
            "HVG               9  x                               3.94531                  28                12.82\n",
            "HVG              10  x                               3.94336                  28                13.3856\n",
            "HVG              11  x                               3.95508                  27                11.7815\n",
            "HVG              12  x                               3.95312                  26                11.4545\n",
            "HVG              13  x                               3.95117                  29                13.3005\n",
            "HVG              14  x                               3.92969                  38                15.1232\n",
            "HVG              15  x                               3.95312                  26                11.6591\n"
          ]
        }
      ]
    },
    {
      "cell_type": "code",
      "source": [
        "#Table for HVG - Climbing Up\n",
        "from tabulate import tabulate\n",
        "import itertools\n",
        "\n",
        "#all_nodes = [ig_g1.vcount(),ig_g2.vcount(),ig_g3.vcount(),ig_g4.vcount(),ig_g4.vcount(),ig_g5.vcount(),ig_g6.vcount(),ig_g7.vcount(),ig_g8.vcount(),ig_g9.vcount(),ig_g9.vcount(),ig_g10.vcount(),ig_g11.vcount(),ig_g12.vcount(),ig_g13.vcount(),ig_g14.vcount(),ig_g15.vcount()]\n",
        "all_degrees = [np.mean(hcup_x[0].degree()), np.mean(hcup_x[1].degree()),np.mean(hcup_x[2].degree()), np.mean(hcup_x[3].degree()),np.mean(hcup_x[4].degree()),np.mean(hcup_x[5].degree()),np.mean(hcup_x[6].degree()),np.mean(hcup_x[7].degree()),np.mean(hcup_x[8].degree()),np.mean(hcup_x[9].degree()),np.mean(hcup_x[10].degree()),np.mean(hcup_x[11].degree()),np.mean(hcup_x[12].degree()),np.mean(hcup_x[13].degree()),np.mean(hcup_x[14].degree())]\n",
        "network_diameter = [hcup_x[0].diameter(),hcup_x[1].diameter(),hcup_x[2].diameter(),hcup_x[3].diameter(),hcup_x[4].diameter(),hcup_x[5].diameter(),hcup_x[6].diameter(),hcup_x[7].diameter(),hcup_x[8].diameter(),hcup_x[9].diameter(),hcup_x[10].diameter(),hcup_x[11].diameter(),hcup_x[12].diameter(),hcup_x[13].diameter(),hcup_x[14].diameter()]\n",
        "avg_path_length = [hcup_x[0].average_path_length(),hcup_x[1].average_path_length(),hcup_x[2].average_path_length(),hcup_x[3].average_path_length(),hcup_x[4].average_path_length(),hcup_x[5].average_path_length(),hcup_x[6].average_path_length(),hcup_x[7].average_path_length(),hcup_x[8].average_path_length(),hcup_x[9].average_path_length(),hcup_x[10].average_path_length(),hcup_x[11].average_path_length(),hcup_x[12].average_path_length(),hcup_x[13].average_path_length(),hcup_x[14].average_path_length()]\n",
        "method = list(itertools.repeat('HVG', 15))\n",
        "subject = list(range(1,16))\n",
        "acc_axis = list(itertools.repeat('x', 15))\n",
        "\n",
        "info = {'Method':method,'Subject':subject,'Accelerometer Axis':acc_axis, 'Average Degrees': all_degrees, 'Network Diameter':network_diameter,'Average Path Length':avg_path_length}\n",
        "\n",
        "print(tabulate(info, headers='keys'))"
      ],
      "metadata": {
        "colab": {
          "base_uri": "https://localhost:8080/"
        },
        "id": "2aTQmb2QOF7U",
        "outputId": "4da3fb0d-a059-4079-a891-f963c8d9192c"
      },
      "execution_count": 56,
      "outputs": [
        {
          "output_type": "stream",
          "name": "stdout",
          "text": [
            "Method      Subject  Accelerometer Axis      Average Degrees    Network Diameter    Average Path Length\n",
            "--------  ---------  --------------------  -----------------  ------------------  ---------------------\n",
            "HVG               1  x                               3.95703                  35                15.4099\n",
            "HVG               2  x                               3.95898                  27                11.733\n",
            "HVG               3  x                               3.94336                  30                12.2399\n",
            "HVG               4  x                               3.94922                  26                11.1913\n",
            "HVG               5  x                               3.92383                  42                12.3809\n",
            "HVG               6  x                               3.95508                  32                13.888\n",
            "HVG               7  x                               3.94727                  32                14.8596\n",
            "HVG               8  x                               3.94336                  33                14.4482\n",
            "HVG               9  x                               3.94531                  28                12.82\n",
            "HVG              10  x                               3.94336                  28                13.3856\n",
            "HVG              11  x                               3.95508                  27                11.7815\n",
            "HVG              12  x                               3.95312                  26                11.4545\n",
            "HVG              13  x                               3.95117                  29                13.3005\n",
            "HVG              14  x                               3.92969                  38                15.1232\n",
            "HVG              15  x                               3.95312                  26                11.6591\n"
          ]
        }
      ]
    },
    {
      "cell_type": "markdown",
      "source": [
        "# Task 2"
      ],
      "metadata": {
        "id": "oPBe63vXZwiC"
      }
    },
    {
      "cell_type": "code",
      "source": [
        "def s_entropy(freq_list):\n",
        "    ''' This function computes the shannon entropy of a given frequency distribution.\n",
        "    USAGE: shannon_entropy(freq_list)\n",
        "    ARGS: freq_list = Numeric vector representing the frequency distribution\n",
        "    OUTPUT: A numeric value representing shannon's entropy'''\n",
        "    freq_list = [element for element in freq_list if element != 0]\n",
        "    sh_entropy = 0.0\n",
        "    for freq in freq_list:\n",
        "        sh_entropy += freq * np.log(freq)\n",
        "    sh_entropy = -sh_entropy\n",
        "    return(sh_entropy)\n",
        "\n",
        "def ordinal_patterns(ts, embdim, embdelay):\n",
        "    ''' This function computes the ordinal patterns of a time series for a given embedding dimension and embedding delay.\n",
        "    USAGE: ordinal_patterns(ts, embdim, embdelay)\n",
        "    ARGS: ts = Numeric vector representing the time series, embdim = embedding dimension (3<=embdim<=7 prefered range), embdelay =  embdding delay\n",
        "    OUPTUT: A numeric vector representing frequencies of ordinal patterns'''\n",
        "    m, t = embdim, embdelay\n",
        "    x = ts if isinstance(ts, np.ndarray) else np.array(ts) \n",
        "\n",
        "    tmp = np.zeros((x.shape[0], m))\n",
        "    for i in range(m):\n",
        "        tmp[:, i] = np.roll(x, i*t)\n",
        "    partition = tmp[(t*m-1):, :] \n",
        "    permutation = np.argsort(partition)\n",
        "    idx = _hash(permutation)\n",
        "\n",
        "    counts = np.zeros(np.math.factorial(m))\n",
        "    for i in range(counts.shape[0]):\n",
        "        counts[i] = (idx == i).sum()\n",
        "    return list(counts[counts != 0].astype(int))\n",
        "\n",
        "def _hash(x):\n",
        "    m, n = x.shape\n",
        "    if n == 1:\n",
        "        return np.zeros(m)\n",
        "    return np.sum(np.apply_along_axis(lambda y: y < x[:, 0], 0, x), axis=1) * np.math.factorial(n-1) + _hash(x[:, 1:]) \n",
        "    \n",
        "\n",
        "def p_entropy(op):\n",
        "    ordinal_pat = op\n",
        "    max_entropy = np.log(len(ordinal_pat))\n",
        "    p = np.divide(np.array(ordinal_pat), float(sum(ordinal_pat)))\n",
        "    return(s_entropy(p)/max_entropy)\n",
        "\n",
        "def complexity(op):\n",
        "    ''' This function computes the complexity of a time series defined as: Comp_JS = Q_o * JSdivergence * pe\n",
        "    Q_o = Normalizing constant\n",
        "    JSdivergence = Jensen-Shannon divergence\n",
        "    pe = permutation entopry\n",
        "    ARGS: ordinal pattern'''\n",
        "    pe = p_entropy(op)\n",
        "    constant1 = (0.5+((1 - 0.5)/len(op)))* np.log(0.5+((1 - 0.5)/len(op)))\n",
        "    constant2 = ((1 - 0.5)/len(op))*np.log((1 - 0.5)/len(op))*(len(op) - 1)\n",
        "    constant3 = 0.5*np.log(len(op))\n",
        "    Q_o = -1/(constant1+constant2+constant3)\n",
        "\n",
        "    temp_op_prob = np.divide(op, sum(op))\n",
        "    temp_op_prob2 = (0.5*temp_op_prob)+(0.5*(1/len(op)))\n",
        "    JSdivergence = (s_entropy(temp_op_prob2) - 0.5 * s_entropy(temp_op_prob) - 0.5 * np.log(len(op)))\n",
        "    Comp_JS = Q_o * JSdivergence * pe\n",
        "    return(Comp_JS)"
      ],
      "metadata": {
        "id": "WErB91hOLwXT"
      },
      "execution_count": 57,
      "outputs": []
    },
    {
      "cell_type": "code",
      "source": [
        "import seaborn as sns\n",
        "sns.lineplot(x=range(1, len(walking['attr_x'][1000:2200])+1), y=walking['attr_x'][1000:2200])"
      ],
      "metadata": {
        "colab": {
          "base_uri": "https://localhost:8080/",
          "height": 0
        },
        "id": "FGyXEwcJoDgP",
        "outputId": "61d8068a-627d-424a-8f8f-4ed0b444f9e9"
      },
      "execution_count": 58,
      "outputs": [
        {
          "output_type": "execute_result",
          "data": {
            "text/plain": [
              "<matplotlib.axes._subplots.AxesSubplot at 0x7fa196390390>"
            ]
          },
          "metadata": {},
          "execution_count": 58
        },
        {
          "output_type": "display_data",
          "data": {
            "image/png": "[encoded data removed]",
            "text/plain": [
              "<Figure size 432x288 with 1 Axes>"
            ]
          },
          "metadata": {
            "needs_background": "light"
          }
        }
      ]
    },
    {
      "cell_type": "code",
      "source": [
        "sns.lineplot(x=range(1, len(running['attr_x'][1000:2200])+1), y=running['attr_x'][1000:2200])"
      ],
      "metadata": {
        "colab": {
          "base_uri": "https://localhost:8080/",
          "height": 0
        },
        "id": "j8nzoMddoFdl",
        "outputId": "1cdeae86-dda7-48ef-c276-027bd0596280"
      },
      "execution_count": 59,
      "outputs": [
        {
          "output_type": "execute_result",
          "data": {
            "text/plain": [
              "<matplotlib.axes._subplots.AxesSubplot at 0x7fa196a1a9d0>"
            ]
          },
          "metadata": {},
          "execution_count": 59
        },
        {
          "output_type": "display_data",
          "data": {
            "image/png": "[encoded data removed]",
            "text/plain": [
              "<Figure size 432x288 with 1 Axes>"
            ]
          },
          "metadata": {
            "needs_background": "light"
          }
        }
      ]
    },
    {
      "cell_type": "code",
      "source": [
        "sns.lineplot(x=range(1, len(climbing_down['attr_x'][1000:2200])+1), y=climbing_down['attr_x'][1000:2200])"
      ],
      "metadata": {
        "colab": {
          "base_uri": "https://localhost:8080/",
          "height": 0
        },
        "id": "HwHnGOunojqB",
        "outputId": "a3ccf7f7-361b-4b31-ef9d-765630491dab"
      },
      "execution_count": 60,
      "outputs": [
        {
          "output_type": "execute_result",
          "data": {
            "text/plain": [
              "<matplotlib.axes._subplots.AxesSubplot at 0x7fa19611dfd0>"
            ]
          },
          "metadata": {},
          "execution_count": 60
        },
        {
          "output_type": "display_data",
          "data": {
            "image/png": "[encoded data removed]",
            "text/plain": [
              "<Figure size 432x288 with 1 Axes>"
            ]
          },
          "metadata": {
            "needs_background": "light"
          }
        }
      ]
    },
    {
      "cell_type": "code",
      "source": [
        "sns.lineplot(x=range(1, len(climbing_up['attr_x'][1000:2200])+1), y=climbing_up['attr_x'][1000:2200])"
      ],
      "metadata": {
        "colab": {
          "base_uri": "https://localhost:8080/",
          "height": 0
        },
        "id": "TyLp5QpsorUf",
        "outputId": "8a02d890-383e-4ae5-9fbe-6237d8e32a6d"
      },
      "execution_count": 61,
      "outputs": [
        {
          "output_type": "execute_result",
          "data": {
            "text/plain": [
              "<matplotlib.axes._subplots.AxesSubplot at 0x7fa196b3a7d0>"
            ]
          },
          "metadata": {},
          "execution_count": 61
        },
        {
          "output_type": "display_data",
          "data": {
            "image/png": "[encoded data removed]",
            "text/plain": [
              "<Figure size 432x288 with 1 Axes>"
            ]
          },
          "metadata": {
            "needs_background": "light"
          }
        }
      ]
    },
    {
      "cell_type": "code",
      "source": [
        "walking_axis = walking.loc[:,[\"attr_x\",\"attr_y\", \"attr_z\"]]\n",
        "\n",
        "running_axis = running.loc[:,[\"attr_x\",\"attr_y\", \"attr_z\"]]\n",
        "\n",
        "climbingdown_axis = climbing_down.loc[:,[\"attr_x\",\"attr_y\", \"attr_z\"]]\n",
        "\n",
        "climbing_up_axis = climbing_up.loc[:,[\"attr_x\",\"attr_y\", \"attr_z\"]]\n"
      ],
      "metadata": {
        "id": "NKzpBmTeoHN4"
      },
      "execution_count": 62,
      "outputs": []
    },
    {
      "cell_type": "code",
      "source": [
        ""
      ],
      "metadata": {
        "id": "CZ-gKnKfMKnl"
      },
      "execution_count": 62,
      "outputs": []
    },
    {
      "cell_type": "markdown",
      "source": [
        "# Function to calculate the Permutation Entropy and Complexity"
      ],
      "metadata": {
        "id": "FeAOLkasva3S"
      }
    },
    {
      "cell_type": "code",
      "source": [
        "def findopx( activity , start , end, embdim, embdelay):\n",
        "  op = ordinal_patterns(activity['attr_x'][start:end], embdim, embdelay)\n",
        "  entropy = p_entropy(op)\n",
        "  complexity_op = complexity(op)\n",
        "  values = [entropy, complexity_op]\n",
        "  #activity_name = str(activity_name)\n",
        "  return(values)\n",
        "\n",
        "def findopy( activity , start , end, embdim, embdelay):\n",
        "  op = ordinal_patterns(activity['attr_y'][start:end], embdim, embdelay)\n",
        "  entropy = p_entropy(op)\n",
        "  complexity_op = complexity(op)\n",
        "  values = [entropy, complexity_op]\n",
        "  #activity_name = str(activity_name)\n",
        "  return(values)\n",
        "\n",
        "def findopz( activity , start , end, embdim, embdelay):\n",
        "  op = ordinal_patterns(activity['attr_z'][start:end], embdim, embdelay)\n",
        "  entropy = p_entropy(op)\n",
        "  complexity_op = complexity(op)\n",
        "  values = [entropy, complexity_op]\n",
        "  #activity_name = str(activity_name)\n",
        "  return(values)"
      ],
      "metadata": {
        "id": "J1d2uzlQuuWh"
      },
      "execution_count": 63,
      "outputs": []
    },
    {
      "cell_type": "markdown",
      "source": [
        "# For Walking "
      ],
      "metadata": {
        "id": "8z7Ol9lmvlqz"
      }
    },
    {
      "cell_type": "markdown",
      "source": [
        "\n",
        "*   Embedded Dimension : 3, 4, 5, 6\n",
        "*   Embedded Delay : 1, 2, 3\n",
        "*   Signal length : 1024, 2048, 4096\n",
        "\n",
        "\n"
      ],
      "metadata": {
        "id": "WpxoieBztAOZ"
      }
    },
    {
      "cell_type": "code",
      "source": [
        "#embedding dimension = 3, embedded delay: 1, signal length : 1024\n",
        "\n",
        "#Walking\n",
        "#findopz( activity , start , end, embdim, embdelay)\n",
        "\n",
        "#Permutation Entropy and Complexity for the data\n",
        "x = findopx(walking_axis, 1000, 2024, 3, 1)\n",
        "y = findopy(walking_axis, 1000, 2024, 3, 1)\n",
        "z = findopz(walking_axis, 1000, 2024, 3, 1)\n",
        "\n",
        "walking = [x,y,z]\n",
        "print(walking)"
      ],
      "metadata": {
        "colab": {
          "base_uri": "https://localhost:8080/"
        },
        "id": "r3z3E7xY_pky",
        "outputId": "abe064bb-575f-4004-b99f-4e0a3ac8b369"
      },
      "execution_count": 64,
      "outputs": [
        {
          "output_type": "stream",
          "name": "stdout",
          "text": [
            "[[0.83593135366074, 0.1334837071874079], [0.7780952779246245, 0.16651650074125418], [0.8856656907692442, 0.0972051135398041]]\n"
          ]
        }
      ]
    },
    {
      "cell_type": "code",
      "source": [
        "# Embedding dimension = 4, Embedded Delay : 1, Signal Length : 2048\n",
        "x = findopx(walking_axis, 1000, 3048, 4, 1)\n",
        "y = findopy(walking_axis, 1000, 3048, 4, 1)\n",
        "z = findopz(walking_axis, 1000, 3048, 4, 1)\n",
        "\n",
        "walking = [x,y,z]\n",
        "print(walking)"
      ],
      "metadata": {
        "colab": {
          "base_uri": "https://localhost:8080/"
        },
        "id": "WRwvluWKhP_3",
        "outputId": "df96cec0-e6ae-4d36-ded1-fbf6d6712f41"
      },
      "execution_count": 65,
      "outputs": [
        {
          "output_type": "stream",
          "name": "stdout",
          "text": [
            "[[0.7544158572968254, 0.23204456331509785], [0.6843675487429624, 0.2555287025141303], [0.8249428008623945, 0.18364343730767563]]\n"
          ]
        }
      ]
    },
    {
      "cell_type": "code",
      "source": [
        "# Embedding Dimension = 5, Embedded Delay : 1, Signal Length : 4096\n",
        "x = findopx(walking_axis, 1000, 5096, 5, 1)\n",
        "y = findopy(walking_axis, 1000, 5096, 5, 1)\n",
        "z = findopz(walking_axis, 1000, 5096, 5, 1)\n",
        "\n",
        "walking = [x,y,z]\n",
        "print(walking)"
      ],
      "metadata": {
        "colab": {
          "base_uri": "https://localhost:8080/"
        },
        "id": "IV4dcMbchZrC",
        "outputId": "51c4e96c-1cc2-4eed-c14c-f4276698d914"
      },
      "execution_count": 66,
      "outputs": [
        {
          "output_type": "stream",
          "name": "stdout",
          "text": [
            "[[0.7361258760114742, 0.29391566804047947], [0.6599465210867158, 0.30391354455249603], [0.7986416670023082, 0.2546340208397101]]\n"
          ]
        }
      ]
    },
    {
      "cell_type": "markdown",
      "source": [
        "# For Running"
      ],
      "metadata": {
        "id": "g8GVmu54w3Iu"
      }
    },
    {
      "cell_type": "code",
      "source": [
        "#embedding dimension = 3, embedded delay: 1, signal length : 1024\n",
        "\n",
        "#Running\n",
        "#findopz( activity , start , end, embdim, embdelay)\n",
        "\n",
        "#Permutation Entropy and Complexity for the data\n",
        "x = findopx(running_axis, 1000, 2024, 3, 1)\n",
        "y = findopy(running_axis, 1000, 2024, 3, 1)\n",
        "z = findopz(running_axis, 1000, 2024, 3, 1)\n",
        "\n",
        "running1 = [x,y,z]\n",
        "print(running1)"
      ],
      "metadata": {
        "colab": {
          "base_uri": "https://localhost:8080/"
        },
        "id": "1MlY3TPhzZII",
        "outputId": "2a3b240e-80a4-4879-e075-2f4df07f15b0"
      },
      "execution_count": 67,
      "outputs": [
        {
          "output_type": "stream",
          "name": "stdout",
          "text": [
            "[[0.9077468544901626, 0.0816436473062775], [0.7160554154581225, 0.19908720047140555], [0.8801790589445799, 0.09944240340247998]]\n"
          ]
        }
      ]
    },
    {
      "cell_type": "code",
      "source": [
        "# Embedding dimension = 4, Embedded Delay : 1, Signal Length : 2048\n",
        "\n",
        "#Running\n",
        "\n",
        "\n",
        "#Permutation Entropy and Complexity for the data\n",
        "x = findopx(running_axis, 1000, 3048, 3, 1)\n",
        "y = findopy(running_axis, 1000, 3048, 3, 1)\n",
        "z = findopz(running_axis, 1000, 3048, 3, 1)\n",
        "\n",
        "running2 = [x,y,z]\n",
        "print(running2)"
      ],
      "metadata": {
        "colab": {
          "base_uri": "https://localhost:8080/"
        },
        "id": "dFXp5_kXzZOc",
        "outputId": "d5003e1b-3331-4eaf-dd8e-ecfa781577be"
      },
      "execution_count": 68,
      "outputs": [
        {
          "output_type": "stream",
          "name": "stdout",
          "text": [
            "[[0.9190849065997756, 0.07188380234819496], [0.7159765217306472, 0.19875234933933977], [0.8852325316471972, 0.09463759437644166]]\n"
          ]
        }
      ]
    },
    {
      "cell_type": "code",
      "source": [
        "# Embedding Dimension = 5, Embedded Delay : 1, Signal Length : 4096\n",
        "\n",
        "#Running\n",
        "\n",
        "#Permutation Entropy and Complexity for the data\n",
        "x = findopx(running_axis, 1000, 5096, 5, 1)\n",
        "y = findopy(running_axis, 1000, 5096, 5, 1)\n",
        "z = findopz(running_axis, 1000, 5096, 5, 1)\n",
        "\n",
        "running3 = [x,y,z]\n",
        "print(running3)\n"
      ],
      "metadata": {
        "colab": {
          "base_uri": "https://localhost:8080/"
        },
        "id": "Vvvw-TWJzZw4",
        "outputId": "62b31424-90b9-4cc2-d9a3-87c996a0f339"
      },
      "execution_count": 69,
      "outputs": [
        {
          "output_type": "stream",
          "name": "stdout",
          "text": [
            "[[0.83089170636839, 0.20894249681515903], [0.6608436455862695, 0.28532123305377927], [0.7990034808862082, 0.22230177675119286]]\n"
          ]
        }
      ]
    },
    {
      "cell_type": "markdown",
      "source": [
        "# For Climbing Up "
      ],
      "metadata": {
        "id": "DWHfW-Nmw7Ib"
      }
    },
    {
      "cell_type": "code",
      "source": [
        "#Embedding Dimension = 3, Embedded Delay : 1, Signal Length : 4096\n",
        "\n",
        "#Permutation Entropy and Complexity for the data\n",
        "x = findopx(climbing_up_axis, 1000, 3048, 3, 1)\n",
        "y = findopy(climbing_up_axis, 1000, 3048, 3, 1)\n",
        "z = findopz(climbing_up_axis, 1000, 3048, 3, 1)\n",
        "\n",
        "c_up1 = [x,y,z]\n",
        "print(c_up1)"
      ],
      "metadata": {
        "colab": {
          "base_uri": "https://localhost:8080/"
        },
        "id": "WIZxCDme1IzN",
        "outputId": "6c3ba1ed-c495-4a19-8f83-71355f2d850a"
      },
      "execution_count": 70,
      "outputs": [
        {
          "output_type": "stream",
          "name": "stdout",
          "text": [
            "[[0.8929139324445783, 0.09226088371185476], [0.7625168014389199, 0.17908901194763358], [0.8515703451252493, 0.12269591177392442]]\n"
          ]
        }
      ]
    },
    {
      "cell_type": "code",
      "source": [
        "#Embedding Dimension = 4 , Embedded Delay : 2, Signal Length : 4096\n",
        "x = findopx(climbing_up_axis, 1000, 5096, 4, 1)\n",
        "y = findopy(climbing_up_axis, 1000, 5096, 4, 1)\n",
        "z = findopz(climbing_up_axis, 1000, 5096, 4, 1)\n",
        "\n",
        "c_up2 = [x,y,z]\n",
        "print(c_up2)"
      ],
      "metadata": {
        "colab": {
          "base_uri": "https://localhost:8080/"
        },
        "id": "sjwqaIle1tKn",
        "outputId": "95ca5f18-1e0b-4278-96f8-d6aba87e4086"
      },
      "execution_count": 71,
      "outputs": [
        {
          "output_type": "stream",
          "name": "stdout",
          "text": [
            "[[0.8242263412550235, 0.17104807115867732], [0.6812144565701491, 0.2441517867011078], [0.7980040977374288, 0.18955303694545222]]\n"
          ]
        }
      ]
    },
    {
      "cell_type": "code",
      "source": [
        "x = findopx(climbing_up_axis, 1000, 2024, 5, 1)\n",
        "y = findopy(climbing_up_axis, 1000, 2024, 5, 1)\n",
        "z = findopz(climbing_up_axis, 1000, 2024, 5, 1)\n",
        "\n",
        "c_up3 = [x,y,z]\n",
        "print(c_up3)"
      ],
      "metadata": {
        "colab": {
          "base_uri": "https://localhost:8080/"
        },
        "id": "kP-BBPLd2amU",
        "outputId": "7686ce06-5ad1-4dcd-ea6a-80124b2189e8"
      },
      "execution_count": 72,
      "outputs": [
        {
          "output_type": "stream",
          "name": "stdout",
          "text": [
            "[[0.8039670365116257, 0.22737454858266], [0.6754927911728452, 0.2685116378137722], [0.7555918274030062, 0.2500801542296823]]\n"
          ]
        }
      ]
    },
    {
      "cell_type": "markdown",
      "source": [
        "# For Climbing Down"
      ],
      "metadata": {
        "id": "A8t6Kl5MxFaG"
      }
    },
    {
      "cell_type": "code",
      "source": [
        "x = findopx(climbing_up_axis, 1000, 2024, 4, 1)\n",
        "y = findopy(climbing_up_axis, 1000, 2024, 4, 1)\n",
        "z = findopz(climbing_up_axis, 1000, 2024, 4, 1)\n",
        "\n",
        "cd1 = [x,y,z]\n",
        "print(cd1)\n",
        "\n",
        "x = findopx(climbing_up_axis, 1000, 3048, 4, 1)\n",
        "y = findopy(climbing_up_axis, 1000, 3048, 4, 1)\n",
        "z = findopz(climbing_up_axis, 1000, 3048, 4, 1)\n",
        "\n",
        "cd2 = [x,y,z]\n",
        "print(cd2)\n",
        "\n",
        "x = findopx(climbing_up_axis, 1000, 5096, 4, 1)\n",
        "y = findopy(climbing_up_axis, 1000, 5096, 4, 1)\n",
        "z = findopz(climbing_up_axis, 1000, 5096, 4, 1)\n",
        "\n",
        "cd3 = [x,y,z]\n",
        "print(cd3)"
      ],
      "metadata": {
        "colab": {
          "base_uri": "https://localhost:8080/"
        },
        "id": "YUQlpH4NxEmx",
        "outputId": "e0e6416d-a79b-45a5-ee94-7c908f21965a"
      },
      "execution_count": 73,
      "outputs": [
        {
          "output_type": "stream",
          "name": "stdout",
          "text": [
            "[[0.8291467853668297, 0.16464726495733464], [0.6670010076097838, 0.24856706205988705], [0.7640346141778604, 0.21149726939501537]]\n",
            "[[0.8379588535679129, 0.15979691252307687], [0.6712372294254574, 0.2481090373669589], [0.7855137165066065, 0.1975242725466009]]\n",
            "[[0.8242263412550235, 0.17104807115867732], [0.6812144565701491, 0.2441517867011078], [0.7980040977374288, 0.18955303694545222]]\n"
          ]
        }
      ]
    },
    {
      "cell_type": "markdown",
      "source": [
        "# 3.\n",
        "\n",
        "\n",
        "> Generate scatter plots:  permutation entropy vs complexity and color the points\n",
        "according to walking and running (for signal length =4096, embedded delay = 1,\n",
        "and embedded dimension = 3, 4, 5, 6, and all three accelerometer directions)\n",
        "\n"
      ],
      "metadata": {
        "id": "z8zI5nIN5K_x"
      }
    },
    {
      "cell_type": "code",
      "source": [
        "#Running and walking \n",
        "\n",
        "def findex1( activity , start ,end, embdim, embdelay):\n",
        "  op = ordinal_patterns(activity['attr_x'][start:end], embdim, embdelay)\n",
        "  entropy = p_entropy(op)\n",
        "  return(entropy)\n",
        "\n",
        "def findey1( activity , start , end, embdim, embdelay):\n",
        "  op = ordinal_patterns(activity['attr_y'][start:end], embdim, embdelay)\n",
        "  entropy = p_entropy(op)\n",
        "  return(entropy)\n",
        "\n",
        "def findez1( activity , start , end, embdim, embdelay):\n",
        "  op = ordinal_patterns(activity['attr_z'][start:end], embdim, embdelay)\n",
        "  entropy = p_entropy(op)\n",
        "  return(entropy)\n",
        "\n",
        "def findcx1( activity , start , end, embdim, embdelay):\n",
        "  op = ordinal_patterns(activity['attr_x'][start:end], embdim, embdelay)\n",
        "  complexity_op = complexity(op)\n",
        "  return(complexity_op)\n",
        "\n",
        "def findcy1( activity , start , end, embdim, embdelay):\n",
        "  op = ordinal_patterns(activity['attr_y'][start:end], embdim, embdelay)\n",
        "  complexity_op = complexity(op)\n",
        "  return(complexity_op)\n",
        "\n",
        "def findcz1( activity , start , end, embdim, embdelay):\n",
        "  op = ordinal_patterns(activity['attr_z'][start:end], embdim, embdelay)\n",
        "  complexity_op = complexity(op)\n",
        "  return(complexity_op)"
      ],
      "metadata": {
        "id": "9bHgy70j5PXM"
      },
      "execution_count": 74,
      "outputs": []
    },
    {
      "cell_type": "code",
      "source": [
        "#For running having signal length  = 4096 , embedding delay = 1, embedded dimension = 3, 4, 5, 6\n",
        "\n",
        "erx3 = findex1(running_axis, 1000, 5096, 3, 1)\n",
        "erx4 = findex1(running_axis, 1000, 5096, 4, 1)\n",
        "erx5 = findex1(running_axis, 1000, 5096, 5, 1)\n",
        "erx6 = findex1(running_axis, 1000, 5096, 5, 1)\n",
        "\n",
        "cx3 = findcx1(running_axis, 1000, 5096, 3, 1)\n",
        "cx4 = findcx1(running_axis, 1000, 5096, 4, 1)\n",
        "cx5 = findcx1(running_axis, 1000, 5096, 5, 1)\n",
        "cx6 = findcx1(running_axis, 1000, 5096, 6, 1)\n",
        "\n",
        "ewx3 = findex1(walking_axis, 1000, 5096, 3, 1)\n",
        "ewx4 = findex1(walking_axis, 1000, 5096, 4, 1)\n",
        "ewx5 = findex1(walking_axis, 1000, 5096, 5, 1)\n",
        "ewx6 = findex1(walking_axis, 1000, 5096, 5, 1)\n",
        "\n",
        "cw3 = findcx1(walking_axis, 1000, 5096, 3, 1)\n",
        "cw4 = findcx1(walking_axis, 1000, 5096, 4, 1)\n",
        "cw5 = findcx1(walking_axis, 1000, 5096, 5, 1)\n",
        "cw6 = findcx1(walking_axis, 1000, 5096, 6, 1)\n",
        "\n",
        "entropy_running_x = [erx3 , erx4, erx5, erx6]\n",
        "complexity_running_x = [cx3, cx4, cx5, cx6]\n",
        "\n",
        "entropy_walking_x = [ewx3 , ewx4, ewx5, ewx6]\n",
        "complexity_walking_x = [cw3, cw4, cw5, cw6]\n",
        "\n",
        "\n"
      ],
      "metadata": {
        "id": "MOFIRQJv7nms"
      },
      "execution_count": 75,
      "outputs": []
    },
    {
      "cell_type": "code",
      "source": [
        "plt.scatter(entropy_running_x, complexity_running_x, label = 'running')\n",
        "plt.scatter(entropy_walking_x, complexity_walking_x, label = 'walking')\n",
        "plt.title(\"Running and walking x axis\")\n",
        "plt.xlabel(\"Permutation Entropy\")\n",
        "plt.ylabel(\"Complexity\")\n",
        "plt.show()"
      ],
      "metadata": {
        "colab": {
          "base_uri": "https://localhost:8080/",
          "height": 295
        },
        "id": "R06tw4ohFCHm",
        "outputId": "a71b9b90-3a2e-4fae-e0e1-d764c73d34bb"
      },
      "execution_count": 76,
      "outputs": [
        {
          "output_type": "display_data",
          "data": {
            "image/png": "[encoded data removed]",
            "text/plain": [
              "<Figure size 432x288 with 1 Axes>"
            ]
          },
          "metadata": {
            "needs_background": "light"
          }
        }
      ]
    },
    {
      "cell_type": "code",
      "source": [
        "#Y- axis\n",
        "\n",
        "ery3 = findey1(running_axis, 1000, 5096, 3, 1)\n",
        "ery4 = findey1(running_axis, 1000, 5096, 4, 1)\n",
        "ery5 = findey1(running_axis, 1000, 5096, 5, 1)\n",
        "ery6 = findey1(running_axis, 1000, 5096, 5, 1)\n",
        "\n",
        "cy3 = findcy1(running_axis, 1000, 5096, 3, 1)\n",
        "cy4 = findcy1(running_axis, 1000, 5096, 4, 1)\n",
        "cy5 = findcy1(running_axis, 1000, 5096, 5, 1)\n",
        "cy6 = findcy1(running_axis, 1000, 5096, 6, 1)\n",
        "\n",
        "ewy3 = findey1(walking_axis, 1000, 5096, 3, 1)\n",
        "ewy4 = findey1(walking_axis, 1000, 5096, 4, 1)\n",
        "ewy5 = findey1(walking_axis, 1000, 5096, 5, 1)\n",
        "ewy6 = findey1(walking_axis, 1000, 5096, 5, 1)\n",
        "\n",
        "cwy3 = findcy1(walking_axis, 1000, 5096, 3, 1)\n",
        "cwy4 = findcy1(walking_axis, 1000, 5096, 4, 1)\n",
        "cwy5 = findcy1(walking_axis, 1000, 5096, 5, 1)\n",
        "cwy6 = findcy1(walking_axis, 1000, 5096, 6, 1)\n",
        "\n",
        "entropy_walking_y = [ewy3 , ewy4, ewy5, ewy6]\n",
        "complexity_walking_y = [cwy3, cwy4, cwy5, cwy6]\n",
        "\n",
        "entropy_running_y = [ery3 , ery4, ery5, ery6]\n",
        "complexity_running_y = [cy3, cy4, cy5, cy6]\n",
        "\n",
        "plt.scatter(entropy_running_y, complexity_running_y, label = 'running')\n",
        "plt.scatter(entropy_walking_y, complexity_walking_y, label = 'walking')\n",
        "plt.title(\"Running and walking y axis\")\n",
        "plt.xlabel(\"Permutation Entropy\")\n",
        "plt.ylabel(\"Complexity\")\n",
        "plt.show()\n"
      ],
      "metadata": {
        "colab": {
          "base_uri": "https://localhost:8080/",
          "height": 295
        },
        "id": "fAbD-0SYAWLL",
        "outputId": "6883e79a-65c7-46b9-a706-07ed96252c9d"
      },
      "execution_count": 77,
      "outputs": [
        {
          "output_type": "display_data",
          "data": {
            "image/png": "[encoded data removed]",
            "text/plain": [
              "<Figure size 432x288 with 1 Axes>"
            ]
          },
          "metadata": {
            "needs_background": "light"
          }
        }
      ]
    },
    {
      "cell_type": "code",
      "source": [
        "#z- axis\n",
        "erz3 = findez1(running_axis, 1000, 5096, 3, 1)\n",
        "erz4 = findez1(running_axis, 1000, 5096, 4, 1)\n",
        "erz5 = findez1(running_axis, 1000, 5096, 5, 1)\n",
        "erz6 = findez1(running_axis, 1000, 5096, 5, 1)\n",
        "\n",
        "cz3 = findcz1(running_axis, 1000, 5096, 3, 1)\n",
        "cz4 = findcz1(running_axis, 1000, 5096, 4, 1)\n",
        "cz5 = findcz1(running_axis, 1000, 5096, 5, 1)\n",
        "cz6 = findcz1(running_axis, 1000, 5096, 6, 1)\n",
        "\n",
        "\n",
        "ewz3 = findez1(walking_axis, 1000, 5096, 3, 1)\n",
        "ewz4 = findez1(walking_axis, 1000, 5096, 4, 1)\n",
        "ewz5 = findez1(walking_axis, 1000, 5096, 5, 1)\n",
        "ewz6 = findez1(walking_axis, 1000, 5096, 5, 1)\n",
        "\n",
        "cwz3 = findcz1(walking_axis, 1000, 5096, 3, 1)\n",
        "cwz4 = findcz1(walking_axis, 1000, 5096, 4, 1)\n",
        "cwz5 = findcz1(walking_axis, 1000, 5096, 5, 1)\n",
        "cwz6 = findcz1(walking_axis, 1000, 5096, 6, 1)\n",
        "\n",
        "entropy_walking_z = [ewz3 , ewz4, ewz5, ewz6]\n",
        "complexity_walking_z = [cwz3, cwz4, cwz5, cwz6]\n",
        "\n",
        "entropy_running_z = [erz3 , erz4, erz5, erz6]\n",
        "complexity_running_z = [cz3, cz4, cz5, cz6]\n",
        "\n",
        "plt.scatter(entropy_running_z, complexity_running_z, label = 'running')\n",
        "plt.scatter(entropy_walking_z, complexity_walking_z, label = 'walking')\n",
        "plt.title(\"Running and walking z axis\")\n",
        "plt.xlabel(\"Permutation Entropy\")\n",
        "plt.ylabel(\"Complexity\")\n",
        "plt.show()"
      ],
      "metadata": {
        "colab": {
          "base_uri": "https://localhost:8080/",
          "height": 295
        },
        "id": "moFMszlfAWSN",
        "outputId": "f915b78d-44a7-44b8-acb1-e4aa86c34f7c"
      },
      "execution_count": 78,
      "outputs": [
        {
          "output_type": "display_data",
          "data": {
            "image/png": "[encoded data removed]",
            "text/plain": [
              "<Figure size 432x288 with 1 Axes>"
            ]
          },
          "metadata": {
            "needs_background": "light"
          }
        }
      ]
    },
    {
      "cell_type": "markdown",
      "source": [
        "Generate  scatter plots: permutation entropy vs complexity and color the points\n",
        "according to climbing up and climbing down (for signal length =4096, embedded\n",
        "delay = 1, and embedded dimension = 3, 4, 5, 6, all three accelerometer\n",
        "directions)\n"
      ],
      "metadata": {
        "id": "naivvxRdJ1_f"
      }
    },
    {
      "cell_type": "code",
      "source": [
        "#For running having signal length  = 4096 , embedding delay = 1, embedded dimension = 3, 4, 5, 6\n",
        "\n",
        "ecux3 = findex1(climbing_up_axis, 1000, 5096, 3, 1)\n",
        "ecux4 = findex1(climbing_up_axis, 1000, 5096, 4, 1)\n",
        "ecux5 = findex1(climbing_up_axis, 1000, 5096, 5, 1)\n",
        "ecux6 = findex1(climbing_up_axis, 1000, 5096, 5, 1)\n",
        "\n",
        "ccux3 = findcx1(climbing_up_axis, 1000, 5096, 3, 1)\n",
        "ccux4 = findcx1(climbing_up_axis, 1000, 5096, 4, 1)\n",
        "ccux5 = findcx1(climbing_up_axis, 1000, 5096, 5, 1)\n",
        "ccux6 = findcx1(climbing_up_axis, 1000, 5096, 6, 1)\n",
        "\n",
        "ecdx3 = findex1(climbingdown_axis, 1000, 5096, 3, 1)\n",
        "ecdx4 = findex1(climbingdown_axis, 1000, 5096, 4, 1)\n",
        "ecdx5 = findex1(climbingdown_axis, 1000, 5096, 5, 1)\n",
        "ecdx6 = findex1(climbingdown_axis, 1000, 5096, 5, 1)\n",
        "\n",
        "ccd3 = findcx1(climbingdown_axis, 1000, 5096, 3, 1)\n",
        "ccd4 = findcx1(climbingdown_axis, 1000, 5096, 4, 1)\n",
        "ccd5 = findcx1(climbingdown_axis, 1000, 5096, 5, 1)\n",
        "ccd6 = findcx1(climbingdown_axis, 1000, 5096, 6, 1)\n",
        "\n",
        "entropy_cu_x = [ecux3 , ecux4, ecux5, ecux6]\n",
        "complexity_cu_x = [ccux3, ccux4, ccux5, ccux6]\n",
        "\n",
        "entropy_cd_x = [ecdx3 , ecdx4, ecdx5, ecdx6]\n",
        "complexity_cd_x = [ccd3, ccd4, ccd5, ccd6]\n",
        "\n",
        "plt.scatter(entropy_cu_x, complexity_cu_x, label = 'climbing up ')\n",
        "plt.scatter(entropy_cd_x, complexity_cd_x, label = 'climbing down')\n",
        "plt.title(\"Climbing up and down x axis\")\n",
        "plt.xlabel(\"Permutation Entropy\")\n",
        "plt.ylabel(\"Complexity\")\n",
        "plt.show()"
      ],
      "metadata": {
        "colab": {
          "base_uri": "https://localhost:8080/",
          "height": 295
        },
        "id": "2e6s5-p3Ibar",
        "outputId": "91f5b57d-f6b7-47d0-bc86-d7b8191aa092"
      },
      "execution_count": 79,
      "outputs": [
        {
          "output_type": "display_data",
          "data": {
            "image/png": "[encoded data removed]",
            "text/plain": [
              "<Figure size 432x288 with 1 Axes>"
            ]
          },
          "metadata": {
            "needs_background": "light"
          }
        }
      ]
    },
    {
      "cell_type": "code",
      "source": [
        "ecuy3 = findey1(climbing_up_axis, 1000, 5096, 3, 1)\n",
        "ecuy4 = findey1(climbing_up_axis, 1000, 5096, 4, 1)\n",
        "ecuy5 = findey1(climbing_up_axis, 1000, 5096, 5, 1)\n",
        "ecuy6 = findey1(climbing_up_axis, 1000, 5096, 5, 1)\n",
        "\n",
        "ccuy3 = findcy1(climbing_up_axis, 1000, 5096, 3, 1)\n",
        "ccuy4 = findcy1(climbing_up_axis, 1000, 5096, 4, 1)\n",
        "ccuy5 = findcy1(climbing_up_axis, 1000, 5096, 5, 1)\n",
        "ccuy6 = findcy1(climbing_up_axis, 1000, 5096, 6, 1)\n",
        "\n",
        "ecdy3 = findey1(climbingdown_axis, 1000, 5096, 3, 1)\n",
        "ecdy4 = findey1(climbingdown_axis, 1000, 5096, 4, 1)\n",
        "ecdy5 = findey1(climbingdown_axis, 1000, 5096, 5, 1)\n",
        "ecdy6 = findey1(climbingdown_axis, 1000, 5096, 5, 1)\n",
        "\n",
        "ccdy3 = findcy1(climbingdown_axis, 1000, 5096, 3, 1)\n",
        "ccdy4 = findcy1(climbingdown_axis, 1000, 5096, 4, 1)\n",
        "ccdy5 = findcy1(climbingdown_axis, 1000, 5096, 5, 1)\n",
        "ccdy6 = findcy1(climbingdown_axis, 1000, 5096, 6, 1)\n",
        "\n",
        "entropy_cu_y = [ecuy3 , ecuy4, ecuy5, ecuy6]\n",
        "complexity_cu_y = [ccuy3, ccuy4, ccuy5, ccuy6]\n",
        "\n",
        "entropy_cd_y = [ecdy3 , ecdy4, ecdy5, ecdy6]\n",
        "complexity_cd_y = [ccdy3, ccdy4, ccdy5, ccdy6]\n",
        "\n",
        "\n",
        "plt.scatter(entropy_cu_y, complexity_cu_y, label = 'climbing up ')\n",
        "plt.scatter(entropy_cd_y, complexity_cd_y, label = 'climbing down')\n",
        "plt.title(\"Climbing up and down y axis\")\n",
        "plt.xlabel(\"Permutation Entropy\")\n",
        "plt.ylabel(\"Complexity\")\n",
        "plt.show()"
      ],
      "metadata": {
        "colab": {
          "base_uri": "https://localhost:8080/",
          "height": 295
        },
        "id": "nC07_6hhLZAV",
        "outputId": "223cc6b6-515c-4470-e516-334114ab924b"
      },
      "execution_count": 80,
      "outputs": [
        {
          "output_type": "display_data",
          "data": {
            "image/png": "[encoded data removed]",
            "text/plain": [
              "<Figure size 432x288 with 1 Axes>"
            ]
          },
          "metadata": {
            "needs_background": "light"
          }
        }
      ]
    },
    {
      "cell_type": "code",
      "source": [
        "ecuz3 = findez1(climbing_up_axis, 1000, 5096, 3, 1)\n",
        "ecuz4 = findez1(climbing_up_axis, 1000, 5096, 4, 1)\n",
        "ecuz5 = findez1(climbing_up_axis, 1000, 5096, 5, 1)\n",
        "ecuz6 = findez1(climbing_up_axis, 1000, 5096, 5, 1)\n",
        "\n",
        "ccuz3 = findcz1(climbing_up_axis, 1000, 5096, 3, 1)\n",
        "ccuz4 = findcz1(climbing_up_axis, 1000, 5096, 4, 1)\n",
        "ccuz5 = findcz1(climbing_up_axis, 1000, 5096, 5, 1)\n",
        "ccuz6 = findcz1(climbing_up_axis, 1000, 5096, 6, 1)\n",
        "\n",
        "ecdz3 = findez1(climbingdown_axis, 1000, 5096, 3, 1)\n",
        "ecdz4 = findez1(climbingdown_axis, 1000, 5096, 4, 1)\n",
        "ecdz5 = findez1(climbingdown_axis, 1000, 5096, 5, 1)\n",
        "ecdz6 = findez1(climbingdown_axis, 1000, 5096, 5, 1)\n",
        "\n",
        "ccdz3 = findcz1(climbingdown_axis, 1000, 5096, 3, 1)\n",
        "ccdz4 = findcz1(climbingdown_axis, 1000, 5096, 4, 1)\n",
        "ccdz5 = findcz1(climbingdown_axis, 1000, 5096, 5, 1)\n",
        "ccdz6 = findcz1(climbingdown_axis, 1000, 5096, 6, 1)\n",
        "\n",
        "entropz_cu_z = [ecuz3 , ecuz4, ecuz5, ecuz6]\n",
        "complexitz_cu_z = [ccuz3, ccuz4, ccuz5, ccuz6]\n",
        "\n",
        "entropz_cd_z = [ecdz3 , ecdz4, ecdz5, ecdz6]\n",
        "complexitz_cd_z = [ccdz3, ccdz4, ccdz5, ccdz6]\n",
        "\n",
        "plt.scatter(entropz_cu_z, complexitz_cu_z, label = 'climbing up ')\n",
        "plt.scatter(entropz_cd_z, complexitz_cd_z, label = 'climbing down')\n",
        "plt.title(\"Climbing up and down z axis\")\n",
        "plt.xlabel(\"Permutation Entropy\")\n",
        "plt.ylabel(\"Complexity\")\n",
        "plt.show()"
      ],
      "metadata": {
        "colab": {
          "base_uri": "https://localhost:8080/",
          "height": 295
        },
        "id": "CD_4zdGpML-g",
        "outputId": "4b50eeb8-fe15-4c9f-8002-ecf1b2d75aec"
      },
      "execution_count": 81,
      "outputs": [
        {
          "output_type": "display_data",
          "data": {
            "image/png": "[encoded data removed]",
            "text/plain": [
              "<Figure size 432x288 with 1 Axes>"
            ]
          },
          "metadata": {
            "needs_background": "light"
          }
        }
      ]
    },
    {
      "cell_type": "code",
      "source": [
        "#Running, climbing up, x axis \n",
        "\n",
        "#entropy_1024_x = [findex1(climbing_up_axis['attr_x'], 1000, , 3, 1)]\n",
        "\n",
        "\n",
        "Permutation_Entropy = [findex1(dataframes_list_cup[0], 1000, 2024, 3, 1), \n",
        "                       findex1(dataframes_list_cup[1], 1000, 2024, 3, 1), \n",
        "                       findex1(dataframes_list_cup[2], 1000, 2024, 3, 1),\n",
        "                       findex1(dataframes_list_cup[3], 1000, 2024, 3, 1),\n",
        "                       findex1(dataframes_list_cup[4], 1000, 2024, 3, 1),\n",
        "                       findex1(dataframes_list_cup[5], 1000, 2024, 3, 1),\n",
        "                       findex1(dataframes_list_cup[6], 1000, 2024, 3, 1),\n",
        "                       findex1(dataframes_list_cup[7], 1000, 2024, 3, 1),\n",
        "                       findex1(dataframes_list_cup[8], 1000, 2024, 3, 1),\n",
        "                       findex1(dataframes_list_cup[9], 1000, 2024, 3, 1),\n",
        "                       findex1(dataframes_list_cup[10], 1000, 2024, 3, 1),\n",
        "                       findex1(dataframes_list_cup[11], 1000, 2024, 3, 1),\n",
        "                       findex1(dataframes_list_cup[12], 1000, 2024, 3, 1),\n",
        "                       findex1(dataframes_list_cup[13], 1000, 2024, 3, 1),\n",
        "                       findex1(dataframes_list_cup[14], 1000, 2024, 3, 1)]\n",
        "Complexity = [findex1(dataframes_list_cup[0], 1000, 2024, 3, 1), \n",
        "                       findex1(dataframes_list_cup[1], 1000, 2024, 3, 1), \n",
        "                       findex1(dataframes_list_cup[2], 1000, 2024, 3, 1),\n",
        "                       findex1(dataframes_list_cup[3], 1000, 2024, 3, 1),\n",
        "                       findex1(dataframes_list_cup[4], 1000, 2024, 3, 1),\n",
        "                       findex1(dataframes_list_cup[5], 1000, 2024, 3, 1),\n",
        "                       findex1(dataframes_list_cup[6], 1000, 2024, 3, 1),\n",
        "                       findex1(dataframes_list_cup[7], 1000, 2024, 3, 1),\n",
        "                       findex1(dataframes_list_cup[8], 1000, 2024, 3, 1),\n",
        "                       findex1(dataframes_list_cup[9], 1000, 2024, 3, 1),\n",
        "                       findex1(dataframes_list_cup[10], 1000, 2024, 3, 1),\n",
        "                       findex1(dataframes_list_cup[11], 1000, 2024, 3, 1),\n",
        "                       findex1(dataframes_list_cup[12], 1000, 2024, 3, 1),\n",
        "                       findex1(dataframes_list_cup[13], 1000, 2024, 3, 1),\n",
        "                       findex1(dataframes_list_cup[14], 1000, 2024, 3, 1)]\n",
        "\n",
        "subject = list(range(1,16))\n",
        "acc_axis = list(itertools.repeat('x', 15))\n",
        "Activity = list(itertools.repeat('Climbing up', 15))\n",
        "\n",
        "\n",
        "info = {'Subject':subject,'Accelerometer Axis':acc_axis,'Permutation Entropy': Permutation_Entropy , 'Complexity': Complexity}\n",
        "\n",
        "print(tabulate(info, headers='keys'))\n",
        "\n",
        "#entropy_1024_x = [findex1(dataframes_list_cup[0]['attr_x'], 1000, 2024, 3, 1)]"
      ],
      "metadata": {
        "colab": {
          "base_uri": "https://localhost:8080/"
        },
        "id": "rjOTphC72Ohl",
        "outputId": "8d38b173-2e34-446f-a1ca-cec6e0c68955"
      },
      "execution_count": 83,
      "outputs": [
        {
          "output_type": "stream",
          "name": "stdout",
          "text": [
            "  Subject  Accelerometer Axis      Permutation Entropy    Complexity\n",
            "---------  --------------------  ---------------------  ------------\n",
            "        1  x                                  0.810008      0.810008\n",
            "        2  x                                  0.835546      0.835546\n",
            "        3  x                                  0.879337      0.879337\n",
            "        4  x                                  0.898738      0.898738\n",
            "        5  x                                  0.863725      0.863725\n",
            "        6  x                                  0.786659      0.786659\n",
            "        7  x                                  0.761058      0.761058\n",
            "        8  x                                  0.694702      0.694702\n",
            "        9  x                                  0.853246      0.853246\n",
            "       10  x                                  0.886549      0.886549\n",
            "       11  x                                  0.76472       0.76472\n",
            "       12  x                                  0.835271      0.835271\n",
            "       13  x                                  0.774147      0.774147\n",
            "       14  x                                  0.914347      0.914347\n",
            "       15  x                                  0.729595      0.729595\n"
          ]
        }
      ]
    },
    {
      "cell_type": "code",
      "source": [
        "#Running, climbing up, x axis \n",
        "\n",
        "#entropy_1024_x = [findex1(climbing_up_axis['attr_x'], 1000, , 3, 1)]\n",
        "\n",
        "\n",
        "Permutation_Entropy = [findex1(dataframes_list_cup[0], 1000, 2024, 3, 1), \n",
        "                       findex1(dataframes_list_cup[1], 1000, 2024, 3, 1), \n",
        "                       findex1(dataframes_list_cup[2], 1000, 2024, 3, 1),\n",
        "                       findex1(dataframes_list_cup[3], 1000, 2024, 3, 1),\n",
        "                       findex1(dataframes_list_cup[4], 1000, 2024, 3, 1),\n",
        "                       findex1(dataframes_list_cup[5], 1000, 2024, 3, 1),\n",
        "                       findex1(dataframes_list_cup[6], 1000, 2024, 3, 1),\n",
        "                       findex1(dataframes_list_cup[7], 1000, 2024, 3, 1),\n",
        "                       findex1(dataframes_list_cup[8], 1000, 2024, 3, 1),\n",
        "                       findex1(dataframes_list_cup[9], 1000, 2024, 3, 1),\n",
        "                       findex1(dataframes_list_cup[10], 1000, 2024, 3, 1),\n",
        "                       findex1(dataframes_list_cup[11], 1000, 2024, 3, 1),\n",
        "                       findex1(dataframes_list_cup[12], 1000, 2024, 3, 1),\n",
        "                       findex1(dataframes_list_cup[13], 1000, 2024, 3, 1),\n",
        "                       findex1(dataframes_list_cup[14], 1000, 2024, 3, 1)]\n",
        "Complexity = [findex1(dataframes_list_cup[0], 1000, 2024, 3, 1), \n",
        "                       findex1(dataframes_list_cup[1], 1000, 2024, 3, 1), \n",
        "                       findex1(dataframes_list_cup[2], 1000, 2024, 3, 1),\n",
        "                       findex1(dataframes_list_cup[3], 1000, 2024, 3, 1),\n",
        "                       findex1(dataframes_list_cup[4], 1000, 2024, 3, 1),\n",
        "                       findex1(dataframes_list_cup[5], 1000, 2024, 3, 1),\n",
        "                       findex1(dataframes_list_cup[6], 1000, 2024, 3, 1),\n",
        "                       findex1(dataframes_list_cup[7], 1000, 2024, 3, 1),\n",
        "                       findex1(dataframes_list_cup[8], 1000, 2024, 3, 1),\n",
        "                       findex1(dataframes_list_cup[9], 1000, 2024, 3, 1),\n",
        "                       findex1(dataframes_list_cup[10], 1000, 2024, 3, 1),\n",
        "                       findex1(dataframes_list_cup[11], 1000, 2024, 3, 1),\n",
        "                       findex1(dataframes_list_cup[12], 1000, 2024, 3, 1),\n",
        "                       findex1(dataframes_list_cup[13], 1000, 2024, 3, 1),\n",
        "                       findex1(dataframes_list_cup[14], 1000, 2024, 3, 1)]\n",
        "\n",
        "subject = list(range(1,16))\n",
        "acc_axis = list(itertools.repeat('x', 15))\n",
        "Activity = list(itertools.repeat('Climbing up', 15))\n",
        "\n",
        "\n",
        "info = {'Subject':subject,'Accelerometer Axis':acc_axis,'Permutation Entropy': Permutation_Entropy , 'Complexity': Complexity}\n",
        "\n",
        "print(tabulate(info, headers='keys'))"
      ],
      "metadata": {
        "colab": {
          "base_uri": "https://localhost:8080/"
        },
        "id": "1WVFmzAe9NSp",
        "outputId": "02135e20-8e94-4f23-8009-1b066afd8df9"
      },
      "execution_count": 84,
      "outputs": [
        {
          "output_type": "stream",
          "name": "stdout",
          "text": [
            "  Subject  Accelerometer Axis      Permutation Entropy    Complexity\n",
            "---------  --------------------  ---------------------  ------------\n",
            "        1  x                                  0.810008      0.810008\n",
            "        2  x                                  0.835546      0.835546\n",
            "        3  x                                  0.879337      0.879337\n",
            "        4  x                                  0.898738      0.898738\n",
            "        5  x                                  0.863725      0.863725\n",
            "        6  x                                  0.786659      0.786659\n",
            "        7  x                                  0.761058      0.761058\n",
            "        8  x                                  0.694702      0.694702\n",
            "        9  x                                  0.853246      0.853246\n",
            "       10  x                                  0.886549      0.886549\n",
            "       11  x                                  0.76472       0.76472\n",
            "       12  x                                  0.835271      0.835271\n",
            "       13  x                                  0.774147      0.774147\n",
            "       14  x                                  0.914347      0.914347\n",
            "       15  x                                  0.729595      0.729595\n"
          ]
        }
      ]
    },
    {
      "cell_type": "code",
      "source": [
        "#Running, climbing up, x axis \n",
        "\n",
        "#entropy_1024_x = [findex1(climbing_up_axis['attr_x'], 1000, , 3, 1)]\n",
        "\n",
        "\n",
        "Permutation_Entropy = [findex1(dataframes_list_cup[0], 1000, 2024, 3, 1), \n",
        "                       findex1(dataframes_list_cup[1], 1000, 2024, 3, 1), \n",
        "                       findex1(dataframes_list_cup[2], 1000, 2024, 3, 1),\n",
        "                       findex1(dataframes_list_cup[3], 1000, 2024, 3, 1),\n",
        "                       findex1(dataframes_list_cup[4], 1000, 2024, 3, 1),\n",
        "                       findex1(dataframes_list_cup[5], 1000, 2024, 3, 1),\n",
        "                       findex1(dataframes_list_cup[6], 1000, 2024, 3, 1),\n",
        "                       findex1(dataframes_list_cup[7], 1000, 2024, 3, 1),\n",
        "                       findex1(dataframes_list_cup[8], 1000, 2024, 3, 1),\n",
        "                       findex1(dataframes_list_cup[9], 1000, 2024, 3, 1),\n",
        "                       findex1(dataframes_list_cup[10], 1000, 2024, 3, 1),\n",
        "                       findex1(dataframes_list_cup[11], 1000, 2024, 3, 1),\n",
        "                       findex1(dataframes_list_cup[12], 1000, 2024, 3, 1),\n",
        "                       findex1(dataframes_list_cup[13], 1000, 2024, 3, 1),\n",
        "                       findex1(dataframes_list_cup[14], 1000, 2024, 3, 1)]\n",
        "Complexity = [findex1(dataframes_list_cup[0], 1000, 2024, 3, 1), \n",
        "                       findex1(dataframes_list_cup[1], 1000, 2024, 3, 1), \n",
        "                       findex1(dataframes_list_cup[2], 1000, 2024, 3, 1),\n",
        "                       findex1(dataframes_list_cup[3], 1000, 2024, 3, 1),\n",
        "                       findex1(dataframes_list_cup[4], 1000, 2024, 3, 1),\n",
        "                       findex1(dataframes_list_cup[5], 1000, 2024, 3, 1),\n",
        "                       findex1(dataframes_list_cup[6], 1000, 2024, 3, 1),\n",
        "                       findex1(dataframes_list_cup[7], 1000, 2024, 3, 1),\n",
        "                       findex1(dataframes_list_cup[8], 1000, 2024, 3, 1),\n",
        "                       findex1(dataframes_list_cup[9], 1000, 2024, 3, 1),\n",
        "                       findex1(dataframes_list_cup[10], 1000, 2024, 3, 1),\n",
        "                       findex1(dataframes_list_cup[11], 1000, 2024, 3, 1),\n",
        "                       findex1(dataframes_list_cup[12], 1000, 2024, 3, 1),\n",
        "                       findex1(dataframes_list_cup[13], 1000, 2024, 3, 1),\n",
        "                       findex1(dataframes_list_cup[14], 1000, 2024, 3, 1)]\n",
        "\n",
        "subject = list(range(1,16))\n",
        "acc_axis = list(itertools.repeat('x', 15))\n",
        "Activity = list(itertools.repeat('Climbing up', 15))\n",
        "\n",
        "\n",
        "info = {'Subject':subject,'Accelerometer Axis':acc_axis,'Permutation Entropy': Permutation_Entropy , 'Complexity': Complexity}\n",
        "\n",
        "print(tabulate(info, headers='keys'))"
      ],
      "metadata": {
        "id": "qdjTIN3ZaVup"
      },
      "execution_count": null,
      "outputs": []
    },
    {
      "cell_type": "code",
      "source": [
        "#Running, climbing up, x axis \n",
        "\n",
        "#entropy_1024_x = [findey1(climbing_up_axis['attr_x'], 1000, , 3, 1)]\n",
        "\n",
        "\n",
        "Permutation_Entropy = [findey1(dataframes_list_cup[0], 1000, 2024, 3, 1), \n",
        "                       findey1(dataframes_list_cup[1], 1000, 2024, 3, 1), \n",
        "                       findey1(dataframes_list_cup[2], 1000, 2024, 3, 1),\n",
        "                       findey1(dataframes_list_cup[3], 1000, 2024, 3, 1),\n",
        "                       findey1(dataframes_list_cup[4], 1000, 2024, 3, 1),\n",
        "                       findey1(dataframes_list_cup[5], 1000, 2024, 3, 1),\n",
        "                       findey1(dataframes_list_cup[6], 1000, 2024, 3, 1),\n",
        "                       findey1(dataframes_list_cup[7], 1000, 2024, 3, 1),\n",
        "                       findey1(dataframes_list_cup[8], 1000, 2024, 3, 1),\n",
        "                       findey1(dataframes_list_cup[9], 1000, 2024, 3, 1),\n",
        "                       findey1(dataframes_list_cup[10], 1000, 2024, 3, 1),\n",
        "                       findey1(dataframes_list_cup[11], 1000, 2024, 3, 1),\n",
        "                       findey1(dataframes_list_cup[12], 1000, 2024, 3, 1),\n",
        "                       findey1(dataframes_list_cup[13], 1000, 2024, 3, 1),\n",
        "                       findey1(dataframes_list_cup[14], 1000, 2024, 3, 1)]\n",
        "Complexity = [findey1(dataframes_list_cup[0], 1000, 2024, 3, 1), \n",
        "                       findey1(dataframes_list_cup[1], 1000, 2024, 3, 1), \n",
        "                       findey1(dataframes_list_cup[2], 1000, 2024, 3, 1),\n",
        "                       findey1(dataframes_list_cup[3], 1000, 2024, 3, 1),\n",
        "                       findey1(dataframes_list_cup[4], 1000, 2024, 3, 1),\n",
        "                       findey1(dataframes_list_cup[5], 1000, 2024, 3, 1),\n",
        "                       findey1(dataframes_list_cup[6], 1000, 2024, 3, 1),\n",
        "                       findey1(dataframes_list_cup[7], 1000, 2024, 3, 1),\n",
        "                       findey1(dataframes_list_cup[8], 1000, 2024, 3, 1),\n",
        "                       findey1(dataframes_list_cup[9], 1000, 2024, 3, 1),\n",
        "                       findey1(dataframes_list_cup[10], 1000, 2024, 3, 1),\n",
        "                       findey1(dataframes_list_cup[11], 1000, 2024, 3, 1),\n",
        "                       findey1(dataframes_list_cup[12], 1000, 2024, 3, 1),\n",
        "                       findey1(dataframes_list_cup[13], 1000, 2024, 3, 1),\n",
        "                       findey1(dataframes_list_cup[14], 1000, 2024, 3, 1)]\n",
        "\n",
        "subject = list(range(1,16))\n",
        "acc_axis = list(itertools.repeat('y', 15))\n",
        "Activity = list(itertools.repeat('Climbing up', 15))\n",
        "\n",
        "\n",
        "info = {'Subject':subject,'Accelerometer Axis':acc_axis,'Permutation Entropy': Permutation_Entropy , 'Complexity': Complexity, 'Activity': Activity}\n",
        "\n",
        "print(tabulate(info, headers='keys'))"
      ],
      "metadata": {
        "id": "SVMaRYiodmol"
      },
      "execution_count": null,
      "outputs": []
    },
    {
      "cell_type": "code",
      "source": [
        "#Running, climbing up, x axis \n",
        "\n",
        "#entropy_1024_x = [findez1(climbing_up_axis['attr_x'], 1000, , 3, 1)]\n",
        "\n",
        "\n",
        "Permutation_Entropy = [findez1(dataframes_list_cup[0], 1000, 2024, 3, 1), \n",
        "                       findez1(dataframes_list_cup[1], 1000, 2024, 3, 1), \n",
        "                       findez1(dataframes_list_cup[2], 1000, 2024, 3, 1),\n",
        "                       findez1(dataframes_list_cup[3], 1000, 2024, 3, 1),\n",
        "                       findez1(dataframes_list_cup[4], 1000, 2024, 3, 1),\n",
        "                       findez1(dataframes_list_cup[5], 1000, 2024, 3, 1),\n",
        "                       findez1(dataframes_list_cup[6], 1000, 2024, 3, 1),\n",
        "                       findez1(dataframes_list_cup[7], 1000, 2024, 3, 1),\n",
        "                       findez1(dataframes_list_cup[8], 1000, 2024, 3, 1),\n",
        "                       findez1(dataframes_list_cup[9], 1000, 2024, 3, 1),\n",
        "                       findez1(dataframes_list_cup[10], 1000, 2024, 3, 1),\n",
        "                       findez1(dataframes_list_cup[11], 1000, 2024, 3, 1),\n",
        "                       findez1(dataframes_list_cup[12], 1000, 2024, 3, 1),\n",
        "                       findez1(dataframes_list_cup[13], 1000, 2024, 3, 1),\n",
        "                       findez1(dataframes_list_cup[14], 1000, 2024, 3, 1)]\n",
        "Complexity = [findez1(dataframes_list_cup[0], 1000, 2024, 3, 1), \n",
        "                       findez1(dataframes_list_cup[1], 1000, 2024, 3, 1), \n",
        "                       findez1(dataframes_list_cup[2], 1000, 2024, 3, 1),\n",
        "                       findez1(dataframes_list_cup[3], 1000, 2024, 3, 1),\n",
        "                       findez1(dataframes_list_cup[4], 1000, 2024, 3, 1),\n",
        "                       findez1(dataframes_list_cup[5], 1000, 2024, 3, 1),\n",
        "                       findez1(dataframes_list_cup[6], 1000, 2024, 3, 1),\n",
        "                       findez1(dataframes_list_cup[7], 1000, 2024, 3, 1),\n",
        "                       findez1(dataframes_list_cup[8], 1000, 2024, 3, 1),\n",
        "                       findez1(dataframes_list_cup[9], 1000, 2024, 3, 1),\n",
        "                       findez1(dataframes_list_cup[10], 1000, 2024, 3, 1),\n",
        "                       findez1(dataframes_list_cup[11], 1000, 2024, 3, 1),\n",
        "                       findez1(dataframes_list_cup[12], 1000, 2024, 3, 1),\n",
        "                       findez1(dataframes_list_cup[13], 1000, 2024, 3, 1),\n",
        "                       findez1(dataframes_list_cup[14], 1000, 2024, 3, 1)]\n",
        "\n",
        "subject = list(range(1,16))\n",
        "acc_axis = list(itertools.repeat('z', 15))\n",
        "Activity = list(itertools.repeat('Climbing up', 15))\n",
        "\n",
        "\n",
        "info = {'Subject':subject,'Accelerometer Axis':acc_axis,'Permutation Entropy': Permutation_Entropy , 'Complexity': Complexity}\n",
        "\n",
        "print(tabulate(info, headers='keys'))"
      ],
      "metadata": {
        "id": "yN2RYaoJdweC"
      },
      "execution_count": null,
      "outputs": []
    },
    {
      "cell_type": "code",
      "source": [
        "#Running, climbing down, z axis \n",
        "\n",
        "#entropy_1024_x = [findez1(climbing_down_axis['attr_x'], 1000, , 3, 1)]\n",
        "\n",
        "\n",
        "Permutation_Entropy = [findez1(dataframes_list_cd[0], 1000, 2024, 3, 1), \n",
        "                       findez1(dataframes_list_cd[1], 1000, 2024, 3, 1), \n",
        "                       findez1(dataframes_list_cd[2], 1000, 2024, 3, 1),\n",
        "                       findez1(dataframes_list_cd[3], 1000, 2024, 3, 1),\n",
        "                       findez1(dataframes_list_cd[4], 1000, 2024, 3, 1),\n",
        "                       findez1(dataframes_list_cd[5], 1000, 2024, 3, 1),\n",
        "                       findez1(dataframes_list_cd[6], 1000, 2024, 3, 1),\n",
        "                       findez1(dataframes_list_cd[7], 1000, 2024, 3, 1),\n",
        "                       findez1(dataframes_list_cd[8], 1000, 2024, 3, 1),\n",
        "                       findez1(dataframes_list_cd[9], 1000, 2024, 3, 1),\n",
        "                       findez1(dataframes_list_cd[10], 1000, 2024, 3, 1),\n",
        "                       findez1(dataframes_list_cd[11], 1000, 2024, 3, 1),\n",
        "                       findez1(dataframes_list_cd[12], 1000, 2024, 3, 1),\n",
        "                       findez1(dataframes_list_cd[13], 1000, 2024, 3, 1),\n",
        "                       findez1(dataframes_list_cd[14], 1000, 2024, 3, 1)]\n",
        "Complexity = [findez1(dataframes_list_cd[0], 1000, 2024, 3, 1), \n",
        "                       findez1(dataframes_list_cd[1], 1000, 2024, 3, 1), \n",
        "                       findez1(dataframes_list_cd[2], 1000, 2024, 3, 1),\n",
        "                       findez1(dataframes_list_cd[3], 1000, 2024, 3, 1),\n",
        "                       findez1(dataframes_list_cd[4], 1000, 2024, 3, 1),\n",
        "                       findez1(dataframes_list_cd[5], 1000, 2024, 3, 1),\n",
        "                       findez1(dataframes_list_cd[6], 1000, 2024, 3, 1),\n",
        "                       findez1(dataframes_list_cd[7], 1000, 2024, 3, 1),\n",
        "                       findez1(dataframes_list_cd[8], 1000, 2024, 3, 1),\n",
        "                       findez1(dataframes_list_cd[9], 1000, 2024, 3, 1),\n",
        "                       findez1(dataframes_list_cd[10], 1000, 2024, 3, 1),\n",
        "                       findez1(dataframes_list_cd[11], 1000, 2024, 3, 1),\n",
        "                       findez1(dataframes_list_cd[12], 1000, 2024, 3, 1),\n",
        "                       findez1(dataframes_list_cd[13], 1000, 2024, 3, 1),\n",
        "                       findez1(dataframes_list_cd[14], 1000, 2024, 3, 1)]\n",
        "\n",
        "subject = list(range(1,16))\n",
        "acc_axis = list(itertools.repeat('z', 15))\n",
        "Activity = list(itertools.repeat('Climbing down', 15))\n",
        "\n",
        "\n",
        "info = {'Subject':subject,'Accelerometer Axis':acc_axis,'Permutation Entropy': Permutation_Entropy , 'Complexity': Complexity}\n",
        "\n",
        "print(tabulate(info, headers='keys'))#Running, climbing down, x axis \n",
        "\n",
        "#entropy_1024_x = [findez1(climbing_down_axis['attr_x'], 1000, , 3, 1)]\n",
        "\n",
        "\n",
        "Permutation_Entropy = [findez1(dataframes_list_cd[0], 1000, 2024, 3, 1), \n",
        "                       findez1(dataframes_list_cd[1], 1000, 2024, 3, 1), \n",
        "                       findez1(dataframes_list_cd[2], 1000, 2024, 3, 1),\n",
        "                       findez1(dataframes_list_cd[3], 1000, 2024, 3, 1),\n",
        "                       findez1(dataframes_list_cd[4], 1000, 2024, 3, 1),\n",
        "                       findez1(dataframes_list_cd[5], 1000, 2024, 3, 1),\n",
        "                       findez1(dataframes_list_cd[6], 1000, 2024, 3, 1),\n",
        "                       findez1(dataframes_list_cd[7], 1000, 2024, 3, 1),\n",
        "                       findez1(dataframes_list_cd[8], 1000, 2024, 3, 1),\n",
        "                       findez1(dataframes_list_cd[9], 1000, 2024, 3, 1),\n",
        "                       findez1(dataframes_list_cd[10], 1000, 2024, 3, 1),\n",
        "                       findez1(dataframes_list_cd[11], 1000, 2024, 3, 1),\n",
        "                       findez1(dataframes_list_cd[12], 1000, 2024, 3, 1),\n",
        "                       findez1(dataframes_list_cd[13], 1000, 2024, 3, 1),\n",
        "                       findez1(dataframes_list_cd[14], 1000, 2024, 3, 1)]\n",
        "Complexity = [         findez1(dataframes_list_cd[0], 1000, 2024, 3, 1), \n",
        "                       findez1(dataframes_list_cd[1], 1000, 2024, 3, 1), \n",
        "                       findez1(dataframes_list_cd[2], 1000, 2024, 3, 1),\n",
        "                       findez1(dataframes_list_cd[3], 1000, 2024, 3, 1),\n",
        "                       findez1(dataframes_list_cd[4], 1000, 2024, 3, 1),\n",
        "                       findez1(dataframes_list_cd[5], 1000, 2024, 3, 1),\n",
        "                       findez1(dataframes_list_cd[6], 1000, 2024, 3, 1),\n",
        "                       findez1(dataframes_list_cd[7], 1000, 2024, 3, 1),\n",
        "                       findez1(dataframes_list_cd[8], 1000, 2024, 3, 1),\n",
        "                       findez1(dataframes_list_cd[9], 1000, 2024, 3, 1),\n",
        "                       findez1(dataframes_list_cd[10], 1000, 2024, 3, 1),\n",
        "                       findez1(dataframes_list_cd[11], 1000, 2024, 3, 1),\n",
        "                       findez1(dataframes_list_cd[12], 1000, 2024, 3, 1),\n",
        "                       findez1(dataframes_list_cd[13], 1000, 2024, 3, 1),\n",
        "                       findez1(dataframes_list_cd[14], 1000, 2024, 3, 1)]\n",
        "\n",
        "subject = list(range(1,16))\n",
        "acc_axis = list(itertools.repeat('z', 15))\n",
        "Activity = list(itertools.repeat('Climbing down', 15))\n",
        "\n",
        "\n",
        "info = {'Subject':subject,'Accelerometer Axis':acc_axis,'Permutation Entropy': Permutation_Entropy , 'Complexity': Complexity}\n",
        "\n",
        "print(tabulate(info, headers='keys'))"
      ],
      "metadata": {
        "colab": {
          "base_uri": "https://localhost:8080/"
        },
        "id": "Bge8dG-Dd9yA",
        "outputId": "2db5a6ff-2ad8-4ac9-9965-28277164b396"
      },
      "execution_count": 100,
      "outputs": [
        {
          "output_type": "stream",
          "name": "stdout",
          "text": [
            "  Subject  Accelerometer Axis      Permutation Entropy    Complexity\n",
            "---------  --------------------  ---------------------  ------------\n",
            "        1  z                                  0.860857      0.860857\n",
            "        2  z                                  0.959233      0.959233\n",
            "        3  z                                  0.932528      0.932528\n",
            "        4  z                                  0.922981      0.922981\n",
            "        5  z                                  0.946885      0.946885\n",
            "        6  z                                  0.873877      0.873877\n",
            "        7  z                                  0.913067      0.913067\n",
            "        8  z                                  0.859913      0.859913\n",
            "        9  z                                  0.90411       0.90411\n",
            "       10  z                                  0.941371      0.941371\n",
            "       11  z                                  0.914318      0.914318\n",
            "       12  z                                  0.903955      0.903955\n",
            "       13  z                                  0.8526        0.8526\n",
            "       14  z                                  0.922773      0.922773\n",
            "       15  z                                  0.8768        0.8768\n",
            "  Subject  Accelerometer Axis      Permutation Entropy    Complexity\n",
            "---------  --------------------  ---------------------  ------------\n",
            "        1  z                                  0.860857      0.860857\n",
            "        2  z                                  0.959233      0.959233\n",
            "        3  z                                  0.932528      0.932528\n",
            "        4  z                                  0.922981      0.922981\n",
            "        5  z                                  0.946885      0.946885\n",
            "        6  z                                  0.873877      0.873877\n",
            "        7  z                                  0.913067      0.913067\n",
            "        8  z                                  0.859913      0.859913\n",
            "        9  z                                  0.90411       0.90411\n",
            "       10  z                                  0.941371      0.941371\n",
            "       11  z                                  0.914318      0.914318\n",
            "       12  z                                  0.903955      0.903955\n",
            "       13  z                                  0.8526        0.8526\n",
            "       14  z                                  0.922773      0.922773\n",
            "       15  z                                  0.8768        0.8768\n"
          ]
        }
      ]
    },
    {
      "cell_type": "code",
      "source": [
        "#Running, climbing down, x axis \n",
        "\n",
        "#entropy_1024_x = [findex1(climbing_down_axis['attr_x'], 1000, , 3, 1)]\n",
        "\n",
        "\n",
        "Permutation_Entropy = [findex1(dataframes_list_cd[0], 1000, 2024, 3, 1), \n",
        "                       findex1(dataframes_list_cd[1], 1000, 2024, 3, 1), \n",
        "                       findex1(dataframes_list_cd[2], 1000, 2024, 3, 1),\n",
        "                       findex1(dataframes_list_cd[3], 1000, 2024, 3, 1),\n",
        "                       findex1(dataframes_list_cd[4], 1000, 2024, 3, 1),\n",
        "                       findex1(dataframes_list_cd[5], 1000, 2024, 3, 1),\n",
        "                       findex1(dataframes_list_cd[6], 1000, 2024, 3, 1),\n",
        "                       findex1(dataframes_list_cd[7], 1000, 2024, 3, 1),\n",
        "                       findex1(dataframes_list_cd[8], 1000, 2024, 3, 1),\n",
        "                       findex1(dataframes_list_cd[9], 1000, 2024, 3, 1),\n",
        "                       findex1(dataframes_list_cd[10], 1000, 2024, 3, 1),\n",
        "                       findex1(dataframes_list_cd[11], 1000, 2024, 3, 1),\n",
        "                       findex1(dataframes_list_cd[12], 1000, 2024, 3, 1),\n",
        "                       findex1(dataframes_list_cd[13], 1000, 2024, 3, 1),\n",
        "                       findex1(dataframes_list_cd[14], 1000, 2024, 3, 1)]\n",
        "Complexity = [findex1(dataframes_list_cd[0], 1000, 2024, 3, 1), \n",
        "                       findex1(dataframes_list_cd[1], 1000, 2024, 3, 1), \n",
        "                       findex1(dataframes_list_cd[2], 1000, 2024, 3, 1),\n",
        "                       findex1(dataframes_list_cd[3], 1000, 2024, 3, 1),\n",
        "                       findex1(dataframes_list_cd[4], 1000, 2024, 3, 1),\n",
        "                       findex1(dataframes_list_cd[5], 1000, 2024, 3, 1),\n",
        "                       findex1(dataframes_list_cd[6], 1000, 2024, 3, 1),\n",
        "                       findex1(dataframes_list_cd[7], 1000, 2024, 3, 1),\n",
        "                       findex1(dataframes_list_cd[8], 1000, 2024, 3, 1),\n",
        "                       findex1(dataframes_list_cd[9], 1000, 2024, 3, 1),\n",
        "                       findex1(dataframes_list_cd[10], 1000, 2024, 3, 1),\n",
        "                       findex1(dataframes_list_cd[11], 1000, 2024, 3, 1),\n",
        "                       findex1(dataframes_list_cd[12], 1000, 2024, 3, 1),\n",
        "                       findex1(dataframes_list_cd[13], 1000, 2024, 3, 1),\n",
        "                       findex1(dataframes_list_cd[14], 1000, 2024, 3, 1)]\n",
        "\n",
        "subject = list(range(1,16))\n",
        "acc_axis = list(itertools.repeat('x', 15))\n",
        "Activity = list(itertools.repeat('Climbing down', 15))\n",
        "\n",
        "\n",
        "info = {'Subject':subject,'Accelerometer Axis':acc_axis,'Permutation Entropy': Permutation_Entropy , 'Complexity': Complexity}\n",
        "\n",
        "print(tabulate(info, headers='keys'))"
      ],
      "metadata": {
        "colab": {
          "base_uri": "https://localhost:8080/"
        },
        "id": "YqeCUEyoh7rz",
        "outputId": "0be770ea-e4ca-45ee-88c3-6ea409acedf7"
      },
      "execution_count": 101,
      "outputs": [
        {
          "output_type": "stream",
          "name": "stdout",
          "text": [
            "  Subject  Accelerometer Axis      Permutation Entropy    Complexity\n",
            "---------  --------------------  ---------------------  ------------\n",
            "        1  x                                  0.759158      0.759158\n",
            "        2  x                                  0.884604      0.884604\n",
            "        3  x                                  0.843634      0.843634\n",
            "        4  x                                  0.867223      0.867223\n",
            "        5  x                                  0.908787      0.908787\n",
            "        6  x                                  0.804359      0.804359\n",
            "        7  x                                  0.871257      0.871257\n",
            "        8  x                                  0.744737      0.744737\n",
            "        9  x                                  0.858181      0.858181\n",
            "       10  x                                  0.906808      0.906808\n",
            "       11  x                                  0.804555      0.804555\n",
            "       12  x                                  0.847445      0.847445\n",
            "       13  x                                  0.783862      0.783862\n",
            "       14  x                                  0.887559      0.887559\n",
            "       15  x                                  0.806989      0.806989\n"
          ]
        }
      ]
    },
    {
      "cell_type": "code",
      "source": [
        ""
      ],
      "metadata": {
        "id": "c_L1apArjPWj"
      },
      "execution_count": null,
      "outputs": []
    }
  ]
}